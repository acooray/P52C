{
 "cells": [
  {
   "cell_type": "markdown",
   "metadata": {},
   "source": [
    "# Lab 2 Notebook: Standard Deviation and the Frank-Hertz experiment\n",
    "written by Marshall Campbell marshaac@uci.edu\n",
    "\n",
    "This notebook will attempt to simulate Physics 52C Lab 2. Only edit cells where explicitly indicated."
   ]
  },
  {
   "cell_type": "markdown",
   "metadata": {},
   "source": [
    "#### Premise:\n",
    "The Frank-Hertz experiment involves accelerating electrons through a chamber of mercury vapor from a cathode to a perforated anode. Beyond the anode, a retarding potential is applied between the perforated anode and the collecting plate. This retarding potential ensures that only electrons with energy above some threshold energy will contribute to the measured current carried from the collecting plate to the picoammeter. As the electron energy increases, more electrons will surpass the threshold energy neccessary to reach the collector plate, thus increasing the measured current. However, once the electrons have sufficient energy some electrons will collide with the mercury atoms and lose some of their energy by exciting the elctrons bound to the mercury atoms to a higher energy level. After losing this energy, they will not have enough to reach the collector plate. This is demonstrated via a marked drop in the measured current. As the accelerating voltage is increeased further, the current will again increase until the electrons have enough energy to undergo a second consecutive collision and a second drop in current will be observed. Thus, as we increase the accellerating voltage of the electrons through this aparatus, we should observe an oscillatory behavior in the current measured from the collector plate.\n",
    "\n",
    "Classically, we might expect that the energy lost by the elctrons during the collision would be a continuous distribution, but what we observe in this experiment is discrete intervals between successive drops in the measured current, indicating that the electrons are losing a quantized amount of energy during each collision! This experiment demonstrated that energy levels of bound electrons are indeed discrete and earned J. Frank and G. Hertz the nobel prize in 1925."
   ]
  },
  {
   "cell_type": "code",
   "execution_count": 3,
   "metadata": {},
   "outputs": [],
   "source": [
    "import pandas as pd\n",
    "import numpy as np\n",
    "import matplotlib.pyplot as plt\n",
    "import seaborn as sns\n",
    "sns.set(style=\"darkgrid\")"
   ]
  },
  {
   "cell_type": "markdown",
   "metadata": {},
   "source": [
    "### Here is an array of the raw data one would get from a typical Frank-Hertz experiment. Below this is the data plotted. These may be useful when finding maxima and minima. "
   ]
  },
  {
   "cell_type": "code",
   "execution_count": 4,
   "metadata": {},
   "outputs": [
    {
     "name": "stdout",
     "output_type": "stream",
     "text": [
      "       voltage   current\n",
      "0     1.152454  0.000257\n",
      "1     1.944399  0.012319\n",
      "2     3.025192  0.000629\n",
      "3     4.105250  0.012748\n",
      "4     5.113279  0.024853\n",
      "5     5.905224  0.036915\n",
      "6     6.912519  0.072829\n",
      "7     7.920916  0.073029\n",
      "8     9.000974  0.085148\n",
      "9    10.080664  0.109172\n",
      "10   11.014461  0.192690\n",
      "11   11.588850  0.252328\n",
      "12   12.380060  0.288199\n",
      "13   13.173842  0.240738\n",
      "14   14.039285  0.205195\n",
      "15   14.900685  0.300604\n",
      "16   15.690792  0.372189\n",
      "17   15.830807  0.503170\n",
      "18   15.827499  0.610312\n",
      "19   16.185804  0.669907\n",
      "20   16.978116  0.670064\n",
      "21   17.630046  0.551146\n",
      "22   18.065156  0.455994\n",
      "23   18.355475  0.384623\n",
      "24   19.362769  0.420537\n",
      "25   19.863293  0.539684\n",
      "26   19.788325  0.634907\n",
      "27   20.288481  0.765959\n",
      "28   20.428863  0.885034\n",
      "29   20.641273  1.004124\n",
      "30   20.853316  1.135119\n",
      "31   20.995167  1.206575\n",
      "32   21.282178  1.242346\n",
      "33   21.572497  1.170976\n",
      "34   21.718391  1.111481\n",
      "35   22.007240  1.087728\n",
      "36   22.156441  0.921091\n",
      "37   22.376936  0.778278\n",
      "38   22.666152  0.742621\n",
      "39   22.884810  0.659331\n",
      "40   22.959778  0.564108\n",
      "41   23.392683  0.540384\n",
      "42   24.039101  0.600036\n",
      "43   24.325377  0.659617\n",
      "44   24.322437  0.754854\n",
      "45   24.462452  0.885835\n",
      "46   24.674862  1.004924\n",
      "47   24.957463  1.183552\n",
      "48   25.097845  1.302627\n",
      "49   25.385223  1.326494\n",
      "50   25.450637  1.540793\n",
      "51   25.446227  1.683649\n",
      "52   25.735075  1.659897\n",
      "53   25.872150  1.886114\n",
      "54   26.086030  1.957585\n",
      "55   26.446907  1.933847\n",
      "56   26.594638  1.814829\n",
      "57   26.742370  1.695811\n",
      "58   26.819176  1.541064\n",
      "59   27.037466  1.469679\n",
      "60   27.040773  1.362537\n",
      "61   27.188137  1.255423\n",
      "62   27.262738  1.172105\n",
      "63   27.551219  1.160257\n",
      "64   27.627657  1.017415\n",
      "65   27.777594  0.826969\n",
      "66   27.920916  0.850807\n",
      "67   27.923488  0.767474\n",
      "68   27.997354  0.707965\n",
      "69   28.500818  0.731874\n",
      "70   28.785991  0.827169\n",
      "71   28.928210  0.886721\n",
      "72   29.072267  0.886749\n",
      "73   29.067490  1.041510\n",
      "74   29.136578  1.136762\n",
      "75   29.497455  1.113024\n",
      "76   29.565074  1.255895\n",
      "77   29.701046  1.517826\n",
      "78   29.917131  1.517869\n",
      "79   29.764989  1.779744\n",
      "80   30.124763  1.791720\n",
      "81   30.049060  1.910753\n",
      "82   29.974459  1.994071\n",
      "83   30.335336  1.970333\n",
      "84   30.259265  2.101271\n",
      "85   30.402955  2.113204\n",
      "86   30.465428  2.422740\n",
      "87   30.389357  2.553677\n",
      "88   30.605810  2.541815\n",
      "89   30.819323  2.625191\n",
      "90   30.817485  2.684715\n",
      "91   31.106701  2.649058\n",
      "92   31.397387  2.565782\n",
      "93   31.543281  2.506287\n",
      "94   31.691013  2.387269\n",
      "95   31.846462  2.018252\n",
      "96   31.850137  1.899205\n",
      "97   31.994929  1.875424\n",
      "98   32.217629  1.661183\n",
      "99   32.297374  1.411199\n",
      "100  32.445473  1.280276\n",
      "101  32.736527  1.185095\n",
      "102  32.886096  1.006554\n",
      "103  33.104386  0.935168\n",
      "104  33.320839  0.923307\n",
      "105  33.463058  0.982859\n",
      "106  33.532146  1.078110\n",
      "107  33.961377  1.173434\n",
      "108  33.956599  1.328195\n",
      "109  34.172684  1.328237\n",
      "110  34.166069  1.542522\n",
      "111  34.593095  1.709273\n",
      "112  34.513717  1.947353\n",
      "113  34.795950  2.137885\n",
      "114  34.788600  2.375979\n",
      "115  35.075979  2.399845\n",
      "116  35.070099  2.590320\n",
      "117  35.430976  2.566582\n",
      "118  35.348290  2.911804\n",
      "119  35.415174  3.078484\n",
      "120  35.629421  3.138050\n",
      "121  35.624644  3.292811\n",
      "122  35.691160  3.471396\n",
      "123  36.125535  3.400053\n",
      "124  36.129210  3.281007\n",
      "125  36.490822  3.233459\n",
      "126  36.717197  2.900171\n",
      "127  36.798780  2.590663\n",
      "128  36.874116  2.483535\n",
      "129  36.949084  2.388312\n",
      "130  37.174724  2.078833\n",
      "131  37.255205  1.805040\n",
      "132  37.619021  1.686064\n",
      "133  37.550300  1.578908\n",
      "134  37.625269  1.483684\n",
      "135  37.988718  1.376614\n",
      "136  38.136817  1.245691\n",
      "137  38.567150  1.305300\n",
      "138  38.923984  1.412514\n",
      "139  38.919574  1.555370\n",
      "140  39.201808  1.745902\n",
      "141  39.124635  1.912553\n",
      "142  39.340352  1.924501\n",
      "143  39.400621  2.305465\n",
      "144  39.616339  2.317413\n",
      "145  39.680650  2.567426\n",
      "146  39.673667  2.793615\n",
      "147  39.671462  2.865043\n",
      "148  39.959208  2.877005\n",
      "149  40.020212  3.234160\n",
      "150  40.228212  3.496106\n",
      "151  40.220495  3.746104\n",
      "152  40.147732  3.769899\n",
      "153  40.217555  3.841342\n",
      "154  40.216453  3.877056\n",
      "155  40.502361  3.948541\n",
      "156  40.640538  4.139045\n",
      "157  41.073076  4.127226\n",
      "158  41.290998  4.067745\n",
      "159  41.222645  3.948684\n",
      "160  41.443507  3.793966\n",
      "161  41.665840  3.591629\n",
      "162  41.677967  3.198774\n",
      "163  41.973063  2.972642\n",
      "164  42.128879  2.591721\n",
      "165  42.421403  2.448922\n",
      "166  42.645940  2.175157\n",
      "167  42.581629  1.925144\n",
      "168  42.727891  1.853744\n",
      "169  42.947651  1.734740\n",
      "170  43.454054  1.663412\n",
      "171  43.523510  1.746759\n",
      "172  43.592231  1.853916\n",
      "173  43.588556  1.972963\n",
      "174  43.731143  2.020610\n",
      "175  44.085038  2.223061\n",
      "176  44.224684  2.365946\n",
      "177  44.216967  2.615945\n",
      "178  44.286056  2.711196\n",
      "179  44.424232  2.901700\n",
      "180  44.567922  2.913633\n",
      "181  44.913364  3.389892\n",
      "182  44.972163  3.818475\n",
      "183  45.331202  3.854261\n",
      "184  45.318707  4.259020\n",
      "185  45.528177  4.473348\n",
      "186  45.376036  4.735222\n",
      "187  45.373831  4.806650\n",
      "188  45.587344  4.890026\n",
      "189  45.946015  4.937716\n",
      "190  46.020984  4.842493\n",
      "191  46.386271  4.675899\n",
      "192  46.463811  4.497343\n",
      "193  46.616320  4.223564\n",
      "194  46.769197  3.937880\n",
      "195  46.995204  3.616496\n",
      "196  47.211289  3.616539\n",
      "197  47.368943  3.176094\n",
      "198  47.666244  2.878534\n",
      "199  47.462286  2.485636\n",
      "200  47.897029  2.402389\n",
      "201  48.118259  2.235766\n",
      "202  48.478768  2.223933\n",
      "203  48.761737  2.390656\n",
      "204  49.041765  2.652616\n",
      "205  49.177002  2.938357\n",
      "206  49.161200  3.450259\n",
      "207  49.659519  3.640834\n",
      "208  49.577201  3.974151\n",
      "209  49.856127  4.271825\n",
      "210  49.920071  4.533743\n",
      "211  49.913456  4.748027\n",
      "212  50.261470  5.140953\n",
      "213  50.614997  5.355309\n",
      "214  50.678573  5.629131\n",
      "215  50.676736  5.688655\n",
      "216  51.180567  5.700660\n",
      "217  51.409882  5.272134\n",
      "218  51.704978  5.046002\n",
      "219  51.852342  4.938888\n",
      "220  52.228653  4.415153\n",
      "221  52.239311  4.069917\n",
      "222  52.455396  4.069960\n",
      "223  52.462011  3.855676\n",
      "224  52.835750  3.415274\n",
      "225  53.058817  3.189128\n",
      "226  53.204711  3.129633\n",
      "227  53.353545  2.974900\n",
      "228  53.712952  2.998781\n",
      "229  54.069052  3.129804\n",
      "230  53.991878  3.296456\n",
      "231  54.279257  3.320322\n",
      "232  54.267497  3.701272\n",
      "233  54.259412  3.963175\n",
      "234  54.257942  4.010794\n",
      "235  54.328133  4.070332\n",
      "236  54.326663  4.117951\n",
      "237  54.180402  4.189350\n",
      "238  54.544586  4.058470\n",
      "239  54.601547  4.546577\n",
      "240  54.591257  4.879908\n",
      "241  54.655201  5.141825\n",
      "242  54.726127  5.177554\n",
      "243  55.077081  5.475242\n",
      "244  55.343880  6.165771\n",
      "245  55.481322  6.380084\n",
      "246  55.477280  6.511036\n",
      "247  55.615824  6.689635\n",
      "248  55.831909  6.689678\n",
      "249  56.119655  6.701640\n",
      "250  56.190581  6.737368\n",
      "251  56.337578  6.642159\n",
      "252  56.482002  6.630283\n",
      "253  56.698087  6.630326\n",
      "254  56.923360  6.332751\n",
      "255  57.085056  5.761355\n",
      "256  57.091303  5.558975\n",
      "257  57.241607  5.356624\n",
      "258  57.457693  5.356667\n",
      "259  57.829962  4.963884\n",
      "260  57.766018  4.701966\n",
      "261  58.205171  4.475863\n",
      "262  58.354740  4.297321\n",
      "263  58.715617  4.273583\n",
      "264  58.713044  4.356916\n",
      "265  58.927659  4.404578\n",
      "266  58.992338  4.642686\n",
      "267  58.986458  4.833161\n",
      "268  58.984988  4.880780\n",
      "269  59.196663  5.023679\n",
      "270  59.122430  5.095093\n",
      "271  59.119857  5.178425\n",
      "272  59.264282  5.166549\n",
      "273  59.469342  5.523733\n",
      "274  59.592452  6.202329\n",
      "275  59.879095  6.250005\n",
      "276  59.798615  6.523798\n",
      "277  60.154347  6.666726\n",
      "278  60.212410  7.119118\n",
      "279  60.497584  7.214413\n",
      "280  60.495011  7.297746\n",
      "281  60.636496  7.381107\n",
      "282  60.996270  7.393083\n"
     ]
    }
   ],
   "source": [
    "df = pd.read_csv('FrankHertzData.csv')\n",
    "df.columns = ['voltage', 'current']\n",
    "voltage = df.voltage.to_numpy()\n",
    "current = df.current.to_numpy()\n",
    "\n",
    "pd.set_option(\"display.max_rows\", None, \"display.max_columns\", None)\n",
    "print(df)"
   ]
  },
  {
   "cell_type": "markdown",
   "metadata": {},
   "source": [
    "### In the following cell you may adjust xlim and ylim to focus on a certain part of the plotted data. Feel free to also copy the above data to excel or use with some other program if easier to find minima and maxima outside of this notebook, but enter your results to this notebook at the bottom. "
   ]
  },
  {
   "cell_type": "code",
   "execution_count": 5,
   "metadata": {},
   "outputs": [
    {
     "data": {
      "text/plain": [
       "<Figure size 432x288 with 0 Axes>"
      ]
     },
     "metadata": {},
     "output_type": "display_data"
    },
    {
     "data": {
      "image/png": "[encoded data removed]",
      "text/plain": [
       "<Figure size 720x720 with 1 Axes>"
      ]
     },
     "metadata": {},
     "output_type": "display_data"
    }
   ],
   "source": [
    "###################################################################################################################\n",
    "### Adjust the range of the graph axes, this will help you find maxima and minima by eye.                              ###\n",
    "### To see the full plot, set the values to [None,None].                                                       ###\n",
    "###################################################################################################################\n",
    "\n",
    "xlim = [None,None]\n",
    "ylim = [None,None]\n",
    "\n",
    "################################# DO NOT ADJUST ANYTHING ELSE IN THE CELL #########################################\n",
    "fig = plt.figure()\n",
    "plt.figure(figsize=(10,10))\n",
    "plt.plot(voltage,current)\n",
    "plt.ylim(ylim)\n",
    "plt.xlim(xlim)\n",
    "\n",
    "if xlim != [None,None]:\n",
    "    plt.xticks(np.arange(xlim[0], xlim[1], (xlim[1]-xlim[0])/10)) \n",
    "else:\n",
    "    plt.xticks(np.arange(0,65,5))\n",
    "    \n",
    "    \n",
    "if ylim != [None,None]:\n",
    "    plt.yticks(np.arange(ylim[0], ylim[1], (ylim[1]-ylim[0])/10))\n",
    "else:\n",
    "    plt.yticks(np.arange(0,8,0.5))\n",
    "\n",
    "plt.xlabel('Voltage (Volts)')\n",
    "plt.ylabel('Current (Amperes)')\n",
    "plt.title('Frank Hertz Experiment Data')\n",
    "plt.show()"
   ]
  },
  {
   "cell_type": "markdown",
   "metadata": {},
   "source": [
    "### We need to find the voltages that correspond to the maxima and minima in current. We can find these by taking the 'derivative' of this curve. Since this is a discrete data set, this will correspond to a discrete array of $\\Delta I/\\Delta V$.\n",
    "\n",
    "### I also cleaned up the data to make the graph of the derivative look better"
   ]
  },
  {
   "cell_type": "code",
   "execution_count": 6,
   "metadata": {},
   "outputs": [],
   "source": [
    "### Calculate dI/dV. Exclude values where V(i+1) < V(i); the centered formular for numerical derivative gives the best result ###\n",
    "\n",
    "dIdV = np.array([])\n",
    "\n",
    "for i in range(len(voltage)-1):\n",
    "    if voltage[i+1] > voltage[i]:\n",
    "        dIdVval = (current[i+1] - current[i-1])/2/(voltage[i+1] - voltage[i-1])\n",
    "        dIdV = np.append(dIdV, dIdVval)"
   ]
  },
  {
   "cell_type": "code",
   "execution_count": 7,
   "metadata": {},
   "outputs": [],
   "source": [
    "### delete values of voltage where dI/dV was not calculated. ###\n",
    "### Also delete last value from voltage - derivative cannot be calculated here. ###\n",
    "\n",
    "dind = np.empty(0, int)\n",
    "for i in range(len(voltage)-1):\n",
    "    if voltage[i+1] < voltage[i]:\n",
    "        dindval = np.argwhere(voltage == voltage[i+1])\n",
    "        dind = np.append(dind, dindval)\n",
    "tempvolt = np.delete(voltage, len(voltage)-1)\n",
    "tempvolt = np.delete(tempvolt,dind)"
   ]
  },
  {
   "cell_type": "code",
   "execution_count": 8,
   "metadata": {},
   "outputs": [],
   "source": [
    "### Delete outliers to make graph look better. (|dI/dV| > 3) ###\n",
    "od = np.argwhere(np.abs(dIdV) > 3)\n",
    "dIdV = np.delete(dIdV, od)\n",
    "tempvolt = np.delete(tempvolt, od)"
   ]
  },
  {
   "cell_type": "markdown",
   "metadata": {},
   "source": [
    "### Here you will find an array of voltages and the 'derivatives' and the corresponding plot. Remember, because this a discrete data set, two values are neccessary to compute the derivative. We used a centered formula for the derivatives so the first voltage $V_0$ corresponds to $(1/2)(I_{2}-I_{0})/(V_{2}-V_{0})$. \n",
    "\n",
    "### Use this along with the plot above to find the voltages at the local maxima. Then find the voltage difference between consecutive maxima. Compute the average and standard deviation of the voltage differences. Repeat for the local minima. \n",
    "\n",
    "### I have included a blank cell below the plot of dI/dV if you would like to do your calculations there. You may also do them in your calculator, mathematica, or whatever computing software you prefer."
   ]
  },
  {
   "cell_type": "code",
   "execution_count": 9,
   "metadata": {},
   "outputs": [
    {
     "name": "stdout",
     "output_type": "stream",
     "text": [
      "       Voltage     dI/dV\n",
      "0     1.152454  0.062494\n",
      "1     1.944399  0.000099\n",
      "2     3.025192  0.000099\n",
      "3     4.105250  0.005800\n",
      "4     5.113279  0.006713\n",
      "5     5.905224  0.013332\n",
      "6     6.912519  0.008958\n",
      "7     7.920916  0.002949\n",
      "8     9.000974  0.008367\n",
      "9    10.080664  0.026706\n",
      "10   11.014461  0.047460\n",
      "11   11.588850  0.034970\n",
      "12   12.380060 -0.003656\n",
      "13   13.173842 -0.025013\n",
      "14   14.039285  0.017334\n",
      "15   14.900685  0.050558\n",
      "16   15.690792  0.108892\n",
      "17   15.830807  0.234843\n",
      "18   16.185804  0.025965\n",
      "19   16.978116 -0.041115\n",
      "20   17.630046 -0.098465\n",
      "21   18.065156 -0.114775\n",
      "22   18.355475 -0.013662\n",
      "23   19.362769  0.051419\n",
      "24   19.863293  0.266088\n",
      "25   20.288481  0.195248\n",
      "26   20.428863  0.337543\n",
      "27   20.641273  0.294596\n",
      "28   20.853316  0.286033\n",
      "29   20.995167  0.125014\n",
      "30   21.282178 -0.030831\n",
      "31   21.572497 -0.150002\n",
      "32   21.718391 -0.095743\n",
      "33   22.007240 -0.217315\n",
      "34   22.156441 -0.418519\n",
      "35   22.376936 -0.175070\n",
      "36   22.666152 -0.117103\n",
      "37   22.884810 -0.303981\n",
      "38   22.959778 -0.117103\n",
      "39   23.392683  0.016644\n",
      "40   24.039101  0.063918\n",
      "41   24.325377  0.825164\n",
      "42   24.462452  0.354785\n",
      "43   24.674862  0.300718\n",
      "44   24.957463  0.351909\n",
      "45   25.097845  0.167082\n",
      "46   25.385223  0.337543\n",
      "47   25.450637  0.209367\n",
      "48   25.735075  0.237679\n",
      "49   25.872150  0.424113\n",
      "50   26.086030  0.041525\n",
      "51   26.446907 -0.140340\n",
      "52   26.594638 -0.402819\n",
      "53   26.742370 -0.609620\n",
      "54   26.819176 -0.383150\n",
      "55   27.037466 -0.402819\n",
      "56   27.040773 -0.711003\n",
      "57   27.188137 -0.428969\n",
      "58   27.262738 -0.131053\n",
      "59   27.551219 -0.211950\n",
      "60   27.627657 -0.736143\n",
      "61   27.777594 -0.284064\n",
      "62   27.920916 -0.203897\n",
      "63   27.923488 -0.934362\n",
      "64   27.997354 -0.030831\n",
      "65   28.500818  0.075576\n",
      "66   28.785991  0.181153\n",
      "67   28.928210  0.104061\n",
      "68   29.072267  1.943778\n",
      "69   29.136578  0.083162\n",
      "70   29.497455  0.139013\n",
      "71   29.565074  0.994159\n",
      "72   29.701046  0.372063\n",
      "73   29.917131  0.659459\n",
      "74   30.124763  0.104061\n",
      "75   30.335336  1.056446\n",
      "76   30.402955  0.779649\n",
      "77   30.465428  0.424113\n",
      "78   30.605810  0.083162\n",
      "79   30.819323  0.041525\n",
      "80   31.106701 -0.102545\n",
      "81   31.397387 -0.163510\n",
      "82   31.543281 -0.303981\n",
      "83   31.691013 -0.804859\n",
      "84   31.846462 -1.533596\n",
      "85   31.850137 -0.481009\n",
      "86   31.994929 -0.323847\n",
      "87   32.217629 -0.767453\n",
      "88   32.297374 -0.835892\n",
      "89   32.445473 -0.257431\n",
      "90   32.736527 -0.310608\n",
      "91   32.886096 -0.339705\n",
      "92   33.104386 -0.095743\n",
      "93   33.320839  0.066482\n",
      "94   33.463058  0.366300\n",
      "95   33.532146  0.191218\n",
      "96   33.961377  0.366300\n",
      "97   34.172684  0.453171\n",
      "98   34.593095  1.056446\n",
      "99   34.795950  0.467738\n",
      "100  35.075979  0.234843\n",
      "101  35.415174  0.402386\n",
      "102  35.629421  2.699653\n",
      "103  35.691160  0.107051\n",
      "104  36.125535 -0.217315\n",
      "105  36.129210 -0.228032\n",
      "106  36.490822 -0.323847\n",
      "107  36.717197 -1.043642\n",
      "108  36.798780 -1.327550\n",
      "109  36.874116 -0.673139\n",
      "110  36.949084 -0.673139\n",
      "111  37.174724 -0.952684\n",
      "112  37.255205 -0.442011\n",
      "113  37.625269 -0.230709\n",
      "114  37.988718 -0.232621\n",
      "115  38.136817 -0.061644\n",
      "116  38.567150  0.105964\n",
      "117  38.923984  0.600000\n",
      "118  39.201808  0.644555\n",
      "119  39.340352  0.711832\n",
      "120  39.400621  0.711832\n",
      "121  39.616339  0.467738\n",
      "122  39.680650  0.146021\n",
      "123  39.959208  0.529200\n",
      "124  40.020212  1.150729\n",
      "125  40.217555  0.188197\n",
      "126  40.502361  0.308887\n",
      "127  40.640538  0.156545\n",
      "128  41.073076 -0.054807\n",
      "129  41.290998 -0.897584\n",
      "130  41.443507 -0.402819\n",
      "131  41.665840 -1.269283\n",
      "132  41.677967 -1.007390\n",
      "133  41.973063 -0.673139\n",
      "134  42.128879 -0.584066\n",
      "135  42.421403 -0.402819\n",
      "136  42.645940 -1.961011\n",
      "137  42.727891 -0.260099\n",
      "138  42.947651 -0.131053\n",
      "139  43.454054  0.010436\n",
      "140  43.523510  0.689347\n",
      "141  43.592231  0.600000\n",
      "142  43.731143  0.251871\n",
      "143  44.085038  0.349855\n",
      "144  44.224684  2.812808\n",
      "145  44.286056  0.689347\n",
      "146  44.424232  0.359101\n",
      "147  44.567922  0.499040\n",
      "148  44.913364  1.119187\n",
      "149  44.972163  0.555680\n",
      "150  45.331202  1.571481\n",
      "151  45.528177  0.366300\n",
      "152  45.587344  0.114531\n",
      "153  45.946015 -0.054807\n",
      "154  46.020984 -0.297347\n",
      "155  46.386271 -0.389712\n",
      "156  46.463811 -0.983125\n",
      "157  46.616320 -0.915995\n",
      "158  46.769197 -0.801126\n",
      "159  46.995204 -0.363432\n",
      "160  47.211289 -0.589184\n",
      "161  47.368943 -0.811075\n",
      "162  47.666244 -1.031577\n",
      "163  47.897029 -0.190458\n",
      "164  48.118259 -0.153381\n",
      "165  48.478768  0.120353\n",
      "166  48.761737  0.380715\n",
      "167  49.041765  0.659459\n",
      "168  49.177002  0.727930\n",
      "169  49.659519  1.604694\n",
      "170  49.856127  0.816041\n",
      "171  49.920071  0.889296\n",
      "172  50.261470  0.432820\n",
      "173  50.614997  0.585201\n",
      "174  50.678573  0.071244\n",
      "175  51.180567 -0.284064\n",
      "176  51.409882 -0.624184\n",
      "177  51.704978 -0.376583\n",
      "178  51.852342 -0.602327\n",
      "179  52.228653 -1.122792\n",
      "180  52.239311 -0.761201\n",
      "181  52.455396 -0.481009\n",
      "182  52.462011 -0.860628\n",
      "183  52.835750 -0.558429\n",
      "184  53.058817 -0.387088\n",
      "185  53.204711 -0.363432\n",
      "186  53.353545 -0.128730\n",
      "187  53.712952  0.108248\n",
      "188  54.069052  0.453171\n",
      "189  54.279257  0.779649\n",
      "190  54.328133 -0.136472\n",
      "191  54.544586  0.424113\n",
      "192  54.655201  1.103459\n",
      "193  54.726127  0.395156\n",
      "194  55.077081  0.799848\n",
      "195  55.343880  1.119187\n",
      "196  55.481322  1.150729\n",
      "197  55.615824  0.251871\n",
      "198  55.831909  0.011913\n",
      "199  56.119655  0.066482\n",
      "200  56.190581 -0.136472\n",
      "201  56.337578 -0.183729\n",
      "202  56.482002 -0.016412\n",
      "203  56.698087 -0.337064\n",
      "204  56.923360 -1.122792\n",
      "205  57.085056 -2.303677\n",
      "206  57.091303 -1.292645\n",
      "207  57.241607 -0.276084\n",
      "208  57.457693 -0.333762\n",
      "209  57.829962 -0.650332\n",
      "210  58.205171 -0.343664\n",
      "211  58.354740 -0.198140\n",
      "212  58.715617  0.308887\n",
      "213  58.927659  0.511594\n",
      "214  58.992338  0.453171\n",
      "215  59.196663  0.251871\n",
      "216  59.264282  0.494024\n",
      "217  59.469342  1.578114\n",
      "218  59.592452  0.886231\n",
      "219  59.879095  0.756983\n",
      "220  60.154347  0.719341\n",
      "221  60.212410  0.797826\n",
      "222  60.497584  0.600000\n",
      "223  60.636496  0.095098\n"
     ]
    }
   ],
   "source": [
    "dva = np.array((tempvolt,dIdV)).T\n",
    "derivdf = pd.DataFrame(dva, columns=['Voltage', 'dI/dV'])\n",
    "\n",
    "pd.set_option(\"display.max_rows\", None, \"display.max_columns\", None)\n",
    "print(derivdf)"
   ]
  },
  {
   "cell_type": "markdown",
   "metadata": {},
   "source": [
    "### The cell below plots the derivative. Note that zero crossing of derivatives happen at both minima and maxima. The value of Δ𝑉 for this lab is the difference between two minima or two maxima, not the difference between minima and maxima. Therefore if using derivative skip every other zero to calculate the difference."
   ]
  },
  {
   "cell_type": "code",
   "execution_count": 10,
   "metadata": {
    "scrolled": true
   },
   "outputs": [
    {
     "data": {
      "image/png": "[encoded data removed]",
      "text/plain": [
       "<Figure size 720x720 with 1 Axes>"
      ]
     },
     "metadata": {},
     "output_type": "display_data"
    }
   ],
   "source": [
    "###################################################################################################################\n",
    "### Adjust the range of the graph axes, this will help you find maxima and minima.                              ###\n",
    "### To see the full plot, set the values to \"None, None\".                                                       ###\n",
    "###################################################################################################################\n",
    "\n",
    "xlim2 = [None,None]\n",
    "ylim2 = [None,None]\n",
    "\n",
    "############################# DO NOT ADJUST ANYTHING ELSE IN THE CELL #############################################fig = plt.figure()\n",
    "plt.figure(figsize=(10,10))\n",
    "plt.plot(tempvolt,dIdV)\n",
    "plt.ylim(ylim2)\n",
    "plt.xlim(xlim2)\n",
    "\n",
    "\n",
    "if xlim2 != [None,None]:\n",
    "    plt.xticks(np.arange(xlim2[0], xlim2[1], (xlim2[1]-xlim2[0])/10)) \n",
    "else:\n",
    "    plt.xticks(np.arange(0,65,5))\n",
    "    \n",
    "if ylim2 != [None,None]:\n",
    "    plt.yticks(np.arange(ylim2[0], ylim2[1], (ylim2[1]-ylim2[0])/10))\n",
    "else:\n",
    "    plt.yticks(np.arange(-2,5,1))\n",
    "    \n",
    "plt.xlabel('Voltage (Volts)')\n",
    "plt.ylabel('dI/dV (Amperes/Volt)')\n",
    "plt.title('dI/dV')\n",
    "plt.show()"
   ]
  },
  {
   "cell_type": "markdown",
   "metadata": {},
   "source": [
    "### The cell bellow is left blank for you to compute the voltage differences between sucessive minima/maxima and to enter your results. You may also use a calculator, excel, mathematica, or whatever computing software you prefer to gather these voltage differences. \n",
    "\n",
    "### Best to ignore all noise data below 10 V and concentrate on 10 to 60V. Note a noise related zero crossing around 54V"
   ]
  },
  {
   "cell_type": "code",
   "execution_count": null,
   "metadata": {},
   "outputs": [],
   "source": [
    "\n",
    "\n",
    "\n",
    "\n",
    "\n",
    "\n",
    "\n"
   ]
  },
  {
   "cell_type": "markdown",
   "metadata": {},
   "source": [
    "### Make two histograms of Δ𝑉-min and Δ𝑉-max using differences of minima or differences of maxima in the V vs I data to see what the distribution of your measured Δ𝑉 values look like. \n",
    "\n",
    "### If you are using excel or some other program to measure the differecnes and plot you can save those plots as png or jpeg in excel or other program and insert to this notebook using \"insert image\" option under \"Edit\" button in the Jupyter menu\n",
    "\n",
    "### Workout mean, standard deviation, and standard error of mean for your measurements for minima and maxima, and for combined minima and maxima and enter those in cell below."
   ]
  },
  {
   "cell_type": "markdown",
   "metadata": {},
   "source": [
    "\n",
    "\n",
    "\n",
    "\n"
   ]
  },
  {
   "cell_type": "markdown",
   "metadata": {},
   "source": [
    "\n",
    "\n"
   ]
  },
  {
   "cell_type": "markdown",
   "metadata": {},
   "source": [
    "## The above method was more of a manual method. Python packages allow us to do everything more automatically. This is demonstrated below."
   ]
  },
  {
   "cell_type": "markdown",
   "metadata": {},
   "source": [
    "First, we find the indices of the relative extrema in the measured current data set. I found the nifty routine argrelextrema from scipy which makes this very easy. This routine will output the indices off all points which are greater than their nearest neighbors. More info on it may be found [here](https://docs.scipy.org/doc/scipy-0.16.0/reference/generated/scipy.signal.argrelextrema.html)"
   ]
  },
  {
   "cell_type": "code",
   "execution_count": 11,
   "metadata": {},
   "outputs": [],
   "source": [
    "from scipy.signal import argrelextrema\n",
    "Imax = argrelextrema(current,np.greater,0,2)"
   ]
  },
  {
   "cell_type": "markdown",
   "metadata": {},
   "source": [
    "Next, we create an array of the voltage values that correspond to these indices:"
   ]
  },
  {
   "cell_type": "code",
   "execution_count": 12,
   "metadata": {},
   "outputs": [],
   "source": [
    "ImaxVolts = np.array([])\n",
    "\n",
    "for i in range(len(Imax[0])):\n",
    "    v = voltage[Imax[0][i]]\n",
    "    ImaxVolts = np.append(ImaxVolts, v)"
   ]
  },
  {
   "cell_type": "markdown",
   "metadata": {},
   "source": [
    "Finally, we calculate the difference between succesive voltage values:"
   ]
  },
  {
   "cell_type": "code",
   "execution_count": 13,
   "metadata": {},
   "outputs": [],
   "source": [
    "Voltage_Difference_max = np.array([])\n",
    "\n",
    "for i in range(len(ImaxVolts)-1):\n",
    "    dv = ImaxVolts[i+1] - ImaxVolts[i]\n",
    "    Voltage_Difference_max = np.append(Voltage_Difference_max, dv)"
   ]
  },
  {
   "cell_type": "markdown",
   "metadata": {},
   "source": [
    "Repeat this process for the minima. Note the notch in the data around 54 volts: I had to selectively delete that minimum from my array of minima"
   ]
  },
  {
   "cell_type": "code",
   "execution_count": 14,
   "metadata": {},
   "outputs": [],
   "source": [
    "Imin = argrelextrema(current,np.less,0,3)\n",
    "Imin = np.delete(Imin, 9)\n",
    "\n",
    "IminVolts = np.array([])\n",
    "\n",
    "for i in range(len(Imin)):\n",
    "    vmin = voltage[Imin[i]]\n",
    "    IminVolts = np.append(IminVolts, vmin)\n",
    "    \n",
    "    Voltage_Difference_min = np.array([])\n",
    "\n",
    "for i in range(len(IminVolts)-1):\n",
    "    dvmin = IminVolts[i+1] - IminVolts[i]\n",
    "    Voltage_Difference_min = np.append(Voltage_Difference_min, dvmin)"
   ]
  },
  {
   "cell_type": "markdown",
   "metadata": {},
   "source": [
    "Now we produce two histogram plots of the distributions for minima and maxima"
   ]
  },
  {
   "cell_type": "code",
   "execution_count": 15,
   "metadata": {},
   "outputs": [
    {
     "data": {
      "text/plain": [
       "array([[<matplotlib.axes._subplots.AxesSubplot object at 0x000001C8F1B47E08>]],\n",
       "      dtype=object)"
      ]
     },
     "execution_count": 15,
     "metadata": {},
     "output_type": "execute_result"
    },
    {
     "data": {
      "image/png": "[encoded data removed]",
      "text/plain": [
       "<Figure size 432x288 with 1 Axes>"
      ]
     },
     "metadata": {},
     "output_type": "display_data"
    },
    {
     "data": {
      "image/png": "[encoded data removed]",
      "text/plain": [
       "<Figure size 432x288 with 1 Axes>"
      ]
     },
     "metadata": {},
     "output_type": "display_data"
    }
   ],
   "source": [
    "DeltaVmax = pd.DataFrame(Voltage_Difference_max)\n",
    "Plot1 = DeltaVmax.rename(columns={0:'Voltage Difference from Maxima'})\n",
    "DeltaVmin = pd.DataFrame(Voltage_Difference_min)\n",
    "Plot2 = DeltaVmin.rename(columns={0:'Voltage Difference from Minima'})\n",
    "\n",
    "Plot1.hist(label = 'eV',bins=8)\n",
    "Plot2.hist(label = 'eV',bins=8)"
   ]
  },
  {
   "cell_type": "markdown",
   "metadata": {},
   "source": [
    "Then we find the mean, standard deviation, and standard error of mean for both maxima/minima separately:"
   ]
  },
  {
   "cell_type": "markdown",
   "metadata": {},
   "source": [
    "### For the minima we get:"
   ]
  },
  {
   "cell_type": "code",
   "execution_count": 16,
   "metadata": {},
   "outputs": [
    {
     "name": "stdout",
     "output_type": "stream",
     "text": [
      "Mean: 4.867835698550653 V\n"
     ]
    }
   ],
   "source": [
    "minmean = DeltaVmax.mean()[0]\n",
    "print('Mean: {} V'.format(minmean))"
   ]
  },
  {
   "cell_type": "code",
   "execution_count": 17,
   "metadata": {},
   "outputs": [
    {
     "name": "stdout",
     "output_type": "stream",
     "text": [
      "Standard Deviation: 0.30948012037916706 V\n"
     ]
    }
   ],
   "source": [
    "minstd = DeltaVmax.std()[0]\n",
    "print('Standard Deviation: {} V'.format(minstd))"
   ]
  },
  {
   "cell_type": "code",
   "execution_count": 18,
   "metadata": {},
   "outputs": [
    {
     "name": "stdout",
     "output_type": "stream",
     "text": [
      "Standard Error of Mean: 0.10316004012638902 V\n"
     ]
    }
   ],
   "source": [
    "minsem = DeltaVmax.sem()[0]\n",
    "print('Standard Error of Mean: {} V'.format(minsem))"
   ]
  },
  {
   "cell_type": "markdown",
   "metadata": {},
   "source": [
    "### And for the minima:"
   ]
  },
  {
   "cell_type": "code",
   "execution_count": 19,
   "metadata": {},
   "outputs": [
    {
     "name": "stdout",
     "output_type": "stream",
     "text": [
      "Mean: 4.9640368553328145 V\n"
     ]
    }
   ],
   "source": [
    "maxmean = DeltaVmin.mean()[0]\n",
    "print('Mean: {} V'.format(maxmean))"
   ]
  },
  {
   "cell_type": "code",
   "execution_count": 20,
   "metadata": {},
   "outputs": [
    {
     "name": "stdout",
     "output_type": "stream",
     "text": [
      "Standard Deviation: 0.3535814068753885 V\n"
     ]
    }
   ],
   "source": [
    "maxstd = DeltaVmin.std()[0]\n",
    "print('Standard Deviation: {} V'.format(maxstd))"
   ]
  },
  {
   "cell_type": "code",
   "execution_count": 21,
   "metadata": {},
   "outputs": [
    {
     "name": "stdout",
     "output_type": "stream",
     "text": [
      "Standard Error of Mean: 0.11786046895846285 V\n"
     ]
    }
   ],
   "source": [
    "maxsem = DeltaVmin.sem()[0]\n",
    "print('Standard Error of Mean: {} V'.format(maxsem))"
   ]
  },
  {
   "cell_type": "markdown",
   "metadata": {},
   "source": [
    "Now, we can combine all our voltage difference data for the maxima and minima"
   ]
  },
  {
   "cell_type": "code",
   "execution_count": 22,
   "metadata": {},
   "outputs": [],
   "source": [
    "alldV = np.append(Voltage_Difference_min, Voltage_Difference_max)"
   ]
  },
  {
   "cell_type": "code",
   "execution_count": 23,
   "metadata": {},
   "outputs": [
    {
     "data": {
      "text/plain": [
       "array([[<matplotlib.axes._subplots.AxesSubplot object at 0x000001C8F1C01FC8>]],\n",
       "      dtype=object)"
      ]
     },
     "execution_count": 23,
     "metadata": {},
     "output_type": "execute_result"
    },
    {
     "data": {
      "image/png": "[encoded data removed]",
      "text/plain": [
       "<Figure size 432x288 with 1 Axes>"
      ]
     },
     "metadata": {},
     "output_type": "display_data"
    }
   ],
   "source": [
    "DeltaVall = pd.DataFrame(alldV)\n",
    "Plot = DeltaVall.rename(columns={0:'Voltage Difference - All data'})\n",
    "\n",
    "Plot.hist(label = 'eV',bins=8)"
   ]
  },
  {
   "cell_type": "markdown",
   "metadata": {},
   "source": [
    "### Our combined $\\Delta V$ data yields:"
   ]
  },
  {
   "cell_type": "code",
   "execution_count": 24,
   "metadata": {},
   "outputs": [
    {
     "name": "stdout",
     "output_type": "stream",
     "text": [
      "Mean: 4.915936276941735 V\n"
     ]
    }
   ],
   "source": [
    "mean = DeltaVall.mean()[0]\n",
    "print('Mean: {} V'.format(mean))"
   ]
  },
  {
   "cell_type": "code",
   "execution_count": 25,
   "metadata": {},
   "outputs": [
    {
     "name": "stdout",
     "output_type": "stream",
     "text": [
      "Standard Deviation: 0.3261205146361297 V\n"
     ]
    }
   ],
   "source": [
    "std = DeltaVall.std()[0]\n",
    "print('Standard Deviation: {} V'.format(std))"
   ]
  },
  {
   "cell_type": "code",
   "execution_count": 26,
   "metadata": {},
   "outputs": [
    {
     "name": "stdout",
     "output_type": "stream",
     "text": [
      "Standard Error of Mean: 0.07686734246108468 V\n"
     ]
    }
   ],
   "source": [
    "sem = DeltaVall.sem()[0]\n",
    "print('Standard Error of Mean: {} V'.format(sem))"
   ]
  },
  {
   "cell_type": "markdown",
   "metadata": {},
   "source": [
    "&nbsp;\n",
    "\n",
    "\n",
    "&nbsp;\n",
    "\n",
    "\n",
    "&nbsp;\n",
    "\n",
    "\n",
    "&nbsp;\n",
    "\n",
    "\n",
    "&nbsp;\n",
    "\n",
    "\n",
    "\n",
    "### Questions :"
   ]
  },
  {
   "cell_type": "markdown",
   "metadata": {},
   "source": [
    "1) Is the standard deviation of the $\\Delta V$ you worked out using the plots and the arrays close to the $\\Delta V$ calculated by the scipy routine? Should it be?"
   ]
  },
  {
   "cell_type": "markdown",
   "metadata": {},
   "source": [
    "\n",
    "\n"
   ]
  },
  {
   "cell_type": "markdown",
   "metadata": {},
   "source": [
    "2) Why is the procedure we used of averaging several measurement of both maxima and minima better than a single measurment of the excitation potential? Why is it better than just measuring the minima?"
   ]
  },
  {
   "cell_type": "markdown",
   "metadata": {},
   "source": [
    "\n",
    "\n"
   ]
  },
  {
   "cell_type": "markdown",
   "metadata": {},
   "source": [
    "3) In this experiment, you measured the current as a function of voltage. Does the Frank-Hertz tube obey Ohm's law? Explain. "
   ]
  },
  {
   "cell_type": "markdown",
   "metadata": {},
   "source": [
    "\n",
    "\n"
   ]
  },
  {
   "cell_type": "markdown",
   "metadata": {},
   "source": [
    "4) Figure 2.1 shows two transitions to the ground state corresponding to 4.9 eV and 6.7 eV. Explain why only the 4.9 eV state is observed in this experiment and why we do not see the 6.7 eV state."
   ]
  },
  {
   "cell_type": "markdown",
   "metadata": {},
   "source": [
    "\n",
    "\n"
   ]
  }
 ],
 "metadata": {
  "kernelspec": {
   "display_name": "Python 2",
   "language": "python",
   "name": "python2"
  },
  "language_info": {
   "codemirror_mode": {
    "name": "ipython",
    "version": 2
   },
   "file_extension": ".py",
   "mimetype": "text/x-python",
   "name": "python",
   "nbconvert_exporter": "python",
   "pygments_lexer": "ipython2",
   "version": "2.7.16"
  }
 },
 "nbformat": 4,
 "nbformat_minor": 2
}
