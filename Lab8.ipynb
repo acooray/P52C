{
 "cells": [
  {
   "cell_type": "markdown",
   "metadata": {},
   "source": [
    "# Lab 8 Notebook\n",
    "written by Corey Beard and Marshall Campbell ccbeard@uci.edu marsaac@uci.edu\n",
    "\n",
    "This notebook will attempt to simulate Physics 52C Lab 8. Certain cells will be editable, and are meant to mimic students adjusting settings on laboratory equipment. Certain cells are uneditable, and are meant to simulate nature, producing values as read by your instrument, depending on your settings.\n"
   ]
  },
  {
   "cell_type": "code",
   "execution_count": 1,
   "metadata": {},
   "outputs": [],
   "source": [
    "import numpy as np\n",
    "import matplotlib.pyplot as plt\n",
    "from mpl_toolkits.mplot3d import Axes3D\n",
    "import pandas as pd\n",
    "import random\n",
    "import scipy.stats as scipy\n",
    "import scipy.optimize as optimization\n",
    "from scipy.optimize import curve_fit"
   ]
  },
  {
   "cell_type": "markdown",
   "metadata": {},
   "source": [
    "## 1.4.2 Preliminaries"
   ]
  },
  {
   "cell_type": "markdown",
   "metadata": {},
   "source": [
    "This next cell will imitate a compass, used to determine the direction of Earth's magnetic field."
   ]
  },
  {
   "cell_type": "code",
   "execution_count": 2,
   "metadata": {},
   "outputs": [
    {
     "name": "stdout",
     "output_type": "stream",
     "text": [
      "31.141496957597013\n"
     ]
    }
   ],
   "source": [
    "#Compass\n",
    "magdir = 28 + np.random.normal(2)\n",
    "\n",
    "print(magdir)"
   ]
  },
  {
   "cell_type": "code",
   "execution_count": 3,
   "metadata": {},
   "outputs": [
    {
     "name": "stdout",
     "output_type": "stream",
     "text": [
      "Radius of the Helmholtz Coil\n",
      "0.638\n"
     ]
    }
   ],
   "source": [
    "#Have this cell spit out a helmholtz coil radius\n",
    "\n",
    "Rlab = np.round(0.64+np.random.normal(0,0.005),3)\n",
    "\n",
    "print('Radius of the Helmholtz Coil')\n",
    "print(Rlab)"
   ]
  },
  {
   "cell_type": "markdown",
   "metadata": {},
   "source": [
    "This next cell is for changing the settings on your equipment. You should not have to change anything in the following cell."
   ]
  },
  {
   "cell_type": "code",
   "execution_count": 4,
   "metadata": {},
   "outputs": [],
   "source": [
    "##########################\n",
    "##    Settings    ########\n",
    "##########################\n",
    "\n",
    "#The angle of the plane of the electron beam\n",
    "Beam_Angle = 0\n",
    "\n",
    "#Anode Voltage (in Volts)\n",
    "Anode_Voltage = 140.0\n",
    "\n",
    "#Current through the Helmholtz Coil (in Amperes)\n",
    "Coil_Current = 1.2\n",
    "\n",
    "#The angle of the plane of the Helmholtz Coil\n",
    "Coil_Angle = 0\n"
   ]
  },
  {
   "cell_type": "markdown",
   "metadata": {},
   "source": [
    "This next cell represents the physics of the experiment, and **should not be edited.**"
   ]
  },
  {
   "cell_type": "code",
   "execution_count": 5,
   "metadata": {
    "tags": [
     "remove_input"
    ]
   },
   "outputs": [],
   "source": [
    "e = 1.6021*10**(-19) #correct electron charge\n",
    "me = 9.1093*10**(-31) #correct electron mass (kg)\n",
    "R = 0.64 #radius of the coils\n",
    "n = 130 #number of turns in the coils \n",
    "mu0 = 4*np.pi*10**(-7) #permeability of free space  (in unit Tesla-m/Amp)\n",
    "B = mu0*Coil_Current*n/((5/4)**(3/2)*R) #magnetic field of the coils\n",
    "r = np.sqrt(2*Anode_Voltage/(B**2)*(me/e)) #radius of the electron beam\n",
    "def measure_r():\n",
    "    global rlab\n",
    "    Blab = mu0*Coil_Current*n/((5/4)**(3/2)*Rlab) #magnetic field of the coils (should be in Tesla)\n",
    "    rlab = np.sqrt(2*Anode_Voltage/(Blab**2)*(me/e)) + np.random.normal(0,0.005) #radius of the electron beam\n",
    "#     print('Electron Beam Radius = {}'.format(rlab))\n",
    "def diceroll():\n",
    "    global N\n",
    "    N = random.randint(1,6)\n",
    "#     print('Dice reads: {}'.format(N))"
   ]
  },
  {
   "cell_type": "markdown",
   "metadata": {},
   "source": [
    "## 8.4.2 Database\n",
    "*Goal: Compile a V, I , N, $\\rho$ database*"
   ]
  },
  {
   "cell_type": "markdown",
   "metadata": {},
   "source": [
    "Tabulate 16 measurements of the accelerating voltage, coil current, number on the die, and electron-beam radius. Choose four values of voltage with a large variation of values (e.g., 115, 140, 165, 190 V) and four values of current with a large variation in values. **Do not exceed 200 V for the voltage across the grid of 1.5 A for the current through the coil!** For each value of V and I, measure $\\rho$; also roll the die and enter the number N in your table."
   ]
  },
  {
   "cell_type": "code",
   "execution_count": 6,
   "metadata": {},
   "outputs": [],
   "source": [
    "#Anode Voltage (in Volts)\n",
    "Anode_Voltage = 115\n",
    "\n",
    "#Current through the Helmholtz Coil (in Amperes)\n",
    "Coil_Current = 1.5\n",
    "\n",
    "#Electron beam radius:\n",
    "measure_r()\n",
    "\n",
    "#Roll of the dice:\n",
    "diceroll()"
   ]
  },
  {
   "cell_type": "code",
   "execution_count": 7,
   "metadata": {},
   "outputs": [
    {
     "data": {
      "text/html": [
       "<div>\n",
       "<style scoped>\n",
       "    .dataframe tbody tr th:only-of-type {\n",
       "        vertical-align: middle;\n",
       "    }\n",
       "\n",
       "    .dataframe tbody tr th {\n",
       "        vertical-align: top;\n",
       "    }\n",
       "\n",
       "    .dataframe thead th {\n",
       "        text-align: right;\n",
       "    }\n",
       "</style>\n",
       "<table border=\"1\" class=\"dataframe\">\n",
       "  <thead>\n",
       "    <tr style=\"text-align: right;\">\n",
       "      <th></th>\n",
       "      <th>Voltage (V)</th>\n",
       "      <th>Current (A)</th>\n",
       "      <th>e-beam radius (m)</th>\n",
       "      <th>Dice roll</th>\n",
       "    </tr>\n",
       "  </thead>\n",
       "  <tbody>\n",
       "    <tr>\n",
       "      <th>0</th>\n",
       "      <td>115</td>\n",
       "      <td>0.6</td>\n",
       "      <td>0.330680</td>\n",
       "      <td>1</td>\n",
       "    </tr>\n",
       "    <tr>\n",
       "      <th>1</th>\n",
       "      <td>115</td>\n",
       "      <td>0.9</td>\n",
       "      <td>0.226981</td>\n",
       "      <td>4</td>\n",
       "    </tr>\n",
       "    <tr>\n",
       "      <th>2</th>\n",
       "      <td>115</td>\n",
       "      <td>1.2</td>\n",
       "      <td>0.168428</td>\n",
       "      <td>1</td>\n",
       "    </tr>\n",
       "    <tr>\n",
       "      <th>3</th>\n",
       "      <td>115</td>\n",
       "      <td>1.5</td>\n",
       "      <td>0.130092</td>\n",
       "      <td>4</td>\n",
       "    </tr>\n",
       "    <tr>\n",
       "      <th>4</th>\n",
       "      <td>140</td>\n",
       "      <td>0.6</td>\n",
       "      <td>0.367428</td>\n",
       "      <td>4</td>\n",
       "    </tr>\n",
       "    <tr>\n",
       "      <th>5</th>\n",
       "      <td>140</td>\n",
       "      <td>0.9</td>\n",
       "      <td>0.236498</td>\n",
       "      <td>5</td>\n",
       "    </tr>\n",
       "    <tr>\n",
       "      <th>6</th>\n",
       "      <td>140</td>\n",
       "      <td>1.2</td>\n",
       "      <td>0.177544</td>\n",
       "      <td>4</td>\n",
       "    </tr>\n",
       "    <tr>\n",
       "      <th>7</th>\n",
       "      <td>140</td>\n",
       "      <td>1.5</td>\n",
       "      <td>0.145939</td>\n",
       "      <td>2</td>\n",
       "    </tr>\n",
       "    <tr>\n",
       "      <th>8</th>\n",
       "      <td>165</td>\n",
       "      <td>0.6</td>\n",
       "      <td>0.394664</td>\n",
       "      <td>3</td>\n",
       "    </tr>\n",
       "    <tr>\n",
       "      <th>9</th>\n",
       "      <td>165</td>\n",
       "      <td>0.9</td>\n",
       "      <td>0.261451</td>\n",
       "      <td>3</td>\n",
       "    </tr>\n",
       "    <tr>\n",
       "      <th>10</th>\n",
       "      <td>165</td>\n",
       "      <td>1.2</td>\n",
       "      <td>0.185834</td>\n",
       "      <td>2</td>\n",
       "    </tr>\n",
       "    <tr>\n",
       "      <th>11</th>\n",
       "      <td>165</td>\n",
       "      <td>1.5</td>\n",
       "      <td>0.161131</td>\n",
       "      <td>6</td>\n",
       "    </tr>\n",
       "    <tr>\n",
       "      <th>12</th>\n",
       "      <td>190</td>\n",
       "      <td>0.6</td>\n",
       "      <td>0.419366</td>\n",
       "      <td>4</td>\n",
       "    </tr>\n",
       "    <tr>\n",
       "      <th>13</th>\n",
       "      <td>190</td>\n",
       "      <td>0.9</td>\n",
       "      <td>0.279472</td>\n",
       "      <td>4</td>\n",
       "    </tr>\n",
       "    <tr>\n",
       "      <th>14</th>\n",
       "      <td>190</td>\n",
       "      <td>1.2</td>\n",
       "      <td>0.208844</td>\n",
       "      <td>3</td>\n",
       "    </tr>\n",
       "    <tr>\n",
       "      <th>15</th>\n",
       "      <td>190</td>\n",
       "      <td>1.5</td>\n",
       "      <td>0.174236</td>\n",
       "      <td>1</td>\n",
       "    </tr>\n",
       "  </tbody>\n",
       "</table>\n",
       "</div>"
      ],
      "text/plain": [
       "    Voltage (V)  Current (A)  e-beam radius (m)  Dice roll\n",
       "0           115          0.6           0.330680          1\n",
       "1           115          0.9           0.226981          4\n",
       "2           115          1.2           0.168428          1\n",
       "3           115          1.5           0.130092          4\n",
       "4           140          0.6           0.367428          4\n",
       "5           140          0.9           0.236498          5\n",
       "6           140          1.2           0.177544          4\n",
       "7           140          1.5           0.145939          2\n",
       "8           165          0.6           0.394664          3\n",
       "9           165          0.9           0.261451          3\n",
       "10          165          1.2           0.185834          2\n",
       "11          165          1.5           0.161131          6\n",
       "12          190          0.6           0.419366          4\n",
       "13          190          0.9           0.279472          4\n",
       "14          190          1.2           0.208844          3\n",
       "15          190          1.5           0.174236          1"
      ]
     },
     "execution_count": 7,
     "metadata": {},
     "output_type": "execute_result"
    }
   ],
   "source": [
    "Vlist = []\n",
    "Ilist = []\n",
    "rlist = []\n",
    "Dlist = []\n",
    "for i in range(4):\n",
    "    for j in range(4):\n",
    "        Anode_Voltage = 115 + i*25\n",
    "        Vlist.append(Anode_Voltage)\n",
    "        \n",
    "        Coil_Current = 0.6 + j*0.3\n",
    "        Ilist.append(Coil_Current)\n",
    "        \n",
    "        measure_r()\n",
    "        diceroll()\n",
    "        rlist.append(rlab)\n",
    "        Dlist.append(N)\n",
    "        \n",
    "        df = pd.DataFrame({'Voltage (V)':Vlist,'Current (A)':Ilist,'e-beam radius (m)':rlist,'Dice roll':Dlist})\n",
    "df"
   ]
  },
  {
   "cell_type": "markdown",
   "metadata": {},
   "source": [
    "## 8.4.3 Regression analysis\n",
    "*Goal: Analyze your database.*"
   ]
  },
  {
   "cell_type": "markdown",
   "metadata": {},
   "source": [
    "In the following section you will prepare a number of graphs and calculations. You may complete this in any software package you prefer (e.g. mathematica, matlab, excel)"
   ]
  },
  {
   "cell_type": "markdown",
   "metadata": {},
   "source": [
    "**1. Graph $\\rho$ versus each of the three independent variables: V, I, and N. Calculate the correlation coefficient r in each case.**"
   ]
  },
  {
   "cell_type": "code",
   "execution_count": 8,
   "metadata": {},
   "outputs": [
    {
     "data": {
      "image/png": "[encoded data removed]",
      "text/plain": [
       "<Figure size 648x360 with 3 Axes>"
      ]
     },
     "metadata": {
      "needs_background": "light"
     },
     "output_type": "display_data"
    }
   ],
   "source": [
    "fig, (ax1,ax2,ax3) = plt.subplots(1,3,sharey=True,figsize=(9,5))\n",
    "\n",
    "x1 = Vlist\n",
    "x2 = Ilist\n",
    "x3 = Dlist\n",
    "y = rlist\n",
    "\n",
    "ax1.plot(x1,y,'ro')\n",
    "ax2.plot(x2,y,'bo')\n",
    "ax3.plot(x3,y,'go')\n",
    "\n",
    "ax1.set_xlabel('Voltage (V)')\n",
    "ax2.set_xlabel('Current (A)')\n",
    "ax3.set_xlabel('Dice Roll')\n",
    "ax1.set_ylabel('e-beam radius')\n",
    "\n",
    "fig.suptitle('e-beam radius vs independent variables V, I and N')\n",
    "plt.show()"
   ]
  },
  {
   "cell_type": "markdown",
   "metadata": {},
   "source": [
    "Correlation of $\\rho$ with other three variables. Taylor Appendix C shows how to calculate these. See also Lab 6 notebook. Below we reproduce with built-in tools. This is not a replacement for Appendix C based calculation."
   ]
  },
  {
   "cell_type": "markdown",
   "metadata": {},
   "source": [
    "**In space below estimate r correlation coefficient for three plots shown above (used Appendix C).**"
   ]
  },
  {
   "cell_type": "markdown",
   "metadata": {},
   "source": [
    "\n",
    "\n",
    "\n",
    "\n",
    "\n",
    "\n",
    "\n"
   ]
  },
  {
   "cell_type": "markdown",
   "metadata": {},
   "source": [
    "These are built-in tool for reference, correlation and T-statistic probability:"
   ]
  },
  {
   "cell_type": "code",
   "execution_count": 1,
   "metadata": {},
   "outputs": [
    {
     "ename": "NameError",
     "evalue": "name 'rlist' is not defined",
     "output_type": "error",
     "traceback": [
      "\u001b[0;31m---------------------------------------------------------------------------\u001b[0m",
      "\u001b[0;31mNameError\u001b[0m                                 Traceback (most recent call last)",
      "\u001b[0;32m<ipython-input-1-320a3701f317>\u001b[0m in \u001b[0;36m<module>\u001b[0;34m\u001b[0m\n\u001b[0;32m----> 1\u001b[0;31m \u001b[0mx\u001b[0m\u001b[0;34m=\u001b[0m\u001b[0mrlist\u001b[0m\u001b[0;34m\u001b[0m\u001b[0;34m\u001b[0m\u001b[0m\n\u001b[0m\u001b[1;32m      2\u001b[0m \u001b[0my\u001b[0m\u001b[0;34m=\u001b[0m\u001b[0mVlist\u001b[0m\u001b[0;34m\u001b[0m\u001b[0;34m\u001b[0m\u001b[0m\n\u001b[1;32m      3\u001b[0m \u001b[0;34m\u001b[0m\u001b[0m\n\u001b[1;32m      4\u001b[0m \u001b[0mr\u001b[0m\u001b[0;34m,\u001b[0m\u001b[0mp\u001b[0m\u001b[0;34m=\u001b[0m\u001b[0mscipy\u001b[0m\u001b[0;34m.\u001b[0m\u001b[0mpearsonr\u001b[0m\u001b[0;34m(\u001b[0m\u001b[0mx\u001b[0m\u001b[0;34m,\u001b[0m\u001b[0my\u001b[0m\u001b[0;34m)\u001b[0m\u001b[0;34m\u001b[0m\u001b[0;34m\u001b[0m\u001b[0m\n\u001b[1;32m      5\u001b[0m \u001b[0mprint\u001b[0m\u001b[0;34m(\u001b[0m\u001b[0;34m'built-in tools r on rho vs V'\u001b[0m\u001b[0;34m,\u001b[0m\u001b[0mr\u001b[0m\u001b[0;34m)\u001b[0m\u001b[0;34m\u001b[0m\u001b[0;34m\u001b[0m\u001b[0m\n",
      "\u001b[0;31mNameError\u001b[0m: name 'rlist' is not defined"
     ]
    }
   ],
   "source": [
    "x=rlist\n",
    "y=Vlist\n",
    "\n",
    "r,p=scipy.pearsonr(x,y)\n",
    "print('built-in tools r on rho vs V',r)\n",
    "print('built-in tools probability on rho vs V as a %',p*100)\n",
    "\n",
    "x=rlist\n",
    "y=Ilist\n",
    "r,p=scipy.pearsonr(x,y)\n",
    "print('built-in tools r on rho vs I',r)\n",
    "print('built-in tools probability on rho vs I as a %',p*100)\n",
    "\n",
    "x=rlist\n",
    "y=Dlist\n",
    "r,p=scipy.pearsonr(x,y)\n",
    "print('built-in tools r on rho vs D',r)\n",
    "print('built-in tools probability on rho vs D as a %',p*100)"
   ]
  },
  {
   "cell_type": "markdown",
   "metadata": {},
   "source": [
    "From above note that any probability that is less than 5% is a \"significant\" correlation - below 1% is a \"highly significant\" correlation. See the discussion in Appendix C and slides abd videos from Lecture 6.\n",
    "\n",
    "You will see that correlation of rho vs I is the most significant. rho vs N (number from random dice throw) is least - in fact non existant."
   ]
  },
  {
   "cell_type": "markdown",
   "metadata": {},
   "source": [
    "**2. Graph V versus I and calculate the correlation coefficient r**"
   ]
  },
  {
   "cell_type": "code",
   "execution_count": 10,
   "metadata": {},
   "outputs": [
    {
     "data": {
      "image/png": "[encoded data removed]",
      "text/plain": [
       "<Figure size 432x288 with 1 Axes>"
      ]
     },
     "metadata": {
      "needs_background": "light"
     },
     "output_type": "display_data"
    }
   ],
   "source": [
    "fig, ax = plt.subplots()\n",
    "\n",
    "V=Vlist\n",
    "I=Ilist\n",
    "\n",
    "#V = np.array([115, 140, 165, 190])\n",
    "#I = np.array([0.6, 0.9, 1.2, 1.5])\n",
    "\n",
    "ax.errorbar(V,I,xerr=0,yerr=0,fmt='ro')\n",
    "ax.set_xlabel('Voltage (V)')\n",
    "ax.set_ylabel('Current (A)')\n",
    "ax.set_title('Voltage vs Current')\n",
    "plt.show()"
   ]
  },
  {
   "cell_type": "markdown",
   "metadata": {},
   "source": [
    "Correlation of $\\rho$ with V and I. Taylor Appendix C shows how to calculate these. See also Lab 6 notebook. "
   ]
  },
  {
   "cell_type": "markdown",
   "metadata": {},
   "source": [
    "**The cell below is provided for calculation of the correlation coefficient make use of Appendix C:**"
   ]
  },
  {
   "cell_type": "code",
   "execution_count": null,
   "metadata": {},
   "outputs": [],
   "source": [
    "\n",
    "\n",
    "\n",
    "\n",
    "\n",
    "\n"
   ]
  },
  {
   "cell_type": "markdown",
   "metadata": {},
   "source": [
    "Below we reproduce with built-in tools. This is not a replacement for Appendix C based calculation."
   ]
  },
  {
   "cell_type": "code",
   "execution_count": 11,
   "metadata": {},
   "outputs": [
    {
     "name": "stdout",
     "output_type": "stream",
     "text": [
      "built-in tools r 0.0\n",
      "built-in tools probability as a % 99.99999999999999\n"
     ]
    }
   ],
   "source": [
    "x=Vlist\n",
    "y=Ilist\n",
    "r,p=scipy.pearsonr(x,y)\n",
    "print('built-in tools r',r)\n",
    "print('built-in tools probability as a %',p*100)"
   ]
  },
  {
   "cell_type": "markdown",
   "metadata": {},
   "source": [
    "**3. Take the logarithm of your data and perform multiple regression analysis. The analysis should produce four numbers corresponding to k, a, b and c in Eq. 8.7. Also quote the calculated uncertainties in the fits. Compare all four numbers to their expected theoretical values.**"
   ]
  },
  {
   "cell_type": "markdown",
   "metadata": {},
   "source": [
    "Use the space below to do your calculation on your own. We give an example with a built-in tool below. You may use python or another approach or software (including excel, Mathematica etc) to do this multi-parameter regression. \n",
    "\n",
    "Determine k, a, b, c best-fit values and their uncertainities or errors.\n",
    "\n",
    "\n",
    "See Page 84 (section 8.6) Lab book on how to do this with Excel.\n",
    "\n",
    "Section 8.7 outlines how to do this in Mathematica.\n",
    "\n",
    "Here is a small code snipet to do this in Matlab. Replace data with actual data.\n",
    "\n",
    "data=transpose([1 2 3 4; 2 3 4 2; 10 11 25 3]);\n",
    "datalog=log10(data);\n",
    "b=regress(datalog(:,1), [ones(4,1) datalog(:,2) datalog(:,3)])\n",
    "x1=datalog(:,2);\n",
    "x2=datalog(:,3);\n",
    "y=datalog(:,1);\n",
    "scatter3(x1,x2,y,'filled')\n",
    "hold on\n",
    "x1fit = min(x1):0.01:max(x1);\n",
    "x2fit = min(x2):0.01:max(x2);\n",
    "[X1FIT,X2FIT] = meshgrid(x1fit,x2fit);\n",
    "YFIT = b(1) + b(2)*X1FIT + b(3)*X2FIT;\n",
    "mesh(X1FIT,X2FIT,YFIT)\n",
    "view(50,10)\n",
    "\n",
    "Feel free to use any one method/software for this section."
   ]
  },
  {
   "cell_type": "markdown",
   "metadata": {},
   "source": [
    "\n",
    "\n",
    "\n",
    "\n",
    "\n",
    "\n",
    "\n",
    "\n",
    "\n"
   ]
  },
  {
   "cell_type": "markdown",
   "metadata": {},
   "source": [
    "Compare the values you obtained to theoretically expected values here:"
   ]
  },
  {
   "cell_type": "markdown",
   "metadata": {},
   "source": [
    "\n",
    "\n",
    "\n",
    "\n",
    "\n",
    "\n",
    "\n",
    "\n"
   ]
  },
  {
   "cell_type": "markdown",
   "metadata": {},
   "source": [
    "***Here is an example using built-in tools for comparison.***"
   ]
  },
  {
   "cell_type": "code",
   "execution_count": 12,
   "metadata": {},
   "outputs": [
    {
     "name": "stdout",
     "output_type": "stream",
     "text": [
      "Fit paramters: k = 0.020905466861393305, a = 0.4757847704531502, b = -1.0007842610659898, c = -0.0067833703196976845\n",
      "Fit error: dk = 0.003520144412848159, da = 0.033903085989459215, db = 0.018346973399318362, dc = 0.011295490047198481\n"
     ]
    },
    {
     "name": "stderr",
     "output_type": "stream",
     "text": [
      "/Users/asante/opt/anaconda3/lib/python3.7/site-packages/ipykernel_launcher.py:3: RuntimeWarning: invalid value encountered in log\n",
      "  This is separate from the ipykernel package so we can avoid doing imports until\n"
     ]
    }
   ],
   "source": [
    "def func(X, k, a, b, c):\n",
    "    x,u = X\n",
    "    return np.log(k) + a*np.log(Vlist) + b*np.log(Ilist)+ c*np.log(Dlist)\n",
    "\n",
    "p0 =1.0,1.0,1.0,1.0\n",
    "fitParams, fitCovariances = curve_fit(func, (V,I),np.log(rlist),p0)\n",
    "param_errors = np.sqrt(np.diag(fitCovariances))\n",
    "print('Fit paramters: k = {}, a = {}, b = {}, c = {}'.format(fitParams[0],fitParams[1],fitParams[2],fitParams[3]))\n",
    "print('Fit error: dk = {}, da = {}, db = {}, dc = {}'.format(param_errors[0],param_errors[1],param_errors[2],param_errors[3]))"
   ]
  },
  {
   "cell_type": "markdown",
   "metadata": {},
   "source": [
    "## 8.5 Reflection Questions:"
   ]
  },
  {
   "cell_type": "markdown",
   "metadata": {},
   "source": [
    "1. Graphs like those you obtained in step 1 of the previous section are often used to search for correlations in a database. Interestingly, even if the true dependence is not linear, these searches often reveal an underlying dependency. Consider the correlation coefficients you obtained. Which value of $|r|$ was largest? Smallest? Why does this make sense?"
   ]
  },
  {
   "cell_type": "markdown",
   "metadata": {},
   "source": []
  },
  {
   "cell_type": "markdown",
   "metadata": {},
   "source": [
    "2. A problem in many databases is that the \"independent\" variables are not really independent. For example, if you had measured both the magnetic field and the coil current, the results of your regression analysis would have been more confusing. This is because I and B are correlated variables. Consider step 2 of the analysis in the previous section. Are V and I correlated variables? or are they independent?  "
   ]
  },
  {
   "cell_type": "markdown",
   "metadata": {},
   "source": []
  },
  {
   "cell_type": "markdown",
   "metadata": {},
   "source": [
    "3. Regression analysis and searchs for correlations are used most often when no theory is available (or the available theories don't fit the data). Imagine that the Lorentz force law isn't known yet. What would you learn from the regression alaysis you just performed?"
   ]
  },
  {
   "cell_type": "markdown",
   "metadata": {},
   "source": []
  },
  {
   "cell_type": "markdown",
   "metadata": {},
   "source": [
    "## We'll skip sections 8.6 and 8.7, not required to do the fitting with each Excel and Mathematica"
   ]
  },
  {
   "cell_type": "markdown",
   "metadata": {},
   "source": [
    "## 8.8 Extra credit"
   ]
  },
  {
   "cell_type": "markdown",
   "metadata": {},
   "source": [
    "This analysis is optional but worth 10 extra points.\n",
    "\n",
    "You can use python (will need to write a small amount of code) or this can be done with excel or any other computer software or program that allows plotting (or even a graphing calculator).\n",
    "You are welcome to use any plotting software i.e. excel, mathematica, python, to do so.  Insert an image of your graph below or upload a separate image to Canvas.\n",
    "\n",
    "If you are using Python feel free to use example codes from Lab 5 or 6 for linear model fits to data."
   ]
  },
  {
   "cell_type": "markdown",
   "metadata": {},
   "source": [
    "In the lab during week 1, we discussed the relation\n",
    "\n",
    "$\\begin{equation} r^2 = \\left(\\frac{m}{e}\\right)\\frac{2V}{B^2}\\end{equation}$\n",
    "\n",
    "1. Using a plotting software, python/Excel etc, Plot r$^2$ vs. V (at constant B) for\n",
    "data above. You may want to look up Lab 1 notebook. Constant B means kept I current the same.\n",
    "\n",
    "Insert plot below or produce with python code."
   ]
  },
  {
   "cell_type": "markdown",
   "metadata": {},
   "source": []
  },
  {
   "cell_type": "markdown",
   "metadata": {},
   "source": [
    "2. Find a linear best-fit to the data using any software. Use the slope of the fit and determine\n",
    "your value for e/m and report it.\n"
   ]
  },
  {
   "cell_type": "markdown",
   "metadata": {},
   "source": []
  },
  {
   "cell_type": "markdown",
   "metadata": {},
   "source": [
    "3. Estimate the uncertainty in your value."
   ]
  },
  {
   "cell_type": "markdown",
   "metadata": {},
   "source": []
  },
  {
   "cell_type": "markdown",
   "metadata": {},
   "source": [
    "4. Below justify how you estimated your uncertainty and how this compares with the value you measured in Lab 1. If there are discrepancies, explain why.\n"
   ]
  },
  {
   "cell_type": "markdown",
   "metadata": {},
   "source": []
  }
 ],
 "metadata": {
  "kernelspec": {
   "display_name": "Python 3",
   "language": "python",
   "name": "python3"
  },
  "language_info": {
   "codemirror_mode": {
    "name": "ipython",
    "version": 3
   },
   "file_extension": ".py",
   "mimetype": "text/x-python",
   "name": "python",
   "nbconvert_exporter": "python",
   "pygments_lexer": "ipython3",
   "version": "3.8.2"
  }
 },
 "nbformat": 4,
 "nbformat_minor": 4
}
