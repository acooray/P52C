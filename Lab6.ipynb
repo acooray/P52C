{
 "cells": [
  {
   "cell_type": "markdown",
   "metadata": {},
   "source": [
    "# Lab 6 Notebook: Advanced Least Squres Fitting - Half-Life\n",
    "written by Marshall Campbell marshaac@uci.edu\n",
    "\n",
    "This notebook will attempt to simulate Physics 52C Lab 6. Only edit cells where explicitly indicated."
   ]
  },
  {
   "cell_type": "markdown",
   "metadata": {},
   "source": [
    "## 6.3.2 Distance Dependence and inverse square law"
   ]
  },
  {
   "cell_type": "markdown",
   "metadata": {},
   "source": [
    "**Goal: Measure the number of radioactive decay counts versus distance and establish the inverse square law for radioactive decay counts.**"
   ]
  },
  {
   "cell_type": "code",
   "execution_count": 53,
   "metadata": {},
   "outputs": [],
   "source": [
    "%matplotlib inline\n",
    "import pandas as pd\n",
    "import numpy as np\n",
    "import matplotlib.pyplot as plt\n",
    "import scipy.stats as scipy\n",
    "import scipy.optimize as optimization"
   ]
  },
  {
   "cell_type": "markdown",
   "metadata": {},
   "source": [
    "Main function. Best not to edit any of the entries below."
   ]
  },
  {
   "cell_type": "code",
   "execution_count": 54,
   "metadata": {},
   "outputs": [],
   "source": [
    "def measure():\n",
    "    global bg_counts\n",
    "    global source_counts\n",
    "    global source_error\n",
    "    global bg_error\n",
    "    basenum_bg = 80/60\n",
    "    bg_error = np.random.normal(0,np.sqrt(timeinterval*basenum_bg))           ### Background Error ###\n",
    "    bg_counts = timeinterval*(basenum_bg) + bg_error\n",
    "    bg_counts = np.around(bg_counts)\n",
    "    if bg_counts < 0:\n",
    "        bg_counts = 0\n",
    "\n",
    "    ### Measure Source ###\n",
    "    basenum_source = 50000/60\n",
    "    source_error = np.random.normal(0,np.sqrt(timeinterval*(basenum_source/(distance**2))))   ### Source Error ###\n",
    "    source_counts = timeinterval*(basenum_source/(distance**2)) + source_error \n",
    "    source_counts = np.around(source_counts)\n",
    "    if source_counts < 0:\n",
    "        source_counts = 0\n",
    "        \n",
    "    print('Source + Background = {} counts'.format(source_counts + bg_counts))"
   ]
  },
  {
   "cell_type": "markdown",
   "metadata": {},
   "source": [
    "**1. Measure the background and it's uncertainty over a 5 minute interval:**"
   ]
  },
  {
   "cell_type": "code",
   "execution_count": 55,
   "metadata": {},
   "outputs": [],
   "source": [
    "### Meain Settings ###\n",
    "distance = 30   # in centi-meters\n",
    "timeinterval = 60*5 # in seconds"
   ]
  },
  {
   "cell_type": "code",
   "execution_count": 56,
   "metadata": {},
   "outputs": [
    {
     "name": "stdout",
     "output_type": "stream",
     "text": [
      "Background = 392.0 counts\n"
     ]
    }
   ],
   "source": [
    "### Measure Background ###\n",
    "basenum_bg = 80/60\n",
    "bg_error = np.random.normal(0,np.sqrt(timeinterval*basenum_bg))\n",
    "bg_counts = timeinterval*(basenum_bg) + bg_error\n",
    "bg_counts = np.around(bg_counts)\n",
    "if bg_counts < 0:\n",
    "    bg_counts = 0\n",
    "print('Background = {} counts'.format(bg_counts))"
   ]
  },
  {
   "cell_type": "markdown",
   "metadata": {},
   "source": [
    "Make a note of the background and its uncertainty below. Use these values to correct the total counts later."
   ]
  },
  {
   "cell_type": "markdown",
   "metadata": {},
   "source": []
  },
  {
   "cell_type": "markdown",
   "metadata": {},
   "source": [
    "Explain how you obtained or estimated the uncertainty on the background count."
   ]
  },
  {
   "cell_type": "markdown",
   "metadata": {},
   "source": []
  },
  {
   "cell_type": "markdown",
   "metadata": {},
   "source": [
    "**At 5 cm intervals between d = 10 and 30 cm, measure the number of counts during 5 minute periods.**"
   ]
  },
  {
   "cell_type": "code",
   "execution_count": 57,
   "metadata": {},
   "outputs": [
    {
     "name": "stdout",
     "output_type": "stream",
     "text": [
      "Source + Background = 2937.0 counts\n"
     ]
    }
   ],
   "source": [
    "### Here adjust distance and rerun the cell. Repeat for d = 10cm-30cm in intervals of 5cm\n",
    "distance = 10         \n",
    "measure()"
   ]
  },
  {
   "cell_type": "markdown",
   "metadata": {},
   "source": [
    "**2. Make a table of 1/d^2, corrected count rate, uncertainty, and weight (refer to lab 4 to calculate uncertainty and chapter 8 to determine the weights)**"
   ]
  },
  {
   "cell_type": "markdown",
   "metadata": {},
   "source": [
    "Feel free to enter a table (you can use handwritten paper and a photo inserted below, excel or other software, or make a python table. We show an example below)"
   ]
  },
  {
   "cell_type": "markdown",
   "metadata": {},
   "source": []
  },
  {
   "cell_type": "markdown",
   "metadata": {},
   "source": [
    "Explain how the uncertainty in the corrected counts were obtained:"
   ]
  },
  {
   "cell_type": "markdown",
   "metadata": {},
   "source": []
  },
  {
   "cell_type": "markdown",
   "metadata": {},
   "source": [
    "***For later plotting example we will enter values into a python table. Update the values in arrays of the block below to match your measurements.***"
   ]
  },
  {
   "cell_type": "code",
   "execution_count": 58,
   "metadata": {},
   "outputs": [],
   "source": [
    "# enter d, corrected counts, uncertainty here:\n",
    "\n",
    "d = np.array([10, 15, 20, 25, 30])\n",
    "\n",
    "corrected_counts_withdistance = np.array([2400, 1200, 600, 400, 250]) \n",
    "\n",
    "uncertainty_withdistance = np.array([50,40,30,24,15])\n",
    "\n",
    "# Best not to modify these two entries\n",
    "\n",
    "dinverse2=1/d**2\n",
    "\n",
    "weight = 1/uncertainty_withdistance**2"
   ]
  },
  {
   "cell_type": "code",
   "execution_count": 59,
   "metadata": {},
   "outputs": [
    {
     "data": {
      "text/html": [
       "<div>\n",
       "<style scoped>\n",
       "    .dataframe tbody tr th:only-of-type {\n",
       "        vertical-align: middle;\n",
       "    }\n",
       "\n",
       "    .dataframe tbody tr th {\n",
       "        vertical-align: top;\n",
       "    }\n",
       "\n",
       "    .dataframe thead th {\n",
       "        text-align: right;\n",
       "    }\n",
       "</style>\n",
       "<table border=\"1\" class=\"dataframe\">\n",
       "  <thead>\n",
       "    <tr style=\"text-align: right;\">\n",
       "      <th></th>\n",
       "      <th>d</th>\n",
       "      <th>1/d^2</th>\n",
       "      <th>Counts</th>\n",
       "      <th>Uncertainty</th>\n",
       "      <th>Weights</th>\n",
       "    </tr>\n",
       "  </thead>\n",
       "  <tbody>\n",
       "    <tr>\n",
       "      <th>0</th>\n",
       "      <td>10</td>\n",
       "      <td>0.010000</td>\n",
       "      <td>2400</td>\n",
       "      <td>50</td>\n",
       "      <td>0.000400</td>\n",
       "    </tr>\n",
       "    <tr>\n",
       "      <th>1</th>\n",
       "      <td>15</td>\n",
       "      <td>0.004444</td>\n",
       "      <td>1200</td>\n",
       "      <td>40</td>\n",
       "      <td>0.000625</td>\n",
       "    </tr>\n",
       "    <tr>\n",
       "      <th>2</th>\n",
       "      <td>20</td>\n",
       "      <td>0.002500</td>\n",
       "      <td>600</td>\n",
       "      <td>30</td>\n",
       "      <td>0.001111</td>\n",
       "    </tr>\n",
       "    <tr>\n",
       "      <th>3</th>\n",
       "      <td>25</td>\n",
       "      <td>0.001600</td>\n",
       "      <td>400</td>\n",
       "      <td>24</td>\n",
       "      <td>0.001736</td>\n",
       "    </tr>\n",
       "    <tr>\n",
       "      <th>4</th>\n",
       "      <td>30</td>\n",
       "      <td>0.001111</td>\n",
       "      <td>250</td>\n",
       "      <td>15</td>\n",
       "      <td>0.004444</td>\n",
       "    </tr>\n",
       "  </tbody>\n",
       "</table>\n",
       "</div>"
      ],
      "text/plain": [
       "    d     1/d^2  Counts  Uncertainty   Weights\n",
       "0  10  0.010000    2400           50  0.000400\n",
       "1  15  0.004444    1200           40  0.000625\n",
       "2  20  0.002500     600           30  0.001111\n",
       "3  25  0.001600     400           24  0.001736\n",
       "4  30  0.001111     250           15  0.004444"
      ]
     },
     "execution_count": 59,
     "metadata": {},
     "output_type": "execute_result"
    }
   ],
   "source": [
    "df = pd.DataFrame({'d':d,'1/d^2':dinverse2, 'Counts':corrected_counts_withdistance, 'Uncertainty':uncertainty_withdistance, 'Weights':weight})\n",
    "df"
   ]
  },
  {
   "cell_type": "markdown",
   "metadata": {},
   "source": [
    "**Graph the 1/d^2 vs corrected counts data, including error bars**"
   ]
  },
  {
   "cell_type": "markdown",
   "metadata": {},
   "source": [
    "Feel free to draw a graph using any means available, including python."
   ]
  },
  {
   "cell_type": "markdown",
   "metadata": {},
   "source": []
  },
  {
   "cell_type": "markdown",
   "metadata": {},
   "source": [
    "We given a python based example for the data entered into the table above."
   ]
  },
  {
   "cell_type": "code",
   "execution_count": 60,
   "metadata": {},
   "outputs": [
    {
     "data": {
      "image/png": "[encoded data removed]",
      "text/plain": [
       "<Figure size 432x288 with 1 Axes>"
      ]
     },
     "metadata": {
      "needs_background": "light"
     },
     "output_type": "display_data"
    }
   ],
   "source": [
    "fig, ax = plt.subplots()\n",
    "\n",
    "for i in range(len(d)):\n",
    "    x=1/d**2\n",
    "    y=corrected_counts_withdistance\n",
    "    yerr=uncertainty_withdistance\n",
    "\n",
    "\n",
    "ax.errorbar(x,y,xerr=0,yerr=yerr,fmt='ro')\n",
    "ax.set_xlabel('$d^{-2}$')\n",
    "ax.set_ylabel('BG Corrected Counts')\n",
    "ax.set_title('Counts vs Inverse-Squared Distance')\n",
    "plt.show()"
   ]
  },
  {
   "cell_type": "markdown",
   "metadata": {},
   "source": [
    "**3. Calculate the weighted least-squares line fit to your data using Eqs. (8.37)-(8.39)**\n",
    "\n",
    "This involves a line of the form y=A+B*x and determining A and B values keeping track of the weights that capture the uncertainties in y."
   ]
  },
  {
   "cell_type": "markdown",
   "metadata": {},
   "source": [
    "You can use a python code and other ways to estimate A, B and their uncertainties. Please enter those below."
   ]
  },
  {
   "cell_type": "markdown",
   "metadata": {},
   "source": []
  },
  {
   "cell_type": "markdown",
   "metadata": {},
   "source": [
    "**Draw the best fit line on your graph**"
   ]
  },
  {
   "cell_type": "markdown",
   "metadata": {},
   "source": [
    "Update the graph you made in above with the best-fit line. And reenter a new graph here with line. You can use python or any other software to do this."
   ]
  },
  {
   "cell_type": "markdown",
   "metadata": {},
   "source": []
  },
  {
   "cell_type": "markdown",
   "metadata": {},
   "source": [
    "**We provide an example line fit and a graph with line to data using the built-in scipy tools.*** \n",
    "\n",
    "This is not a replacement for what is asked in the lab. Lab requires the use of\n",
    "Taylor equations to determin the line fit A and B values.\n",
    "\n",
    "We also print A, B values and their errors for reference"
   ]
  },
  {
   "cell_type": "code",
   "execution_count": 61,
   "metadata": {},
   "outputs": [
    {
     "data": {
      "image/png": "[encoded data removed]",
      "text/plain": [
       "<Figure size 432x432 with 1 Axes>"
      ]
     },
     "metadata": {
      "needs_background": "light"
     },
     "output_type": "display_data"
    },
    {
     "name": "stdout",
     "output_type": "stream",
     "text": [
      "A and sigmaA: -11.461449012707469 29.78721348546827\n",
      "B and sigmaB: 247663.33580340398 10324.853267322616\n"
     ]
    }
   ],
   "source": [
    "def func(x,a,b):\n",
    "    return a + b*x\n",
    "\n",
    "pfit, pcov = optimization.curve_fit(func, dinverse2, corrected_counts_withdistance, sigma=uncertainty_withdistance)\n",
    "a = pfit[0]\n",
    "b = pfit[1]\n",
    "perr= np.sqrt(np.diag(pcov))\n",
    "aerr = perr[0]\n",
    "berr = perr[1]\n",
    "\n",
    "x = np.linspace(dinverse2[0],dinverse2[4],1000)\n",
    "y = a + b*x\n",
    "yup = (a+aerr) + (b + berr)*x\n",
    "ydown = (a-aerr) + (b - berr)*x\n",
    "plt.figure(figsize=(6,6))\n",
    "for i in range(len(d)):\n",
    "    plt.errorbar(dinverse2[i],corrected_counts_withdistance[i],yerr=uncertainty_withdistance[i],fmt='o',color='blue')\n",
    "    \n",
    "plt.plot(x,y,color='black')\n",
    "plt.plot(x,yup,color='gray',linestyle='dotted')\n",
    "plt.plot(x,ydown,color='gray',linestyle='dotted')\n",
    "plt.xlabel('$d^{-2}$')\n",
    "plt.ylabel('Corrected Counts')\n",
    "plt.title('Counts vs Inverse-Squared Distance')\n",
    "info = ['Error-weighted Line Fit','Estimated + Error line','Estimated - Error line','Measured Values']\n",
    "plt.legend(info)\n",
    "\n",
    "plt.show()\n",
    "\n",
    "print('A and sigmaA:',a,aerr)\n",
    "print('B and sigmaB:',b,berr)"
   ]
  },
  {
   "cell_type": "markdown",
   "metadata": {},
   "source": [
    "**4. Calculate the correlation coefficient r**"
   ]
  },
  {
   "cell_type": "markdown",
   "metadata": {},
   "source": [
    "See Taylor Appendix C. Including the equation there to caculate correlation coefficient. \n",
    "\n",
    "In statistics note this correlation coefficieint is called the Pearson correlation coefficient."
   ]
  },
  {
   "cell_type": "markdown",
   "metadata": {},
   "source": [
    "**Enter r value here**"
   ]
  },
  {
   "cell_type": "markdown",
   "metadata": {},
   "source": []
  },
  {
   "cell_type": "markdown",
   "metadata": {},
   "source": [
    "**5. Are your data consistent with isotropic decay following the inverse square-law?**"
   ]
  },
  {
   "cell_type": "markdown",
   "metadata": {},
   "source": [
    "To answer this make use of the probability table in Taylor appendix C for N=5 data points and the r value obtained above. See Week 6 lecture notes if you missed that zoom lecture. \n",
    "\n",
    "You can find calculators online for this as well, for example:\n",
    "https://www.socscistatistics.com/pvalues/pearsondistribution.aspx\n"
   ]
  },
  {
   "cell_type": "markdown",
   "metadata": {},
   "source": []
  },
  {
   "cell_type": "markdown",
   "metadata": {},
   "source": [
    "***We produce an example calculation here also using built-in tools.***\n",
    "\n",
    "Note that this is not a replacement for the Appendix C calculation. "
   ]
  },
  {
   "cell_type": "code",
   "execution_count": 62,
   "metadata": {},
   "outputs": [
    {
     "name": "stdout",
     "output_type": "stream",
     "text": [
      "built-in tools r 0.9976132644795133\n",
      "built-in tools probability as a % 0.013992159891976105\n"
     ]
    }
   ],
   "source": [
    "x=dinverse2\n",
    "y=corrected_counts_withdistance\n",
    "r,p=scipy.pearsonr(x,y)\n",
    "print('built-in tools r',r)\n",
    "print('built-in tools probability as a %',p*100)"
   ]
  },
  {
   "cell_type": "markdown",
   "metadata": {},
   "source": [
    "## 6.3.3 Half-Life"
   ]
  },
  {
   "cell_type": "markdown",
   "metadata": {},
   "source": [
    "**Goal: Measure the half-life of <sup>$137m$</sup>$Ba$**"
   ]
  },
  {
   "cell_type": "markdown",
   "metadata": {},
   "source": [
    "The following cell redefines measure( ) with our new fast decaying source. Best not to edit any of the entries below.\n",
    "\n",
    "Measurements will be at 6 second intervals, unlike previous at 5 mins."
   ]
  },
  {
   "cell_type": "code",
   "execution_count": 65,
   "metadata": {},
   "outputs": [],
   "source": [
    "def measure_halflife():\n",
    "    global bg_counts\n",
    "    global source_counts\n",
    "    global source_error\n",
    "    global bg_error\n",
    "    basenum_bg = 80/60\n",
    "    bg_error = np.random.normal(0,np.sqrt(timeinterval*basenum_bg))           ### Background Error ###\n",
    "    bg_counts = timeinterval*(basenum_bg) + bg_error\n",
    "    bg_counts = np.around(bg_counts)\n",
    "    if bg_counts < 0:\n",
    "        bg_counts = 0\n",
    "\n",
    "    ### Measure Source ###\n",
    "    basenum_source = 50000/60\n",
    "    beta = -np.log(1/2)/(60*2.6)\n",
    "    source_error = np.random.normal(0,np.sqrt(timeinterval*(basenum_source/(distance**2))))   ### Source Error ###\n",
    "    source_counts = timeinterval*(basenum_source/(distance**2))*np.exp(-beta*time) + source_error \n",
    "    source_counts = np.around(source_counts)\n",
    "    if source_counts < 0:\n",
    "        source_counts = 0\n",
    "        \n",
    "    print('Source + Background = {} counts'.format(source_counts + bg_counts))"
   ]
  },
  {
   "cell_type": "markdown",
   "metadata": {},
   "source": [
    "**First Measure the background and it's uncertainty over a 6 second interval:**"
   ]
  },
  {
   "cell_type": "code",
   "execution_count": 66,
   "metadata": {},
   "outputs": [],
   "source": [
    "### Meain Settings ###\n",
    "distance = 1 #you can keep distance fixed here to 1 cm, no need to change this **\n",
    "timeinterval = 6 # in seconds"
   ]
  },
  {
   "cell_type": "code",
   "execution_count": 87,
   "metadata": {},
   "outputs": [
    {
     "name": "stdout",
     "output_type": "stream",
     "text": [
      "Background = 7.0 counts\n"
     ]
    }
   ],
   "source": [
    "### Measure Background ###\n",
    "basenum_bg = 80/60\n",
    "bg_error = np.random.normal(0,np.sqrt(timeinterval*basenum_bg))\n",
    "bg_counts = timeinterval*(basenum_bg) + bg_error\n",
    "bg_counts = np.around(bg_counts)\n",
    "\n",
    "if bg_counts < 0:\n",
    "    bg_counts = 0\n",
    "print('Background = {} counts'.format(bg_counts))"
   ]
  },
  {
   "cell_type": "markdown",
   "metadata": {},
   "source": [
    "Make a note of the background and its uncertainty below. Use these values to correct the total counts later."
   ]
  },
  {
   "cell_type": "markdown",
   "metadata": {},
   "source": []
  },
  {
   "cell_type": "code",
   "execution_count": 88,
   "metadata": {},
   "outputs": [],
   "source": [
    "def restart():\n",
    "    global time\n",
    "    time = 0\n",
    "def wait():\n",
    "    global time\n",
    "    time = time + 60\n",
    "restart()"
   ]
  },
  {
   "cell_type": "markdown",
   "metadata": {},
   "source": [
    "The wait function (defined above) acts as if you waited 60 seconds. After running wait, if you run measure, you will measure counts as if you waited 1 minute.\n",
    "\n",
    "Count for 6 seconds once each minute for ten minutes. i.e. run measure, record counts, run wait, then run measure and record counts again. Record number of counts everytime you run measure. Repeat until you have 11 total measurements. Record as a list and transfer to notebook below. If you think you messed up, run restart to start over."
   ]
  },
  {
   "cell_type": "code",
   "execution_count": 93,
   "metadata": {},
   "outputs": [
    {
     "name": "stdout",
     "output_type": "stream",
     "text": [
      "Source + Background = 3032.0 counts\n"
     ]
    }
   ],
   "source": [
    "measure_halflife()"
   ]
  },
  {
   "cell_type": "code",
   "execution_count": 94,
   "metadata": {},
   "outputs": [],
   "source": [
    "wait()"
   ]
  },
  {
   "cell_type": "markdown",
   "metadata": {},
   "source": [
    "***Only run this if you think you made a mistake in above when taking data 11 times. This resets the counting clock to beginning of the experiment.***"
   ]
  },
  {
   "cell_type": "code",
   "execution_count": 19,
   "metadata": {},
   "outputs": [],
   "source": [
    "restart()"
   ]
  },
  {
   "cell_type": "markdown",
   "metadata": {},
   "source": [
    "**1. Now make a table of background corrected counts data, including uncertainities**"
   ]
  },
  {
   "cell_type": "markdown",
   "metadata": {},
   "source": [
    "Insert a table below of the data collected (if you made one by hand or other software like excel upload an image or  feel free to make a table using python - we give an example below)"
   ]
  },
  {
   "cell_type": "markdown",
   "metadata": {},
   "source": []
  },
  {
   "cell_type": "markdown",
   "metadata": {},
   "source": [
    "Explain below how you determined the uncertainty on the background corrected counts"
   ]
  },
  {
   "cell_type": "markdown",
   "metadata": {},
   "source": []
  },
  {
   "cell_type": "markdown",
   "metadata": {},
   "source": [
    "***For use later we produce a python table***"
   ]
  },
  {
   "cell_type": "code",
   "execution_count": 95,
   "metadata": {},
   "outputs": [],
   "source": [
    "times = np.array([i*60 for i in range(11)])     ## This is just [0,60,120,180,...] no need to edit this ##\n",
    "\n",
    "# enter your background corrected counts values here, replacing these dummy entries \n",
    "\n",
    "corrected_counts = np.array([4933, 3788, 2991, 2326, 1828, 1264, 910, 859, 612, 548, 306])\n",
    "\n",
    "# enter your background corrected count uncertainty values here, replacing these dummy entries \n",
    "\n",
    "uncertainty  = np.array([5,5,5,5,5,5,5,5,5,5,5]) \n",
    "\n",
    "# these are for use later, best not to edit\n",
    "\n",
    "logcounts=np.log(corrected_counts)\n",
    "logerror = uncertainty/corrected_counts"
   ]
  },
  {
   "cell_type": "markdown",
   "metadata": {},
   "source": [
    "Check the table of values"
   ]
  },
  {
   "cell_type": "code",
   "execution_count": 96,
   "metadata": {},
   "outputs": [
    {
     "data": {
      "text/html": [
       "<div>\n",
       "<style scoped>\n",
       "    .dataframe tbody tr th:only-of-type {\n",
       "        vertical-align: middle;\n",
       "    }\n",
       "\n",
       "    .dataframe tbody tr th {\n",
       "        vertical-align: top;\n",
       "    }\n",
       "\n",
       "    .dataframe thead th {\n",
       "        text-align: right;\n",
       "    }\n",
       "</style>\n",
       "<table border=\"1\" class=\"dataframe\">\n",
       "  <thead>\n",
       "    <tr style=\"text-align: right;\">\n",
       "      <th></th>\n",
       "      <th>time</th>\n",
       "      <th>Counts</th>\n",
       "      <th>Uncertainty</th>\n",
       "      <th>Log Counts</th>\n",
       "      <th>Log count error</th>\n",
       "    </tr>\n",
       "  </thead>\n",
       "  <tbody>\n",
       "    <tr>\n",
       "      <th>0</th>\n",
       "      <td>0</td>\n",
       "      <td>4933</td>\n",
       "      <td>5</td>\n",
       "      <td>8.503703</td>\n",
       "      <td>0.001014</td>\n",
       "    </tr>\n",
       "    <tr>\n",
       "      <th>1</th>\n",
       "      <td>60</td>\n",
       "      <td>3788</td>\n",
       "      <td>5</td>\n",
       "      <td>8.239593</td>\n",
       "      <td>0.001320</td>\n",
       "    </tr>\n",
       "    <tr>\n",
       "      <th>2</th>\n",
       "      <td>120</td>\n",
       "      <td>2991</td>\n",
       "      <td>5</td>\n",
       "      <td>8.003363</td>\n",
       "      <td>0.001672</td>\n",
       "    </tr>\n",
       "    <tr>\n",
       "      <th>3</th>\n",
       "      <td>180</td>\n",
       "      <td>2326</td>\n",
       "      <td>5</td>\n",
       "      <td>7.751905</td>\n",
       "      <td>0.002150</td>\n",
       "    </tr>\n",
       "    <tr>\n",
       "      <th>4</th>\n",
       "      <td>240</td>\n",
       "      <td>1828</td>\n",
       "      <td>5</td>\n",
       "      <td>7.510978</td>\n",
       "      <td>0.002735</td>\n",
       "    </tr>\n",
       "    <tr>\n",
       "      <th>5</th>\n",
       "      <td>300</td>\n",
       "      <td>1264</td>\n",
       "      <td>5</td>\n",
       "      <td>7.142037</td>\n",
       "      <td>0.003956</td>\n",
       "    </tr>\n",
       "    <tr>\n",
       "      <th>6</th>\n",
       "      <td>360</td>\n",
       "      <td>910</td>\n",
       "      <td>5</td>\n",
       "      <td>6.813445</td>\n",
       "      <td>0.005495</td>\n",
       "    </tr>\n",
       "    <tr>\n",
       "      <th>7</th>\n",
       "      <td>420</td>\n",
       "      <td>859</td>\n",
       "      <td>5</td>\n",
       "      <td>6.755769</td>\n",
       "      <td>0.005821</td>\n",
       "    </tr>\n",
       "    <tr>\n",
       "      <th>8</th>\n",
       "      <td>480</td>\n",
       "      <td>612</td>\n",
       "      <td>5</td>\n",
       "      <td>6.416732</td>\n",
       "      <td>0.008170</td>\n",
       "    </tr>\n",
       "    <tr>\n",
       "      <th>9</th>\n",
       "      <td>540</td>\n",
       "      <td>548</td>\n",
       "      <td>5</td>\n",
       "      <td>6.306275</td>\n",
       "      <td>0.009124</td>\n",
       "    </tr>\n",
       "    <tr>\n",
       "      <th>10</th>\n",
       "      <td>600</td>\n",
       "      <td>306</td>\n",
       "      <td>5</td>\n",
       "      <td>5.723585</td>\n",
       "      <td>0.016340</td>\n",
       "    </tr>\n",
       "  </tbody>\n",
       "</table>\n",
       "</div>"
      ],
      "text/plain": [
       "    time  Counts  Uncertainty  Log Counts  Log count error\n",
       "0      0    4933            5    8.503703         0.001014\n",
       "1     60    3788            5    8.239593         0.001320\n",
       "2    120    2991            5    8.003363         0.001672\n",
       "3    180    2326            5    7.751905         0.002150\n",
       "4    240    1828            5    7.510978         0.002735\n",
       "5    300    1264            5    7.142037         0.003956\n",
       "6    360     910            5    6.813445         0.005495\n",
       "7    420     859            5    6.755769         0.005821\n",
       "8    480     612            5    6.416732         0.008170\n",
       "9    540     548            5    6.306275         0.009124\n",
       "10   600     306            5    5.723585         0.016340"
      ]
     },
     "execution_count": 96,
     "metadata": {},
     "output_type": "execute_result"
    }
   ],
   "source": [
    "df = pd.DataFrame({'time':times,'Counts':corrected_counts, 'Uncertainty':uncertainty, 'Log Counts':logcounts,'Log count error':logerror})\n",
    "df"
   ]
  },
  {
   "cell_type": "markdown",
   "metadata": {},
   "source": [
    "**3. Plot the data on a semilog plot. Including error bars.**"
   ]
  },
  {
   "cell_type": "markdown",
   "metadata": {},
   "source": [
    "Make a plot using python or other software and enter below. Plot should be time on x axis and ln(counts) on\n",
    "y axis. Use propagation of errors to get uncertainty on log(counts)"
   ]
  },
  {
   "cell_type": "markdown",
   "metadata": {},
   "source": []
  },
  {
   "cell_type": "code",
   "execution_count": 97,
   "metadata": {},
   "outputs": [
    {
     "data": {
      "image/png": "[encoded data removed]",
      "text/plain": [
       "<Figure size 432x288 with 1 Axes>"
      ]
     },
     "metadata": {
      "needs_background": "light"
     },
     "output_type": "display_data"
    }
   ],
   "source": [
    "fig, ax = plt.subplots()\n",
    "\n",
    "for i in range(len(times)):\n",
    "    x=times\n",
    "    y=np.log(corrected_counts)\n",
    "    yerr=uncertainty/np.exp(y)\n",
    "\n",
    "\n",
    "ax.errorbar(x,y,xerr=0,yerr=yerr,fmt='ro')\n",
    "ax.set_xlabel('Time (seconds)')\n",
    "ax.set_ylabel('Log(Corrected Counts)')\n",
    "ax.set_title('Log(Counts) vs Time')\n",
    "plt.show()"
   ]
  },
  {
   "cell_type": "markdown",
   "metadata": {},
   "source": [
    "**3. Calculate the least-squares fit to the data (For simplicity, you may neglect the variable weights if you wish - the counts are such that y uncertainty is usually small).**\n",
    "\n",
    "You can use a python code and other ways to estimate A, B and their uncertainties. Please enter those below."
   ]
  },
  {
   "cell_type": "markdown",
   "metadata": {},
   "source": []
  },
  {
   "cell_type": "markdown",
   "metadata": {},
   "source": [
    "**Draw the fit on the graph.**"
   ]
  },
  {
   "cell_type": "markdown",
   "metadata": {},
   "source": [
    "Update the graph you made in above with the best-fit line. And reenter a new graph here with line. You can use python or any other software to do this."
   ]
  },
  {
   "cell_type": "markdown",
   "metadata": {},
   "source": []
  },
  {
   "cell_type": "markdown",
   "metadata": {},
   "source": [
    "***We provide an example line fit and a graph with line to data using the built-in scipy tools.*** \n",
    "\n",
    "This is not a replacement for what is asked in the lab. Lab requires the use of\n",
    "Taylor equations to determin the line fit A and B values.\n",
    "\n",
    "We also print A, B values and their errors for reference"
   ]
  },
  {
   "cell_type": "code",
   "execution_count": 98,
   "metadata": {},
   "outputs": [
    {
     "data": {
      "image/png": "[encoded data removed]",
      "text/plain": [
       "<Figure size 432x432 with 1 Axes>"
      ]
     },
     "metadata": {
      "needs_background": "light"
     },
     "output_type": "display_data"
    },
    {
     "name": "stdout",
     "output_type": "stream",
     "text": [
      "A and sigmaA: 8.505762994268178 0.011867171662064814\n",
      "B and sigmaB: -0.004299972249137556 8.642827387359253e-05\n"
     ]
    }
   ],
   "source": [
    "def func(x,a,b):\n",
    "    return a + b*x\n",
    "\n",
    "pfit, pcov = optimization.curve_fit(func, times, logcounts, sigma=logerror)\n",
    "a = pfit[0]\n",
    "b = pfit[1]\n",
    "perr= np.sqrt(np.diag(pcov))\n",
    "aerr = perr[0]\n",
    "berr = perr[1]\n",
    "\n",
    "x = np.linspace(times[0],times[10],1000)\n",
    "y = a + b*x\n",
    "yup = (a+aerr) + (b + berr)*x\n",
    "ydown = (a-aerr) + (b - berr)*x\n",
    "plt.figure(figsize=(6,6))\n",
    "for i in range(len(times)):\n",
    "    plt.errorbar(times[i],logcounts[i],yerr=logerror[i],fmt='o',color='blue')\n",
    "    \n",
    "plt.plot(x,y,color='black')\n",
    "plt.plot(x,yup,color='gray',linestyle='dotted')\n",
    "plt.plot(x,ydown,color='gray',linestyle='dotted')\n",
    "plt.xlabel('time (seconds)')\n",
    "plt.ylabel('Log(Corrected Counts)')\n",
    "plt.title('Log(Counts) vs Time')\n",
    "info = ['Error-weighted Line Fit','Estimated + Error line','Estimated - Error line','Measured Values']\n",
    "plt.legend(info)\n",
    "\n",
    "plt.show()\n",
    "\n",
    "print('A and sigmaA:',a,aerr)\n",
    "print('B and sigmaB:',b,berr)"
   ]
  },
  {
   "cell_type": "markdown",
   "metadata": {},
   "source": [
    "**4. From the fit coefficient B, calculate the half-life of <sup>$137m$</sup>$Ba$, including uncertainty.**\n",
    "\n",
    "\n",
    "The accpeted half life is 2.6 minutes. Compare your measurement to the accepted value.\n",
    "\n",
    "Enter your half-life value, its uncertainty, and comparison to 2.6 minutes below"
   ]
  },
  {
   "cell_type": "markdown",
   "metadata": {},
   "source": []
  },
  {
   "cell_type": "markdown",
   "metadata": {},
   "source": [
    "For the example scipy fit we did above the calcualtion is as follows:"
   ]
  },
  {
   "cell_type": "code",
   "execution_count": 99,
   "metadata": {},
   "outputs": [
    {
     "name": "stdout",
     "output_type": "stream",
     "text": [
      "Measured Half-Life: 2.6866343176166994 minutes\n",
      "Uncertainty in Half-Life: 3.240037188348008 seconds\n"
     ]
    }
   ],
   "source": [
    "halflife = (np.log(1/2)/b)/60\n",
    "halflife_uncertainty = np.abs(-berr*np.log(1/2)/b**2)\n",
    "print('Measured Half-Life: {} minutes'.format(halflife))\n",
    "print('Uncertainty in Half-Life: {} seconds'.format(halflife_uncertainty))"
   ]
  },
  {
   "cell_type": "markdown",
   "metadata": {},
   "source": [
    "## 6.4 Reflection Questions"
   ]
  },
  {
   "cell_type": "markdown",
   "metadata": {},
   "source": [
    "1. The three main safety principles for handling radioactive sources are:\n",
    "\n",
    "a. minimize duration of the exposure\n",
    "\n",
    "b. maximize the distance from the source\n",
    "\n",
    "c. maximize the amount of shielding\n",
    "\n",
    "For these three a to c, describe which experiments or which parts of the experiments completed so far demonstrate their  application."
   ]
  },
  {
   "cell_type": "markdown",
   "metadata": {},
   "source": []
  },
  {
   "cell_type": "markdown",
   "metadata": {},
   "source": [
    "2. In the statistical test for inverse-square law we plotted data in terms of $d^{-2}$. Explain how the statistical significance determined may fail if we had used $d$ itself."
   ]
  },
  {
   "cell_type": "markdown",
   "metadata": {},
   "source": []
  },
  {
   "cell_type": "markdown",
   "metadata": {},
   "source": [
    "3. What assumptions about the weights are made in an ordinary least squares fit? In words explain why it makes more sense to use measured weights in a least squares fit."
   ]
  },
  {
   "cell_type": "markdown",
   "metadata": {},
   "source": []
  },
  {
   "cell_type": "markdown",
   "metadata": {},
   "source": [
    "## 6.5 Extra credit analysis"
   ]
  },
  {
   "cell_type": "markdown",
   "metadata": {},
   "source": [
    "This analysis is optional but worth 10 extra points.\n",
    "\n",
    "You can use python (will need to write a small amount of code) or this can be done with excel or any other computer software or program that allows plotting (or even a graphing calculator).\n",
    "You are welcome to use any plotting software i.e. excel, mathematica, python, to do so.  Insert an image of your graph below or upload a separate image to Canvas.\n",
    "\n",
    "If you are using Python feel free to use the example code above we have given for a comparison model fit."
   ]
  },
  {
   "cell_type": "markdown",
   "metadata": {},
   "source": [
    "1. We expect the decay to fall off as 1/d$^{2}$ but we haven’t tested other models. \n",
    "\n",
    "Plot your distance dependence data for count rate vs. 1/d, 1/d$^{2}$, & 1/d$^{3}$ and \n",
    "compute the respective correlation coefficients. \n",
    "\n",
    "Which dependence gives the largest correlation coefficient? \n"
   ]
  },
  {
   "cell_type": "markdown",
   "metadata": {},
   "source": []
  },
  {
   "cell_type": "markdown",
   "metadata": {},
   "source": [
    "2. Suppose you wanted to determine if the 1/d$^{2}$ dependence is\n",
    "consistent with your data from Section 6.3.2, instead of the null hypothesis we have made that ${-2}$ dependence is correct (i.e., inverse-square law). \n",
    "\n",
    "For example, we have not discriminated between 1/d$^{2}$ and say 1/d$^{2.1}$. \n",
    "\n",
    "We can test for this dependence using the data and by measuring directly the coefficient $\\alpha$ in which\n",
    "$1/d^{2+\\alpha}$.\n",
    "\n",
    "Using any analysis technique, perform a model estimate to obtain the best-fit value of $\\alpha$ given the data\n",
    "obtained in Section 6.3.2. Explain how you obtained the $\\alpha$ value and its error.\n",
    "\n",
    "For this analysis you may want to consider a model fit to the counts $N$ of the form\n",
    "$N=N_0/d^{2+\\alpha}$ and constrain both the normalization $N_0$ and $\\alpha$ as two parameters. \n",
    "The fit will likely not be a linear model fit but one can easily minimize $\\chi^2$ to constrain $N_0$ and $\\alpha$.\n",
    "\n",
    "What is the best-fit value of $\\alpha$ allowed by the data and its uncertainty?\n",
    "\n",
    "Describe your attempt and details, including any codes/plots below."
   ]
  },
  {
   "cell_type": "markdown",
   "metadata": {},
   "source": []
  }
 ],
 "metadata": {
  "kernelspec": {
   "display_name": "Python 3",
   "language": "python",
   "name": "python3"
  },
  "language_info": {
   "codemirror_mode": {
    "name": "ipython",
    "version": 3
   },
   "file_extension": ".py",
   "mimetype": "text/x-python",
   "name": "python",
   "nbconvert_exporter": "python",
   "pygments_lexer": "ipython3",
   "version": "3.7.4"
  }
 },
 "nbformat": 4,
 "nbformat_minor": 2
}
