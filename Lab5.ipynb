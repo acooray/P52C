{
 "cells": [
  {
   "cell_type": "markdown",
   "metadata": {},
   "source": [
    "# Lab 5 Notebook\n",
    "written by Corey Beard ccbeard@uci.edu\n",
    "\n",
    "This notebook will attempt to simulate Physics 52C Lab 5 related to Inverse Photoelectric Effect. \n",
    "\n",
    "Certain cells will be editable, and are meant to mimic students adjusting settings on laboratory equipment. Certain cells are uneditable, and are meant to simulate nature, producing values as read by your instrument, depending on your settings.\n"
   ]
  },
  {
   "cell_type": "code",
   "execution_count": 4,
   "metadata": {},
   "outputs": [],
   "source": [
    "%matplotlib inline\n",
    "import numpy as np\n",
    "import matplotlib.pyplot as plt\n",
    "import pandas as pd\n",
    "import scipy.optimize as optimization"
   ]
  },
  {
   "cell_type": "markdown",
   "metadata": {},
   "source": [
    "### This next cell is the main function that returns currents depending on the color of your diode, and the voltage values you are measuring. \n",
    "\n",
    "**It should not be edited.**"
   ]
  },
  {
   "cell_type": "code",
   "execution_count": 5,
   "metadata": {},
   "outputs": [],
   "source": [
    "def Current(V,Color):    \n",
    "    # This function will take in a voltage and diode color, and spit out the corresponding current\n",
    "        \n",
    "    V_Red=1.8\n",
    "    V_Blue=2.3\n",
    "    V_Yellow=1.9\n",
    "    V_Green=2.0\n",
    "    V_Violet=2.6\n",
    "    V_UV=2.7\n",
    "    \n",
    "    #elec = 1.602*10**(-19)\n",
    "    #k = 1.38*10**(-23)\n",
    "    #T = 300\n",
    "    \n",
    "    if Color == 'Red':\n",
    "        if V < V_Red:\n",
    "            out = 0.0 \n",
    "        else:\n",
    "            out = np.exp(V-V_Red)-1\n",
    "    elif Color == 'Blue':\n",
    "        if V < V_Blue:\n",
    "            out = 0.0 \n",
    "        else:\n",
    "            out = np.exp(V-V_Blue)-1 \n",
    "    elif Color == 'Yellow':\n",
    "        if V < V_Yellow:\n",
    "            out = 0.0 \n",
    "        else:\n",
    "            out = np.exp(V-V_Yellow)-1 \n",
    "    elif Color == 'Green':\n",
    "        if V < V_Green:\n",
    "            out = 0.0 \n",
    "        else:\n",
    "            out = np.exp(V-V_Green)-1 \n",
    "    elif Color == 'Violet':\n",
    "        if V < V_Violet:\n",
    "            out = 0.0 \n",
    "        else:\n",
    "            out = np.exp(V-V_Violet)-1 \n",
    "    elif Color == 'UV':\n",
    "        if V < V_UV:\n",
    "            out = 0.0 \n",
    "        else:\n",
    "            out = np.exp(V-V_UV)-1 \n",
    "    else:\n",
    "        print('Make sure Color is set as Red, Blue, Yellow, Green, Violet or UV')\n",
    "        \n",
    "    if out > 0.0001: return out/5*(1+np.random.normal(0,0.05))    \n",
    "    else: return np.abs(0.0001*(1+np.random.normal(0,0.05)))"
   ]
  },
  {
   "cell_type": "markdown",
   "metadata": {},
   "source": [
    "**These are default parameters. And should not be edited also.**"
   ]
  },
  {
   "cell_type": "code",
   "execution_count": 6,
   "metadata": {},
   "outputs": [],
   "source": [
    "Resistor_R = 100.0 #Resistance of the resistor, in Ohms"
   ]
  },
  {
   "cell_type": "markdown",
   "metadata": {},
   "source": [
    "## 5.3.2 Diode I-V Characteristics"
   ]
  },
  {
   "cell_type": "markdown",
   "metadata": {},
   "source": [
    "Here your goal is to see how current flows through a circuit as you change voltage, when using diodes of different colors. \n",
    "\n",
    "**Lab guide says use the 635nm LED, so we'll use the \"red\" colored LED.**"
   ]
  },
  {
   "cell_type": "markdown",
   "metadata": {},
   "source": [
    "The cell below returns the current for an input voltage value. Lab guide says describe the behavior of current\n",
    "as the voltage is decreased from a high value. Input different voltage values and see what the output current is."
   ]
  },
  {
   "cell_type": "code",
   "execution_count": 7,
   "metadata": {},
   "outputs": [
    {
     "name": "stdout",
     "output_type": "stream",
     "text": [
      "Input volts (Volt): {}.format(Volts)\n",
      "Output Current 0.00010014567512904014 (mA)\n"
     ]
    }
   ],
   "source": [
    "LED_color = 'Red'  #LED color - for this section its fixed to Red\n",
    "Volts=1.79 #input the voltage - edit this cell and rerun as needed \n",
    "I=Current(Volts,LED_color)\n",
    "print('Input volts (Volt): {}.format(Volts)')\n",
    "print('Output Current {} (mA)'.format(I))"
   ]
  },
  {
   "cell_type": "markdown",
   "metadata": {},
   "source": [
    "**1. Turn down the voltage until the current is close to zero as possible. This iw when the LED is barely glowing. What is the  minimum current you can determine?**"
   ]
  },
  {
   "cell_type": "markdown",
   "metadata": {},
   "source": []
  },
  {
   "cell_type": "markdown",
   "metadata": {},
   "source": [
    "**This may be easier to answer with the next step by making a graph of 15-20 values of V vs I.** \n",
    "\n",
    "To help with this we give a python code to generate all the measurements in one go. First the variables."
   ]
  },
  {
   "cell_type": "code",
   "execution_count": 8,
   "metadata": {},
   "outputs": [],
   "source": [
    "Min_Voltage = 0.0 #The minimium voltage\n",
    "Max_Voltage = 3.0 # The maximum voltage \n",
    "Measurements = 20 #Number of voltage measurements you plant to take for each LED\n",
    "LED_color = 'Red'  #LED color - for this section its fixed to Red"
   ]
  },
  {
   "cell_type": "markdown",
   "metadata": {},
   "source": [
    "Below is the routine that generates V vs I data."
   ]
  },
  {
   "cell_type": "code",
   "execution_count": 9,
   "metadata": {},
   "outputs": [
    {
     "name": "stdout",
     "output_type": "stream",
     "text": [
      "    Voltage (Volt)  Current (mA)\n",
      "0             0.00      0.000104\n",
      "1             0.15      0.000093\n",
      "2             0.30      0.000101\n",
      "3             0.45      0.000104\n",
      "4             0.60      0.000103\n",
      "5             0.75      0.000095\n",
      "6             0.90      0.000103\n",
      "7             1.05      0.000099\n",
      "8             1.20      0.000097\n",
      "9             1.35      0.000101\n",
      "10            1.50      0.000096\n",
      "11            1.65      0.000096\n",
      "12            1.80      0.000106\n",
      "13            1.95      0.032357\n",
      "14            2.10      0.071624\n",
      "15            2.25      0.104626\n",
      "16            2.40      0.175277\n",
      "17            2.55      0.205946\n",
      "18            2.70      0.266815\n",
      "19            2.85      0.361885\n"
     ]
    }
   ],
   "source": [
    "Volts = np.arange(Min_Voltage,Max_Voltage,(Max_Voltage-Min_Voltage)/Measurements)\n",
    "I = []\n",
    "for v in Volts:\n",
    "    I.append(Current(v,LED_color))\n",
    "\n",
    "df = pd.DataFrame({\"Voltage (Volt)\": Volts, \"Current (mA)\": I})\n",
    "print(df)"
   ]
  },
  {
   "cell_type": "markdown",
   "metadata": {},
   "source": [
    "**2. Make a plot of the above V vs I data.**\n",
    "\n",
    "Section says plot for both linear and on a semi-log graph. Try to get more measurements close to the I low region as possible. You can make these plots within python or outside of python like excel. Please enter code/plots below or insert (or upload) images/photos of the grpah. If you need semi-log paper, you can print them from here: http://www.physics.utah.edu/~gernot/elem_labs/Graph_paper.htm\n",
    "\n",
    "We encourage codes written within Python whenever possible. To help we give the example for the plot below."
   ]
  },
  {
   "cell_type": "markdown",
   "metadata": {},
   "source": []
  },
  {
   "cell_type": "markdown",
   "metadata": {},
   "source": [
    "***Here we give an example python code to plot red LED V vs I data***"
   ]
  },
  {
   "cell_type": "code",
   "execution_count": 10,
   "metadata": {},
   "outputs": [
    {
     "data": {
      "image/png": "[encoded data removed]",
      "text/plain": [
       "<Figure size 864x432 with 2 Axes>"
      ]
     },
     "metadata": {
      "needs_background": "light"
     },
     "output_type": "display_data"
    }
   ],
   "source": [
    "plt.figure(figsize=(12,6))\n",
    "\n",
    "plot_color = LED_color\n",
    "if LED_color == 'UV':\n",
    "    plot_color = 'black'\n",
    "\n",
    "plt.subplot(121)\n",
    "\n",
    "plt.scatter(Volts,I,color=plot_color)\n",
    "plt.title(LED_color+' LED Current as a Function of Voltage')\n",
    "plt.xlabel('Voltage (V)')\n",
    "plt.ylabel('Current (mA)')\n",
    "\n",
    "\n",
    "plt.subplot(122)\n",
    "\n",
    "plt.scatter(Volts,np.log(I),color=plot_color)\n",
    "plt.title('Semi-Log plot of ' + LED_color+' LED Current as a Function of Voltage')\n",
    "plt.xlabel('Voltage (V)')\n",
    "plt.ylabel('Log(Current) (Log(mA))')\n",
    "\n",
    "plt.show()"
   ]
  },
  {
   "cell_type": "markdown",
   "metadata": {},
   "source": [
    "Note that on the above semi-log graph, the large gap of I values when it decrease since we only sample V values uniformly when generating the data. You can resample or add more data points than 20 to try to fill this gap. \n",
    "\n",
    "Even with more data you'll notice a break; this is how the LED behaves and consistent with lab measurements. See below with a large number (1000) of measurements."
   ]
  },
  {
   "cell_type": "code",
   "execution_count": 11,
   "metadata": {},
   "outputs": [
    {
     "data": {
      "image/png": "[encoded data removed]",
      "text/plain": [
       "<Figure size 432x432 with 1 Axes>"
      ]
     },
     "metadata": {
      "needs_background": "light"
     },
     "output_type": "display_data"
    }
   ],
   "source": [
    "#best not to edit any below\n",
    "plt.figure(figsize=(6,6))\n",
    "Measurements = 1000 #Number of voltage measurements you plant to take for each LED\n",
    "Volts = np.arange(Min_Voltage,Max_Voltage,(Max_Voltage-Min_Voltage)/Measurements)\n",
    "I = []\n",
    "for v in Volts:\n",
    "    I.append(Current(v,LED_color))\n",
    "\n",
    "plt.scatter(Volts,np.log(I),color=plot_color)\n",
    "plt.title('Sem-log plot of ' + LED_color+' LED Current as a Function of Voltage')\n",
    "plt.xlabel('Voltage (V)')\n",
    "plt.ylabel('Log(Current) (Log(mA))')\n",
    "\n",
    "plt.show()"
   ]
  },
  {
   "cell_type": "markdown",
   "metadata": {},
   "source": [
    "The Voltage value where I drop rapidly is the **turn-on voltage** that LED starts to light up."
   ]
  },
  {
   "cell_type": "markdown",
   "metadata": {},
   "source": [
    "# 5.3.3 Dependence of Voltage on Wavelength"
   ]
  },
  {
   "cell_type": "markdown",
   "metadata": {},
   "source": [
    "This section involves measuring the turn-on voltages and their uncertainties for all six LEDs.\n",
    "\n",
    "The six LEDS, wavelength are as follows:\n",
    "\n",
    "|  Color |lambda  |\n",
    "|-------|--------|\n",
    "|UV     | 375 nm |\n",
    "|-------|--------|\n",
    "|Violet | 400 nm |\n",
    "|-------|--------|\n",
    "|Blue   | 470 nm |\n",
    "|-------|--------|\n",
    "|Green  | 535 nm |\n",
    "|-------|--------|\n",
    "|Yellow | 580 nm |\n",
    "|-------|--------|\n",
    "|Red    | 635 nm | \n",
    "\n",
    "\n",
    "\n",
    "This can be done by changing the color of the LED in above code and plotting each LED curve. \n",
    "\n",
    "We reproduce the code and curve below. To be consistent with lab, try to estimate turn-on voltages with just 20 measurements so the uncertainty is a better reflection of the expected lab measurements.\n",
    "\n",
    "**Change LED color below and rerun and estimate turn-on voltages and an uncertainty to turn-on voltage.**\n",
    "\n",
    "Record data on a paper. After several boxes below you will find a pyhton box to enter voltages and uncertainties to arrays for further calculations. If easier, the second box below provides a way to get data of all six LEDs in a single table."
   ]
  },
  {
   "cell_type": "code",
   "execution_count": 12,
   "metadata": {},
   "outputs": [
    {
     "data": {
      "image/png": "[encoded data removed]",
      "text/plain": [
       "<Figure size 432x432 with 1 Axes>"
      ]
     },
     "metadata": {
      "needs_background": "light"
     },
     "output_type": "display_data"
    }
   ],
   "source": [
    "Measurements = 20 #Number of voltage measurements you plant to take for each LED - keep to 20 for lab\n",
    "\n",
    "Min_Voltage = 1.0 #The minimium voltage, may need to change\n",
    "Max_Voltage = 4.0 # The maximum voltage, may need to change\n",
    "\n",
    "LED_color = 'Blue'  #Edit this entry for six LEDs. Options are: UV, Violet, Blue, Green, Yellow, Red\n",
    "\n",
    "\n",
    "#best not to edit below\n",
    "\n",
    "plt.figure(figsize=(6,6))\n",
    "\n",
    "plot_color = LED_color\n",
    "if LED_color == 'UV':\n",
    "    plot_color = 'black'\n",
    "\n",
    "Volts = np.arange(Min_Voltage,Max_Voltage,(Max_Voltage-Min_Voltage)/Measurements)\n",
    "I = []\n",
    "for v in Volts:\n",
    "    I.append(Current(v,LED_color))\n",
    "\n",
    "plt.scatter(Volts,np.log(I),color=plot_color)\n",
    "plt.title('Sem-log plot of ' + LED_color+' LED Current as a Function of Voltage')\n",
    "plt.xlabel('Voltage (V)')\n",
    "plt.ylabel('Log(Current) (Log(mA))')\n",
    "\n",
    "plt.show()"
   ]
  },
  {
   "cell_type": "markdown",
   "metadata": {},
   "source": [
    "Below is a pyhton code to generate all data in one go. And a single plot of all six LED data graphed together. "
   ]
  },
  {
   "cell_type": "code",
   "execution_count": 13,
   "metadata": {},
   "outputs": [
    {
     "name": "stdout",
     "output_type": "stream",
     "text": [
      "    V Volt  UV I(mA)  Violet I    Blue I   Green I  Yellow I  Red I(mA)\n",
      "0     1.00  0.000107  0.000111  0.000091  0.000105  0.000101   0.000096\n",
      "1     1.15  0.000101  0.000096  0.000101  0.000102  0.000092   0.000092\n",
      "2     1.30  0.000103  0.000103  0.000093  0.000104  0.000102   0.000103\n",
      "3     1.45  0.000094  0.000103  0.000104  0.000101  0.000109   0.000100\n",
      "4     1.60  0.000099  0.000100  0.000104  0.000106  0.000097   0.000096\n",
      "5     1.75  0.000092  0.000105  0.000109  0.000103  0.000095   0.000095\n",
      "6     1.90  0.000104  0.000096  0.000096  0.000108  0.000100   0.021105\n",
      "7     2.05  0.000104  0.000093  0.000098  0.010814  0.032353   0.061596\n",
      "8     2.20  0.000100  0.000099  0.000103  0.042931  0.069238   0.095729\n",
      "9     2.35  0.000101  0.000098  0.010300  0.085798  0.123052   0.136257\n",
      "10    2.50  0.000100  0.000112  0.043173  0.133656  0.155817   0.204327\n",
      "11    2.65  0.000104  0.010406  0.079937  0.188715  0.227063   0.261360\n",
      "12    2.80  0.021263  0.046698  0.128170  0.231577  0.307666   0.334863\n",
      "13    2.95  0.055012  0.079002  0.189698  0.340588  0.396093   0.426310\n",
      "14    3.10  0.099460  0.134922  0.243971  0.429335  0.454816   0.502591\n",
      "15    3.25  0.136357  0.178670  0.300087  0.479878  0.524041   0.655794\n",
      "16    3.40  0.194950  0.263743  0.415428  0.604797  0.669161   0.848379\n",
      "17    3.55  0.265316  0.332559  0.512043  0.736525  0.821455   0.877286\n",
      "18    3.70  0.332519  0.406600  0.617745  0.926735  1.001329   1.124564\n",
      "19    3.85  0.414339  0.548693  0.765649  1.041409  1.201658   1.301468\n"
     ]
    },
    {
     "data": {
      "image/png": "[encoded data removed]",
      "text/plain": [
       "<Figure size 576x576 with 1 Axes>"
      ]
     },
     "metadata": {
      "needs_background": "light"
     },
     "output_type": "display_data"
    }
   ],
   "source": [
    "Measurements = 20 #Number of voltage measurements you plant to take for each LED - keep to 20 for lab\n",
    "\n",
    "Min_Voltage = 1.0 #The minimium voltage, may need to change\n",
    "Max_Voltage = 4.0 # The maximum voltage, may need to change\n",
    "\n",
    "#best not to edit below\n",
    "\n",
    "colors = ['UV','Violet','Blue','Green','Yellow','Red']\n",
    "plot_colors =  ['black','violet','blue','green','yellow','red']\n",
    "data = {}\n",
    "#get the data for all the colors\n",
    "for i in range(len(colors)):\n",
    "    temp = []\n",
    "    for j in range(len(Volts)):\n",
    "        temp.append(Current(Volts[j],colors[i]))\n",
    "    data[colors[i]]=temp\n",
    "  \n",
    "df = pd.DataFrame({\"V Volt\": Volts, \"UV I(mA)\": data[colors[0]],\\\n",
    "                   \"Violet I\": data[colors[1]],\\\n",
    "                   \"Blue I\": data[colors[2]],\\\n",
    "                   \"Green I\": data[colors[3]],\\\n",
    "                   \"Yellow I\": data[colors[4]],\\\n",
    "                   \"Red I(mA)\": data[colors[5]]})\n",
    "print(df)\n",
    "\n",
    "#nowa single plot them all together\n",
    "plt.figure(figsize=(8,8))\n",
    "for i in range(len(colors)):\n",
    "    plt.scatter(Volts,data[colors[i]],color=plot_colors[i])\n",
    "plt.title('Current as a Function of Voltage For 6 Diodes')\n",
    "plt.ylabel('Current (mA)')\n",
    "plt.xlabel('Voltage (V)')\n",
    "plt.legend(colors)\n",
    "plt.show()"
   ]
  },
  {
   "cell_type": "markdown",
   "metadata": {},
   "source": [
    "### Using data generated above make a Table of LED wavelength, LED frequency, V$_x$ (turn on volatge/Volts), $\\sigma$(V$_x$) (uncertainty in turn-on voltage/Volts)"
   ]
  },
  {
   "cell_type": "markdown",
   "metadata": {},
   "source": [
    "***text says also record current at the minimum, since this is not needed for 5.3.4 below, lets ignore recording current data***"
   ]
  },
  {
   "cell_type": "markdown",
   "metadata": {},
   "source": [
    "First we generate wavelength (copied from entries in first text cell under 5.3.3) and frequency arrays. There is nothing to edit below except to Run the code."
   ]
  },
  {
   "cell_type": "code",
   "execution_count": 14,
   "metadata": {},
   "outputs": [],
   "source": [
    "#all wavelengths are in nm\n",
    "\n",
    "#this cell is fixed values so best not edit\n",
    "\n",
    "c=3e8 #light speed m/s\n",
    "\n",
    "lambda_UV = 375\n",
    "lambda_Violet = 400\n",
    "lambda_Blue = 470\n",
    "lambda_Green = 535\n",
    "lambda_Yellow = 580\n",
    "lambda_Red = 635\n",
    "\n",
    "lambda_array = np.array([lambda_UV,lambda_Violet,lambda_Blue,lambda_Green,lambda_Yellow,lambda_Red])\n",
    "freq_array = c/(lambda_array*1e-9)/1e12 # freq in THz"
   ]
  },
  {
   "cell_type": "markdown",
   "metadata": {},
   "source": [
    "**1. Use the figure or data above to estimate the turn on voltage for each LED color, and record it in the cell below.** \n",
    "\n",
    "In above you may have already done the work and recorded the turn-on voltages and uncertainities on a paper. Below enter those values, separated by LED color.\n",
    "\n",
    "The entries are left blank now. **If you run this code without entries you will get an error. If you want to run the code, at least enter dummy values and replace them later with measurements from data.**"
   ]
  },
  {
   "cell_type": "code",
   "execution_count": 15,
   "metadata": {},
   "outputs": [
    {
     "ename": "SyntaxError",
     "evalue": "invalid syntax (<ipython-input-15-770a9af0731a>, line 8)",
     "output_type": "error",
     "traceback": [
      "\u001b[0;36m  File \u001b[0;32m\"<ipython-input-15-770a9af0731a>\"\u001b[0;36m, line \u001b[0;32m8\u001b[0m\n\u001b[0;31m    Vx_UV =              #turn-on voltage enter here - to an accuracy consistent with error\u001b[0m\n\u001b[0m                                                                                           ^\u001b[0m\n\u001b[0;31mSyntaxError\u001b[0m\u001b[0;31m:\u001b[0m invalid syntax\n"
     ]
    }
   ],
   "source": [
    "# This is where  you enter data. \n",
    "# Vx_color is the value of turn-on voltage\n",
    "# Vxerr_color is the value of uncertainty or error on turn-on voltage\n",
    "\n",
    "\n",
    "#UV LED\n",
    "\n",
    "Vx_UV =              # turn-on voltage enter here - to an accuracy consistent with error\n",
    "Vxerr_UV=            # error enter here. \n",
    "\n",
    "# for other LEDs follow as above.\n",
    "\n",
    "#Violet LED\n",
    "\n",
    "Vx_Violet = \n",
    "Vxerr_Violet= \n",
    "\n",
    "#Blue LED\n",
    "\n",
    "Vx_Blue = \n",
    "Vxerr_Blue=\n",
    "\n",
    "#Green LED\n",
    "Vx_Green = \n",
    "Vxerr_Green=\n",
    "\n",
    "#Yellow LED\n",
    "Vx_Yellow = \n",
    "Vxerr_Yellow=\n",
    "\n",
    "#Red LED\n",
    "Vx_Red = \n",
    "Vxerr_Red=\n",
    "\n",
    "#this is for later use so best not to edit below\n",
    "\n",
    "volt_array = np.array([Vx_UV,Vx_Violet,Vx_Blue,Vx_Green,Vx_Yellow,Vx_Red])\n",
    "err_array = np.array([Vxerr_UV,Vxerr_Violet,Vxerr_Blue,Vxerr_Green,Vxerr_Yellow,Vxerr_Red])"
   ]
  },
  {
   "cell_type": "markdown",
   "metadata": {},
   "source": [
    "This next cell creates a table of your values, and **should not be edited.**"
   ]
  },
  {
   "cell_type": "code",
   "execution_count": 16,
   "metadata": {},
   "outputs": [
    {
     "ename": "NameError",
     "evalue": "name 'volt_array' is not defined",
     "output_type": "error",
     "traceback": [
      "\u001b[0;31m---------------------------------------------------------------------------\u001b[0m",
      "\u001b[0;31mNameError\u001b[0m                                 Traceback (most recent call last)",
      "\u001b[0;32m<ipython-input-16-0c8dbbe0b4d8>\u001b[0m in \u001b[0;36m<module>\u001b[0;34m\u001b[0m\n\u001b[0;32m----> 1\u001b[0;31m \u001b[0mdf\u001b[0m \u001b[0;34m=\u001b[0m \u001b[0mpd\u001b[0m\u001b[0;34m.\u001b[0m\u001b[0mDataFrame\u001b[0m\u001b[0;34m(\u001b[0m\u001b[0;34m{\u001b[0m\u001b[0;34m\"Wavelength (microns)\"\u001b[0m\u001b[0;34m:\u001b[0m \u001b[0mlambda_array\u001b[0m\u001b[0;34m,\u001b[0m \u001b[0;34m\"Freq (THz)\"\u001b[0m\u001b[0;34m:\u001b[0m \u001b[0mfreq_array\u001b[0m\u001b[0;34m,\u001b[0m \u001b[0;34m\"Turn-on Volt (V)\"\u001b[0m\u001b[0;34m:\u001b[0m \u001b[0mvolt_array\u001b[0m\u001b[0;34m,\u001b[0m \u001b[0;34m\"Volt Error (V)\"\u001b[0m\u001b[0;34m:\u001b[0m \u001b[0merr_array\u001b[0m\u001b[0;34m}\u001b[0m\u001b[0;34m)\u001b[0m\u001b[0;34m\u001b[0m\u001b[0;34m\u001b[0m\u001b[0m\n\u001b[0m\u001b[1;32m      2\u001b[0m \u001b[0mprint\u001b[0m\u001b[0;34m(\u001b[0m\u001b[0mdf\u001b[0m\u001b[0;34m)\u001b[0m\u001b[0;34m\u001b[0m\u001b[0;34m\u001b[0m\u001b[0m\n",
      "\u001b[0;31mNameError\u001b[0m: name 'volt_array' is not defined"
     ]
    }
   ],
   "source": [
    "df = pd.DataFrame({\"Wavelength (microns)\": lambda_array, \"Freq (THz)\": freq_array, \"Turn-on Volt (V)\": volt_array, \"Volt Error (V)\": err_array})\n",
    "print(df)"
   ]
  },
  {
   "cell_type": "markdown",
   "metadata": {},
   "source": [
    "**2. Explain below how you estimate the uncertainty or error on turn-on voltage. It is completely fine to make a rough estimate of the error based on your V vs I graphs by eye. You are also free to use some statistical analysis method, but not required.** "
   ]
  },
  {
   "cell_type": "markdown",
   "metadata": {},
   "source": []
  },
  {
   "cell_type": "markdown",
   "metadata": {},
   "source": [
    "# 5.3.4 Least Squares Fitting"
   ]
  },
  {
   "cell_type": "markdown",
   "metadata": {},
   "source": [
    "**1. Plot the turn on voltages $V_x$ as a function of the frequency, include error bars capturing the uncertainty for $V_x$. You can plot the data outside of python. If you do please insert an image or upload your graph.**"
   ]
  },
  {
   "cell_type": "markdown",
   "metadata": {},
   "source": []
  },
  {
   "cell_type": "markdown",
   "metadata": {},
   "source": [
    "For reference below is a python code to plot the data entered above."
   ]
  },
  {
   "cell_type": "code",
   "execution_count": 17,
   "metadata": {},
   "outputs": [
    {
     "ename": "NameError",
     "evalue": "name 'volt_array' is not defined",
     "output_type": "error",
     "traceback": [
      "\u001b[0;31m---------------------------------------------------------------------------\u001b[0m",
      "\u001b[0;31mNameError\u001b[0m                                 Traceback (most recent call last)",
      "\u001b[0;32m<ipython-input-17-0c890004608e>\u001b[0m in \u001b[0;36m<module>\u001b[0;34m\u001b[0m\n\u001b[1;32m      3\u001b[0m \u001b[0;32mfor\u001b[0m \u001b[0mi\u001b[0m \u001b[0;32min\u001b[0m \u001b[0mrange\u001b[0m\u001b[0;34m(\u001b[0m\u001b[0mlen\u001b[0m\u001b[0;34m(\u001b[0m\u001b[0mcolors\u001b[0m\u001b[0;34m)\u001b[0m\u001b[0;34m)\u001b[0m\u001b[0;34m:\u001b[0m\u001b[0;34m\u001b[0m\u001b[0;34m\u001b[0m\u001b[0m\n\u001b[1;32m      4\u001b[0m     \u001b[0mx\u001b[0m\u001b[0;34m=\u001b[0m\u001b[0mfreq_array\u001b[0m\u001b[0;34m\u001b[0m\u001b[0;34m\u001b[0m\u001b[0m\n\u001b[0;32m----> 5\u001b[0;31m     \u001b[0my\u001b[0m\u001b[0;34m=\u001b[0m\u001b[0mvolt_array\u001b[0m\u001b[0;34m\u001b[0m\u001b[0;34m\u001b[0m\u001b[0m\n\u001b[0m\u001b[1;32m      6\u001b[0m     \u001b[0myerr\u001b[0m\u001b[0;34m=\u001b[0m\u001b[0merr_array\u001b[0m\u001b[0;34m\u001b[0m\u001b[0;34m\u001b[0m\u001b[0m\n\u001b[1;32m      7\u001b[0m \u001b[0;34m\u001b[0m\u001b[0m\n",
      "\u001b[0;31mNameError\u001b[0m: name 'volt_array' is not defined"
     ]
    },
    {
     "data": {
      "image/png": "[encoded data removed]",
      "text/plain": [
       "<Figure size 432x288 with 1 Axes>"
      ]
     },
     "metadata": {
      "needs_background": "light"
     },
     "output_type": "display_data"
    }
   ],
   "source": [
    "fig, ax = plt.subplots()\n",
    "\n",
    "for i in range(len(colors)):\n",
    "    x=freq_array\n",
    "    y=volt_array\n",
    "    yerr=err_array\n",
    "\n",
    "ax.errorbar(x,y,xerr=0,yerr=yerr,fmt='ro')\n",
    "ax.set_xlabel('Freq (THz)')\n",
    "ax.set_ylabel('Turn-on Voltage Vx (Volt)')\n",
    "ax.set_title('Turn on Voltage as a Function of Frequency')\n",
    "plt.show()"
   ]
  },
  {
   "cell_type": "markdown",
   "metadata": {},
   "source": [
    "**Now follow Taylor Chapter 8 to determine the best-fit values for a line of the form $y=A+B*x$ to describe the data, where $y$ would be turn-on voltage and $x$ freq (in THz).**\n",
    "\n",
    "Here the linear fit is such that $B$ denotes gradient and $A$ is the intercept. \n",
    "\n",
    "Note that Taylor Chapter 8 has equations to determine A and B in the case errors of y values are ignored. If you used those equations please state below. It is recommended, but not required, to do a model fit with y errors.\n",
    "Model fitting data with errors involve weighting each data point by the variance and correcting the normalization for the weights used. Equations accounting for non-uniform y errors are given on Page 198 of Taylor and also derived and shown in boxes in Problem 8.9.\n",
    "\n",
    "**2. What are the best fit values of A and B and their errors, $\\delta A$ and $\\delta B$?**\n"
   ]
  },
  {
   "cell_type": "markdown",
   "metadata": {},
   "source": []
  },
  {
   "cell_type": "markdown",
   "metadata": {},
   "source": [
    "**3. Also add the best-fit line to your graph of data, you can update the graph in 1 or insert below.**"
   ]
  },
  {
   "cell_type": "markdown",
   "metadata": {},
   "source": []
  },
  {
   "cell_type": "markdown",
   "metadata": {},
   "source": [
    "**4. State which method (including y errors or y errors ignored) was used to determine A and B, and their errors $\\delta A$ and $\\delta B$.**"
   ]
  },
  {
   "cell_type": "markdown",
   "metadata": {},
   "source": []
  },
  {
   "cell_type": "markdown",
   "metadata": {},
   "source": [
    "**5. Update the graph in 2 above to also include two additional lines (plotted as dotted lines) that represent the cases of $B \\pm \\delta B$.**\n",
    "\n",
    "Insert an image of your graph below or upload a separate image to Canvas. You are also free to show these two lines in graph related to item 2 in above.\n"
   ]
  },
  {
   "cell_type": "markdown",
   "metadata": {},
   "source": [
    "**6. Use the value of B and error $\\delta B$ to calculate $h/e$ and its error and compare with the accepted value.** "
   ]
  },
  {
   "cell_type": "markdown",
   "metadata": {},
   "source": []
  },
  {
   "cell_type": "markdown",
   "metadata": {},
   "source": [
    "### Comparison results"
   ]
  },
  {
   "cell_type": "markdown",
   "metadata": {},
   "source": [
    "***For comparison, we use a built-in routine in scipy to do a least-squares model fit to the data. Below should not be edited. You should check on e/h value and its error below for comparison.***"
   ]
  },
  {
   "cell_type": "code",
   "execution_count": 18,
   "metadata": {},
   "outputs": [
    {
     "ename": "NameError",
     "evalue": "name 'volt_array' is not defined",
     "output_type": "error",
     "traceback": [
      "\u001b[0;31m---------------------------------------------------------------------------\u001b[0m",
      "\u001b[0;31mNameError\u001b[0m                                 Traceback (most recent call last)",
      "\u001b[0;32m<ipython-input-18-0fa667564f08>\u001b[0m in \u001b[0;36m<module>\u001b[0;34m\u001b[0m\n\u001b[1;32m      2\u001b[0m     \u001b[0;32mreturn\u001b[0m \u001b[0ma\u001b[0m \u001b[0;34m+\u001b[0m \u001b[0mb\u001b[0m\u001b[0;34m*\u001b[0m\u001b[0mx\u001b[0m\u001b[0;34m\u001b[0m\u001b[0;34m\u001b[0m\u001b[0m\n\u001b[1;32m      3\u001b[0m \u001b[0;34m\u001b[0m\u001b[0m\n\u001b[0;32m----> 4\u001b[0;31m \u001b[0mpfit\u001b[0m\u001b[0;34m,\u001b[0m \u001b[0mpcov\u001b[0m \u001b[0;34m=\u001b[0m \u001b[0moptimization\u001b[0m\u001b[0;34m.\u001b[0m\u001b[0mcurve_fit\u001b[0m\u001b[0;34m(\u001b[0m\u001b[0mfunc\u001b[0m\u001b[0;34m,\u001b[0m \u001b[0mfreq_array\u001b[0m\u001b[0;34m,\u001b[0m \u001b[0mvolt_array\u001b[0m\u001b[0;34m)\u001b[0m\u001b[0;34m\u001b[0m\u001b[0;34m\u001b[0m\u001b[0m\n\u001b[0m\u001b[1;32m      5\u001b[0m \u001b[0ma\u001b[0m \u001b[0;34m=\u001b[0m \u001b[0mpfit\u001b[0m\u001b[0;34m[\u001b[0m\u001b[0;36m0\u001b[0m\u001b[0;34m]\u001b[0m\u001b[0;34m\u001b[0m\u001b[0;34m\u001b[0m\u001b[0m\n\u001b[1;32m      6\u001b[0m \u001b[0mb\u001b[0m \u001b[0;34m=\u001b[0m \u001b[0mpfit\u001b[0m\u001b[0;34m[\u001b[0m\u001b[0;36m1\u001b[0m\u001b[0;34m]\u001b[0m\u001b[0;34m\u001b[0m\u001b[0;34m\u001b[0m\u001b[0m\n",
      "\u001b[0;31mNameError\u001b[0m: name 'volt_array' is not defined"
     ]
    }
   ],
   "source": [
    "def func(x,a,b):\n",
    "    return a + b*x\n",
    "\n",
    "pfit, pcov = optimization.curve_fit(func, freq_array, volt_array)\n",
    "a = pfit[0]\n",
    "b = pfit[1]\n",
    "perr= np.sqrt(np.diag(pcov))\n",
    "aerr = perr[0]\n",
    "berr = perr[1]\n",
    "\n",
    "x = np.linspace(freq_array[0],freq_array[5],1000)\n",
    "y = a + b*x\n",
    "yup = (a) + (b + berr)*x\n",
    "ydown = (a) + (b - berr)*x\n",
    "plt.figure(figsize=(6,6))\n",
    "for i in range(len(colors)):\n",
    "    plt.errorbar(freq_array[i],volt_array[i],yerr=err_array[i],fmt='o',color=plot_colors[i])\n",
    "    \n",
    "plt.plot(x,y,color='black')\n",
    "plt.plot(x,yup,color='gray',linestyle='dotted')\n",
    "plt.plot(x,ydown,color='gray',linestyle='dotted')\n",
    "plt.title('Turn on Voltage as a Function of Frequency')\n",
    "plt.ylabel('Turn on Voltage (V)')\n",
    "plt.xlabel('Frequency (THz)')\n",
    "info = ['Linear Fit','Estimated Errors','Estimated Errors','Measured Values']\n",
    "plt.legend(info)\n",
    "\n",
    "plt.show()\n",
    "\n",
    "accepted = 4.13e-15\n",
    "measured = b/(10**12)\n",
    "error = berr/(10**12)\n",
    "\n",
    "print(\"Accepeted h/e in J/s/C units:\",accepted)\n",
    "print(\"Measured h/e from data entered in 5.3.3:\",measured)\n",
    "print(\"Uncertainty on measured h/e:\",error)"
   ]
  },
  {
   "cell_type": "markdown",
   "metadata": {},
   "source": [
    "# 5.4 Reflection Questions"
   ]
  },
  {
   "cell_type": "markdown",
   "metadata": {},
   "source": [
    "1. Explain why and LED's brightness is proportional to the current flowing through it."
   ]
  },
  {
   "cell_type": "markdown",
   "metadata": {},
   "source": []
  },
  {
   "cell_type": "markdown",
   "metadata": {},
   "source": [
    "2. Why must and LED that produces green photons have a bigger voltage drop than one producing red photons? (Explain in words)"
   ]
  },
  {
   "cell_type": "markdown",
   "metadata": {},
   "source": []
  },
  {
   "cell_type": "markdown",
   "metadata": {},
   "source": [
    "3. Explain the difference between photoelectric effect and the inverse photoelectric effect."
   ]
  },
  {
   "cell_type": "markdown",
   "metadata": {},
   "source": []
  },
  {
   "cell_type": "markdown",
   "metadata": {},
   "source": [
    "4. Explain the sign of the y-intercept in the least squares fit in terms of energy balance. (Hint: in the photoelectric effect, the y intercept is the work function of the metal)"
   ]
  },
  {
   "cell_type": "markdown",
   "metadata": {},
   "source": []
  },
  {
   "cell_type": "markdown",
   "metadata": {},
   "source": [
    "5. Consider the dotted lines you produced in the graph in section 5.3.4. Does the uncertainty in the fit to the data seem reasonable?"
   ]
  },
  {
   "cell_type": "markdown",
   "metadata": {},
   "source": []
  },
  {
   "cell_type": "markdown",
   "metadata": {},
   "source": [
    "# 5.5 Extra credit analysis"
   ]
  },
  {
   "cell_type": "markdown",
   "metadata": {},
   "source": [
    "This analysis is optional but worth 10 extra points.\n",
    "\n",
    "You can use python (will need to write a small amount of code) or this can be done with excel or any other computer software or program that allows plotting (or even a graphing calculator).\n",
    "You are welcome to use any plotting software i.e. excel, mathematica, python, to do so.  Insert an image of your graph below or upload a separate image to Canvas.\n",
    "\n",
    "If you are using Python feel free to use the example code above we have given for a comparison model fit."
   ]
  },
  {
   "cell_type": "markdown",
   "metadata": {},
   "source": [
    "Replot the turn-on voltage $V_x$ versus the frequency $\\nu$ using software. Now instead of Tyalor equations use a least-squares model fit or a linear regression to fit a linear curve of the form $y=A+b*x$ to the data, including error bars to y values. \n",
    "\n",
    "**What values do you get for the fitting coefficients A and B?** \n"
   ]
  },
  {
   "cell_type": "markdown",
   "metadata": {},
   "source": []
  },
  {
   "cell_type": "markdown",
   "metadata": {},
   "source": [
    "**Are these equal to the values you computed above using Taylor Chapter 8 equations? Why or why not?**"
   ]
  },
  {
   "cell_type": "markdown",
   "metadata": {},
   "source": []
  }
 ],
 "metadata": {
  "kernelspec": {
   "display_name": "Python 3",
   "language": "python",
   "name": "python3"
  },
  "language_info": {
   "codemirror_mode": {
    "name": "ipython",
    "version": 3
   },
   "file_extension": ".py",
   "mimetype": "text/x-python",
   "name": "python",
   "nbconvert_exporter": "python",
   "pygments_lexer": "ipython3",
   "version": "3.7.4"
  }
 },
 "nbformat": 4,
 "nbformat_minor": 2
}
