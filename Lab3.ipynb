{
 "cells": [
  {
   "cell_type": "markdown",
   "metadata": {},
   "source": [
    "# Lab 3 Notebook\n",
    "written by Corey Beard ccbeard@uci.edu\n",
    "\n",
    "This notebook will attempt to simulate Physics 52C Lab 3. Certain cells will be editable, and are meant to mimic students adjusting settings on laboratory equipment. Certain cells are uneditable, and are meant to simulate nature, producing values as read by your instrument, depending on your settings.\n"
   ]
  },
  {
   "cell_type": "code",
   "execution_count": 1,
   "metadata": {},
   "outputs": [],
   "source": [
    "%matplotlib inline\n",
    "import numpy as np\n",
    "import matplotlib.pyplot as plt\n",
    "import pandas as pd"
   ]
  },
  {
   "cell_type": "markdown",
   "metadata": {},
   "source": [
    "This notebook works best with Python version 3. Most of you should have Version 3 installed, but just in case below will let you check the version. If it is Python Version 2.7 (Python 2) recommend installing verison 3 via conda or pip."
   ]
  },
  {
   "cell_type": "code",
   "execution_count": 2,
   "metadata": {},
   "outputs": [
    {
     "name": "stdout",
     "output_type": "stream",
     "text": [
      "3.7.4\n"
     ]
    }
   ],
   "source": [
    "from platform import python_version\n",
    "print(python_version())"
   ]
  },
  {
   "cell_type": "markdown",
   "metadata": {},
   "source": [
    "## 3.3.2 Geiger Tube Operating Voltage"
   ]
  },
  {
   "cell_type": "markdown",
   "metadata": {},
   "source": [
    "This next cell will imitate determining what voltage to use for the Geiger Counter. The lab manual asks you to take data points at different voltage values to determine which is best. Starting at 710, input voltage values in 10 V intervals when the script asks you to. Delineated by spaces."
   ]
  },
  {
   "cell_type": "code",
   "execution_count": 36,
   "metadata": {},
   "outputs": [
    {
     "name": "stdout",
     "output_type": "stream",
     "text": [
      "Enter the voltage values you are measuring, delineated by spaces:\n"
     ]
    },
    {
     "data": {
      "image/png": "[encoded data removed]",
      "text/plain": [
       "<Figure size 648x432 with 1 Axes>"
      ]
     },
     "metadata": {
      "needs_background": "light"
     },
     "output_type": "display_data"
    }
   ],
   "source": [
    "#Running this cell will imitate students taking data at each voltage value\n",
    "voltages = np.array((list(map(float, input('Enter the voltage values you are measuring, delineated by spaces:').split()))))\n",
    "def counts(v):\n",
    "    if v > 775 and v < 870:\n",
    "        return 108.0 + v*0.001 + np.random.normal(0,0.2)\n",
    "    elif v <= 775:\n",
    "        return v*(0.139)  + np.random.normal(0,0.3)\n",
    "    elif v >= 870 and v < 900:\n",
    "        return v*(0.127)  + np.random.normal(0,0.3)\n",
    "    elif v >= 900:\n",
    "        print('Voltage Too High')\n",
    "\n",
    "vcounts = []\n",
    "for i in range(len(voltages)):\n",
    "    vcounts.append(counts(voltages[i]))\n",
    "\n",
    "#Plot properties\n",
    "fig= plt.figure(figsize=(9,6))\n",
    "plt.scatter(voltages,vcounts,color='k')\n",
    "plt.tick_params(axis='both', which='major', labelsize=25) \n",
    "plt.xlabel('Voltage (V)', fontsize = 25)\n",
    "plt.ylabel('Counts', fontsize = 25)\n",
    "plt.ylim(100,120)\n",
    "plt.title('Counts as a Function of Voltage', fontsize = 25)\n",
    "\n",
    "plt.show()"
   ]
  },
  {
   "cell_type": "markdown",
   "metadata": {},
   "source": [
    "Around what voltage value do the readings begin to level out?"
   ]
  },
  {
   "cell_type": "markdown",
   "metadata": {},
   "source": []
  },
  {
   "cell_type": "markdown",
   "metadata": {},
   "source": [
    "## 3.3.3 Gaussian Distribution"
   ]
  },
  {
   "cell_type": "markdown",
   "metadata": {},
   "source": [
    "Now we will take data in ~6 second intervals, aiming to reach about 100 counts per interval. We will take 100 measurments, and plot this. It should be, approximately, a Gaussian distribution."
   ]
  },
  {
   "cell_type": "markdown",
   "metadata": {},
   "source": [
    "This next cell should be edited by you, and determines what settings and methods to use. Consult the lab manual (text in Section 3.3.3 page 32) to determine these values. Rest of the notebok requires you follow the lab manual and the notebook has section numbers matched to the manual. \n",
    "\n",
    "Note the distance should not be changed, its fixed at 1 m."
   ]
  },
  {
   "cell_type": "code",
   "execution_count": 4,
   "metadata": {},
   "outputs": [],
   "source": [
    "##### Settings #########\n",
    "\n",
    "Timeinterval =  #time interval in seconds\n",
    "\n",
    "Nruns =  #Number of measurments to take\n",
    "\n",
    "Count_Rate =  #the amount of counts expected in a 6 second interval when 1 meter away\n",
    "\n",
    "Distance = 1 #distance of the source from the detector, in meters.\n",
    "            #Should be 1 m until the very last section of lab"
   ]
  },
  {
   "cell_type": "markdown",
   "metadata": {},
   "source": [
    "This next cell represents the readings of your instrument and **should not be edited**"
   ]
  },
  {
   "cell_type": "code",
   "execution_count": 8,
   "metadata": {},
   "outputs": [
    {
     "name": "stdout",
     "output_type": "stream",
     "text": [
      "        Counts\n",
      "0   110.202529\n",
      "1   119.841788\n",
      "2   107.265498\n",
      "3    98.645236\n",
      "4   105.540718\n",
      "5   104.357574\n",
      "6   106.154312\n",
      "7    87.055344\n",
      "8    93.902523\n",
      "9    95.902567\n",
      "10  102.576573\n",
      "11   91.184449\n",
      "12  105.175750\n",
      "13   98.612145\n",
      "14   97.589043\n",
      "15   81.089713\n",
      "16  103.043768\n",
      "17   92.367584\n",
      "18  107.411787\n",
      "19   81.179943\n",
      "20  104.908436\n",
      "21  103.373060\n",
      "22   99.081964\n",
      "23   99.434409\n",
      "24   82.510057\n",
      "25   84.840397\n",
      "26  112.323967\n",
      "27   85.815464\n",
      "28  102.040900\n",
      "29   86.320827\n",
      "30  119.002747\n",
      "31   93.729100\n",
      "32   75.643372\n",
      "33   84.542109\n",
      "34  101.676937\n",
      "35  100.887835\n",
      "36  109.152691\n",
      "37   76.103047\n",
      "38  102.257347\n",
      "39   95.162006\n",
      "40  110.033485\n",
      "41   86.624518\n",
      "42   99.458030\n",
      "43   93.382480\n",
      "44   91.355784\n",
      "45   89.959655\n",
      "46  104.832768\n",
      "47  103.559492\n",
      "48  101.441880\n",
      "49  116.871544\n",
      "50  101.665354\n",
      "51   89.946859\n",
      "52  106.444309\n",
      "53   82.542413\n",
      "54  118.253712\n",
      "55  112.107543\n",
      "56  115.278304\n",
      "57  108.240695\n",
      "58  102.693886\n",
      "59  104.259645\n",
      "60  120.220148\n",
      "61  108.366371\n",
      "62  108.398260\n",
      "63   86.952255\n",
      "64   99.048073\n",
      "65  100.050462\n",
      "66   99.674625\n",
      "67   96.504647\n",
      "68   91.900208\n",
      "69   88.141115\n",
      "70  106.158059\n",
      "71  105.804301\n",
      "72  101.588358\n",
      "73  100.043305\n",
      "74   94.764010\n",
      "75  112.303687\n",
      "76  108.123421\n",
      "77   94.970302\n",
      "78   85.558430\n",
      "79   74.371420\n",
      "80  105.008045\n",
      "81  106.967724\n",
      "82   92.240527\n",
      "83  106.261669\n",
      "84   86.699265\n",
      "85  106.865818\n",
      "86  120.812656\n",
      "87  119.167114\n",
      "88   89.944856\n",
      "89  113.276356\n",
      "90  108.787401\n",
      "91   98.875274\n",
      "92  101.265956\n",
      "93   93.203524\n",
      "94  105.462088\n",
      "95  103.006190\n",
      "96   96.954083\n",
      "97  100.060438\n",
      "98   95.222116\n",
      "99   74.474945\n"
     ]
    }
   ],
   "source": [
    "counts = []\n",
    "for i in range(int(Nruns)):\n",
    "    counts.append(Timeinterval*(1/Distance)**2*Count_Rate/6 + np.random.normal(0,np.sqrt(Count_Rate)))\n",
    "\n",
    "countsdf = pd.DataFrame(counts)    \n",
    "countsdf100 = countsdf.rename(columns={0:'Counts'})\n",
    "pd.set_option(\"display.max_rows\", None, \"display.max_columns\", None)\n",
    "print(countsdf100)"
   ]
  },
  {
   "cell_type": "markdown",
   "metadata": {},
   "source": [
    "Use the next blank cell to plot a histogram of the data with a guassian overlayed, as well as to calculate the mean and standard deviation. Be sure to follow lab manual instructions, including binning the data as instructed."
   ]
  },
  {
   "cell_type": "code",
   "execution_count": null,
   "metadata": {},
   "outputs": [],
   "source": [
    "\n"
   ]
  },
  {
   "cell_type": "markdown",
   "metadata": {},
   "source": [
    "This next cell is an example of how to calculate all these values, and the result you should expect:"
   ]
  },
  {
   "cell_type": "code",
   "execution_count": 12,
   "metadata": {},
   "outputs": [
    {
     "name": "stdout",
     "output_type": "stream",
     "text": [
      "Mean:\n",
      "Counts    99.543554\n",
      "dtype: float64\n",
      "Standard Deviation\n",
      "Counts    10.722003\n",
      "dtype: float64\n",
      "Standard Error on Mean\n",
      "Counts    1.0722\n",
      "dtype: float64\n"
     ]
    },
    {
     "data": {
      "image/png": "[encoded data removed]",
      "text/plain": [
       "<Figure size 432x288 with 1 Axes>"
      ]
     },
     "metadata": {
      "needs_background": "light"
     },
     "output_type": "display_data"
    }
   ],
   "source": [
    "#Now plot a histogram\n",
    "mu = countsdf100.mean()\n",
    "sigma = countsdf100.std()\n",
    "sem = countsdf100.sem()\n",
    "\n",
    "counts = countsdf100.to_numpy()\n",
    "plt.hist(counts)\n",
    "x = np.linspace(60,140,1000)\n",
    "y=[]\n",
    "max = np.max(np.histogram(counts)[0])\n",
    "for i in x:\n",
    "    y.append(max*np.exp(-(0.5)*((i-mu)/sigma)**2))\n",
    "plt.plot(x,y)\n",
    "plt.title('Counts')\n",
    "\n",
    "print('Mean:')\n",
    "print(mu)\n",
    "print('Standard Deviation')\n",
    "print(sigma)\n",
    "print('Standard Error on Mean')\n",
    "print(sem)"
   ]
  },
  {
   "cell_type": "markdown",
   "metadata": {},
   "source": [
    "**Compare your results quantatively to the expected probabilities of falling in each bin. Are your results what you expect?**"
   ]
  },
  {
   "cell_type": "markdown",
   "metadata": {},
   "source": []
  },
  {
   "cell_type": "markdown",
   "metadata": {},
   "source": [
    "# 3.3.4 Standard Deviation"
   ]
  },
  {
   "cell_type": "markdown",
   "metadata": {},
   "source": [
    "In a counting experiment standard deviation $\\sigma$ should be equal to the square root of the average number counts."
   ]
  },
  {
   "cell_type": "markdown",
   "metadata": {},
   "source": [
    "Follow Section 3.3.4 of the manual, page 34.\n",
    "\n",
    "To begin distance remains fixed at 1 m. Now increase the count rate so that you get 1000 counts in a 6 second interval, and then run 10 such intervals. \n",
    "\n",
    "**Edit below to change settings.**"
   ]
  },
  {
   "cell_type": "code",
   "execution_count": 25,
   "metadata": {},
   "outputs": [],
   "source": [
    "##### Settings #########\n",
    "\n",
    "Timeinterval =  #time interval in seconds\n",
    "\n",
    "Nruns =   #Number of measurments to take\n",
    "\n",
    "Count_Rate =   #the amount of counts expected in a 6 second interval when 1 meter away\n",
    "\n",
    "Distance = 1 #distance of the source from the detector, in meters.\n",
    "            #Should be 1 m until the very last section of lab"
   ]
  },
  {
   "cell_type": "markdown",
   "metadata": {},
   "source": [
    "This next cell represents the readings of your counter and **should not be edited.**"
   ]
  },
  {
   "cell_type": "code",
   "execution_count": 26,
   "metadata": {},
   "outputs": [
    {
     "name": "stdout",
     "output_type": "stream",
     "text": [
      "         Counts\n",
      "0    977.682321\n",
      "1   1089.693829\n",
      "2    997.730536\n",
      "3   1003.376444\n",
      "4   1026.340645\n",
      "5   1029.851807\n",
      "6    989.453373\n",
      "7   1001.062850\n",
      "8    999.573254\n",
      "9    995.890956\n",
      "10   985.770862\n",
      "11  1029.484541\n",
      "12  1006.159869\n",
      "13  1026.070072\n",
      "14  1018.164203\n",
      "15   976.980441\n",
      "16   986.095481\n",
      "17  1031.968427\n",
      "18  1024.914669\n",
      "19   986.899846\n",
      "20  1029.725270\n",
      "21  1035.347946\n",
      "22  1001.293435\n",
      "23  1022.715944\n",
      "24  1010.652966\n",
      "25  1036.988682\n",
      "26   982.467608\n",
      "27  1007.546501\n",
      "28  1055.505179\n",
      "29  1030.415696\n",
      "30  1048.760509\n",
      "31  1058.114823\n",
      "32   973.225260\n",
      "33   913.754155\n",
      "34  1019.780964\n",
      "35  1022.481848\n",
      "36  1023.218640\n",
      "37   956.781125\n",
      "38  1007.517661\n",
      "39  1039.621369\n",
      "40  1021.797313\n",
      "41  1039.785088\n",
      "42  1011.173969\n",
      "43  1020.396838\n",
      "44  1014.069220\n",
      "45  1025.124131\n",
      "46  1026.868623\n",
      "47   938.754708\n",
      "48  1062.736676\n",
      "49  1004.092834\n",
      "50  1008.120929\n",
      "51   961.022896\n",
      "52  1001.713334\n",
      "53  1017.163172\n",
      "54  1057.057037\n",
      "55  1002.710589\n",
      "56  1010.270866\n",
      "57   972.014291\n",
      "58  1049.691361\n",
      "59  1030.085456\n",
      "60  1006.267158\n",
      "61  1000.975517\n",
      "62  1074.685730\n",
      "63  1025.956082\n",
      "64  1018.395499\n",
      "65   941.638720\n",
      "66  1045.427065\n",
      "67   987.856412\n",
      "68  1021.857418\n",
      "69   976.912461\n",
      "70  1029.299586\n",
      "71  1008.635028\n",
      "72   991.077666\n",
      "73   991.210718\n",
      "74  1037.831532\n",
      "75  1039.488483\n",
      "76   929.123186\n",
      "77   991.191786\n",
      "78  1010.964749\n",
      "79  1049.889551\n",
      "80   992.465023\n",
      "81  1017.283286\n",
      "82   995.499287\n",
      "83   970.751012\n",
      "84   950.129257\n",
      "85   971.727662\n",
      "86   966.741686\n",
      "87   979.909222\n",
      "88   989.588099\n",
      "89   995.805816\n",
      "90  1015.023160\n",
      "91  1030.158690\n",
      "92   914.188594\n",
      "93  1028.302765\n",
      "94   969.348709\n",
      "95  1049.587692\n",
      "96   982.214043\n",
      "97  1006.139118\n",
      "98   976.812708\n",
      "99  1005.577151\n"
     ]
    }
   ],
   "source": [
    "counts = []\n",
    "for i in range(int(Nruns)):\n",
    "    counts.append(Timeinterval*(1/Distance)**2*Count_Rate/6 + np.random.normal(0,np.sqrt(Count_Rate/6*Timeinterval)))\n",
    "    \n",
    "countsdf1000 = pd.DataFrame(counts)\n",
    "countsdf1000 = countsdf1000.rename(columns={0:'Counts'})\n",
    "pd.set_option(\"display.max_rows\", None, \"display.max_columns\", None)\n",
    "print(countsdf1000)"
   ]
  },
  {
   "cell_type": "markdown",
   "metadata": {},
   "source": [
    "Now calculate the mean and standard deviation of the above data:"
   ]
  },
  {
   "cell_type": "code",
   "execution_count": null,
   "metadata": {},
   "outputs": [],
   "source": []
  },
  {
   "cell_type": "markdown",
   "metadata": {},
   "source": [
    "Now do the same with distance still fixed at 1 m, but in intervals 60 seconds long, instead of 6 seconds long. Count rate remains as the rate above. \n",
    "\n",
    "**Be sure to edit and rerun the settings cell for changes!**"
   ]
  },
  {
   "cell_type": "code",
   "execution_count": 27,
   "metadata": {},
   "outputs": [],
   "source": [
    "##### Settings #########\n",
    "\n",
    "Timeinterval =   #time interval in seconds\n",
    "\n",
    "Nruns =  #Number of measurments to take\n",
    "\n",
    "Count_Rate =  #the amount of counts expected in a 60 second interval when 1 meter away\n",
    "\n",
    "Distance = 1 #distance of the source from the detector, in meters.\n",
    "            #Should be 1 m until the very last section of lab"
   ]
  },
  {
   "cell_type": "markdown",
   "metadata": {},
   "source": [
    "The next cell represents counts measured by your instrument and **should not be edited.**"
   ]
  },
  {
   "cell_type": "code",
   "execution_count": 28,
   "metadata": {},
   "outputs": [
    {
     "name": "stdout",
     "output_type": "stream",
     "text": [
      "          Counts\n",
      "0   10041.687937\n",
      "1   10046.112722\n",
      "2    9995.781786\n",
      "3    9900.265432\n",
      "4   10154.513732\n",
      "5   10123.005817\n",
      "6   10037.942175\n",
      "7    9992.094975\n",
      "8   10137.510343\n",
      "9   10042.235155\n",
      "10   9767.700864\n",
      "11  10020.160705\n",
      "12   9963.643638\n",
      "13  10123.229511\n",
      "14  10035.576605\n",
      "15  10025.035100\n",
      "16  10053.367977\n",
      "17  10060.197664\n",
      "18  10203.790012\n",
      "19   9929.315958\n",
      "20   9885.916005\n",
      "21  10082.763499\n",
      "22   9968.475573\n",
      "23  10000.731308\n",
      "24   9911.690309\n",
      "25   9979.039617\n",
      "26   9986.685033\n",
      "27  10075.589487\n",
      "28   9902.885192\n",
      "29  10147.925255\n",
      "30   9900.641380\n",
      "31  10005.413288\n",
      "32  10053.907046\n",
      "33  10012.926878\n",
      "34  10157.715672\n",
      "35  10091.451584\n",
      "36   9993.339759\n",
      "37  10133.726097\n",
      "38   9869.967032\n",
      "39  10056.384331\n",
      "40   9906.347485\n",
      "41   9871.503171\n",
      "42  10066.778260\n",
      "43   9989.916714\n",
      "44  10272.314823\n",
      "45   9888.392149\n",
      "46  10066.633619\n",
      "47  10101.769484\n",
      "48  10036.984568\n",
      "49   9882.943805\n",
      "50  10078.073643\n",
      "51  10046.270348\n",
      "52  10303.052349\n",
      "53   9919.824074\n",
      "54  10125.395232\n",
      "55   9967.760924\n",
      "56   9874.371853\n",
      "57   9854.387904\n",
      "58   9966.213697\n",
      "59  10103.858206\n",
      "60  10073.291311\n",
      "61  10018.038464\n",
      "62   9972.123013\n",
      "63   9842.365254\n",
      "64  10086.168267\n",
      "65   9863.072138\n",
      "66   9997.707021\n",
      "67  10207.878108\n",
      "68   9979.577964\n",
      "69   9954.403807\n",
      "70   9864.469628\n",
      "71  10108.251575\n",
      "72  10126.965818\n",
      "73   9902.703141\n",
      "74  10027.274298\n",
      "75   9800.261054\n",
      "76   9795.575034\n",
      "77   9957.077526\n",
      "78  10110.765079\n",
      "79   9946.629341\n",
      "80  10045.301516\n",
      "81  10003.939460\n",
      "82  10011.534679\n",
      "83   9996.981950\n",
      "84   9952.655068\n",
      "85   9837.071896\n",
      "86   9981.548061\n",
      "87   9891.374634\n",
      "88   9833.358997\n",
      "89  10011.315975\n",
      "90  10093.521665\n",
      "91   9884.710454\n",
      "92  10003.176046\n",
      "93  10148.570880\n",
      "94  10166.884565\n",
      "95   9889.667845\n",
      "96  10115.123125\n",
      "97  10003.836780\n",
      "98   9840.709878\n",
      "99  10051.674135\n"
     ]
    }
   ],
   "source": [
    "counts = []\n",
    "for i in range(int(Nruns)):\n",
    "    counts.append(Timeinterval*(1/Distance)**2*Count_Rate/6 + np.random.normal(0,np.sqrt(Count_Rate/6*Timeinterval)))\n",
    "    \n",
    "countsdf10000 = pd.DataFrame(counts)\n",
    "countsdf10000 = countsdf10000.rename(columns={0:'Counts'})\n",
    "pd.set_option(\"display.max_rows\", None, \"display.max_columns\", None)\n",
    "print(countsdf10000)"
   ]
  },
  {
   "cell_type": "markdown",
   "metadata": {},
   "source": [
    "Now calculate the mean and standard deviation of the above data:"
   ]
  },
  {
   "cell_type": "code",
   "execution_count": null,
   "metadata": {},
   "outputs": [],
   "source": []
  },
  {
   "cell_type": "markdown",
   "metadata": {},
   "source": [
    "Now change the distance in the settings until the average counts per run is about 10 for a 6 second interval. \n",
    "\n",
    "Note counts go as inverse distance and the rate was set at 1000 counts for a 6 second interval.\n",
    "\n",
    "**Be sure to edit and rerun the settings cell for changes**"
   ]
  },
  {
   "cell_type": "code",
   "execution_count": 29,
   "metadata": {},
   "outputs": [],
   "source": [
    "##### Settings #########\n",
    "\n",
    "Timeinterval =  #time interval in seconds\n",
    "\n",
    "Nruns =  #Number of measurments to take\n",
    "\n",
    "Count_Rate =  #the amount of counts expected in a 6 second interval when 1 meter away\n",
    "\n",
    "Distance =  #distance of the source from the detector, in meters.\n",
    "            #At 1 m count rate is 1000, need a distance so count rate is 10."
   ]
  },
  {
   "cell_type": "markdown",
   "metadata": {},
   "source": [
    "This next cell represents counts measured by your instrument and **should not be edited.**"
   ]
  },
  {
   "cell_type": "code",
   "execution_count": 30,
   "metadata": {},
   "outputs": [
    {
     "name": "stdout",
     "output_type": "stream",
     "text": [
      "       Counts\n",
      "0   11.722346\n",
      "1   12.710150\n",
      "2    4.692488\n",
      "3   11.928203\n",
      "4   11.578920\n",
      "5   11.333808\n",
      "6    9.102510\n",
      "7   11.040433\n",
      "8    6.408161\n",
      "9    7.340046\n",
      "10   5.624088\n",
      "11   9.381952\n",
      "12  12.622031\n",
      "13   8.986260\n",
      "14  10.605386\n",
      "15   6.721530\n",
      "16   8.775728\n",
      "17  10.667928\n",
      "18  11.324156\n",
      "19   9.607175\n",
      "20   4.778036\n",
      "21  15.212064\n",
      "22  11.769083\n",
      "23  13.394249\n",
      "24  13.037651\n",
      "25  10.561922\n",
      "26  10.123416\n",
      "27   8.490052\n",
      "28  13.209958\n",
      "29  13.835064\n",
      "30   7.286244\n",
      "31   6.183271\n",
      "32   9.003639\n",
      "33   9.202118\n",
      "34  10.333893\n",
      "35  11.912223\n",
      "36   7.750155\n",
      "37   5.105002\n",
      "38   9.487377\n",
      "39   8.618649\n",
      "40  10.863103\n",
      "41  14.858777\n",
      "42  11.523852\n",
      "43   3.025855\n",
      "44   3.452367\n",
      "45   3.755276\n",
      "46  16.149319\n",
      "47   8.498628\n",
      "48   8.766796\n",
      "49  14.724385\n",
      "50   7.060439\n",
      "51   7.740045\n",
      "52   9.694047\n",
      "53  15.811319\n",
      "54  11.868837\n",
      "55  17.161984\n",
      "56  12.364025\n",
      "57   8.346857\n",
      "58   0.961173\n",
      "59   9.719128\n",
      "60   8.863871\n",
      "61   8.834047\n",
      "62   7.527729\n",
      "63  13.644275\n",
      "64   0.510959\n",
      "65   9.193338\n",
      "66   7.938799\n",
      "67  12.234230\n",
      "68  13.494122\n",
      "69   9.511339\n",
      "70  11.828444\n",
      "71  11.463631\n",
      "72   4.389962\n",
      "73  15.569151\n",
      "74   9.895301\n",
      "75  10.893963\n",
      "76   7.118619\n",
      "77  12.417962\n",
      "78  14.665863\n",
      "79   6.176253\n",
      "80   8.959516\n",
      "81   6.744576\n",
      "82  13.447282\n",
      "83   6.011538\n",
      "84   7.973393\n",
      "85   5.246583\n",
      "86  12.844838\n",
      "87  13.292013\n",
      "88   7.278671\n",
      "89  11.256352\n",
      "90  18.711831\n",
      "91  11.349745\n",
      "92   8.984078\n",
      "93   4.673364\n",
      "94  11.716300\n",
      "95   7.518635\n",
      "96   8.609974\n",
      "97   8.755022\n",
      "98   4.562682\n",
      "99   8.528278\n"
     ]
    }
   ],
   "source": [
    "counts = []\n",
    "for i in range(int(Nruns)):\n",
    "    counts.append(Timeinterval*(1/Distance)**2*Count_Rate/6 + np.random.normal(0,np.sqrt(Count_Rate)/Distance))\n",
    "    \n",
    "countsdf10 = pd.DataFrame(counts)\n",
    "countsdf10 = countsdf10.rename(columns={0:'Counts'})\n",
    "pd.set_option(\"display.max_rows\", None, \"display.max_columns\", None)\n",
    "print(countsdf10)"
   ]
  },
  {
   "cell_type": "markdown",
   "metadata": {},
   "source": [
    "Now calculate the mean and standard deviation of the above data:"
   ]
  },
  {
   "cell_type": "code",
   "execution_count": null,
   "metadata": {},
   "outputs": [],
   "source": []
  },
  {
   "cell_type": "markdown",
   "metadata": {},
   "source": [
    "Now prepare a table of $\\bar{n}$, $\\sigma$, $\\sqrt{\\bar{n}}$, $\\frac{\\sigma}{\\bar{n}}$, and $\\frac{\\sigma}{\\sqrt{\\bar{n}}}$ for each of the four cases $\\bar{n}$ = 10, 100, 1000, and 10000. Is $\\sigma$ = $\\sqrt{\\bar{n}}$?\n",
    "\n",
    "Below is to help define the table and should not be edited:"
   ]
  },
  {
   "cell_type": "code",
   "execution_count": 31,
   "metadata": {},
   "outputs": [],
   "source": [
    "def values(df):\n",
    "    N = float(df.mean())\n",
    "    sig =float(df.std())\n",
    "    thing = [N,sig,np.sqrt(N),sig/N,sig/np.sqrt(N)]\n",
    "    return thing"
   ]
  },
  {
   "cell_type": "markdown",
   "metadata": {},
   "source": [
    "Below writes data to a table and again should not be edited:"
   ]
  },
  {
   "cell_type": "code",
   "execution_count": 32,
   "metadata": {},
   "outputs": [
    {
     "data": {
      "text/html": [
       "<div>\n",
       "<style scoped>\n",
       "    .dataframe tbody tr th:only-of-type {\n",
       "        vertical-align: middle;\n",
       "    }\n",
       "\n",
       "    .dataframe tbody tr th {\n",
       "        vertical-align: top;\n",
       "    }\n",
       "\n",
       "    .dataframe thead th {\n",
       "        text-align: right;\n",
       "    }\n",
       "</style>\n",
       "<table border=\"1\" class=\"dataframe\">\n",
       "  <thead>\n",
       "    <tr style=\"text-align: right;\">\n",
       "      <th></th>\n",
       "      <th>$n$</th>\n",
       "      <th>$\\sigma$</th>\n",
       "      <th>$\\sqrt{n}$</th>\n",
       "      <th>$\\sigma/n$</th>\n",
       "      <th>$\\sigma/\\sqrt{n}$</th>\n",
       "    </tr>\n",
       "  </thead>\n",
       "  <tbody>\n",
       "    <tr>\n",
       "      <th>10</th>\n",
       "      <td>9.704501</td>\n",
       "      <td>3.451435</td>\n",
       "      <td>3.115205</td>\n",
       "      <td>0.355653</td>\n",
       "      <td>1.107932</td>\n",
       "    </tr>\n",
       "    <tr>\n",
       "      <th>100</th>\n",
       "      <td>99.543554</td>\n",
       "      <td>10.722003</td>\n",
       "      <td>9.977152</td>\n",
       "      <td>0.107712</td>\n",
       "      <td>1.074656</td>\n",
       "    </tr>\n",
       "    <tr>\n",
       "      <th>1000</th>\n",
       "      <td>1007.196667</td>\n",
       "      <td>32.283506</td>\n",
       "      <td>31.736362</td>\n",
       "      <td>0.032053</td>\n",
       "      <td>1.017240</td>\n",
       "    </tr>\n",
       "    <tr>\n",
       "      <th>10000</th>\n",
       "      <td>10005.906902</td>\n",
       "      <td>106.415662</td>\n",
       "      <td>100.029530</td>\n",
       "      <td>0.010635</td>\n",
       "      <td>1.063842</td>\n",
       "    </tr>\n",
       "  </tbody>\n",
       "</table>\n",
       "</div>"
      ],
      "text/plain": [
       "                $n$    $\\sigma$  $\\sqrt{n}$  $\\sigma/n$  $\\sigma/\\sqrt{n}$\n",
       "10         9.704501    3.451435    3.115205    0.355653           1.107932\n",
       "100       99.543554   10.722003    9.977152    0.107712           1.074656\n",
       "1000    1007.196667   32.283506   31.736362    0.032053           1.017240\n",
       "10000  10005.906902  106.415662  100.029530    0.010635           1.063842"
      ]
     },
     "execution_count": 32,
     "metadata": {},
     "output_type": "execute_result"
    }
   ],
   "source": [
    "array = [values(countsdf10),values(countsdf100),values(countsdf1000),values(countsdf10000)]\n",
    "table = pd.DataFrame(array,index=['10','100','1000','10000'],columns=['$n$','$\\sigma$','$\\sqrt{n}$',\\\n",
    "                                                                '$\\sigma/n$'\\\n",
    "                                                                ,'$\\sigma/\\sqrt{n}$'])\n",
    "table"
   ]
  },
  {
   "cell_type": "markdown",
   "metadata": {},
   "source": [
    "Is $\\sigma$ roughly equal to $\\sqrt{n}$? You may want to rerun the notebook with a larger number of runs (100 instead of 10) to see if that makes any difference."
   ]
  },
  {
   "cell_type": "markdown",
   "metadata": {},
   "source": []
  },
  {
   "cell_type": "markdown",
   "metadata": {},
   "source": [
    "# 3.4 Reflection Questions"
   ]
  },
  {
   "cell_type": "markdown",
   "metadata": {},
   "source": [
    "1. The counts increase fairly erratically as time passes. Why is this?"
   ]
  },
  {
   "cell_type": "markdown",
   "metadata": {},
   "source": []
  },
  {
   "cell_type": "markdown",
   "metadata": {},
   "source": [
    "2. Why don't your data in section 3.3.2 on the Geiger tube operating voltage change as smoothly as in figure 3.2 of P52C Lab book?"
   ]
  },
  {
   "cell_type": "markdown",
   "metadata": {},
   "source": []
  },
  {
   "cell_type": "markdown",
   "metadata": {},
   "source": [
    "3. Did your data in section 3.3.3 agree very well with the normal distribution? What could you do to improve their agreement?"
   ]
  },
  {
   "cell_type": "markdown",
   "metadata": {},
   "source": []
  },
  {
   "cell_type": "markdown",
   "metadata": {},
   "source": [
    "4. A reasonable measure of the accuracy of the measurement is the fractional variation in the number of counts $\\frac{\\sigma}{n}$. Ideally, to achieve excellent temporal resolution, one would use very short time bins ($\\Delta t$) but, in practice, the bin duration $\\Delta t$ is determined by the required accuracy. For example, in an x-ray measurement, one may have to sacrifice accuracy to obtain better temporal resolution because the flux of photons is limited. How large does n need to be to achieve $\\sim 10 \\%$ uncertainty in a counting experiment? To achieve $\\sim 1 \\%$ accuracy? "
   ]
  },
  {
   "cell_type": "markdown",
   "metadata": {},
   "source": []
  }
 ],
 "metadata": {
  "kernelspec": {
   "display_name": "Python 3",
   "language": "python",
   "name": "python3"
  },
  "language_info": {
   "codemirror_mode": {
    "name": "ipython",
    "version": 3
   },
   "file_extension": ".py",
   "mimetype": "text/x-python",
   "name": "python",
   "nbconvert_exporter": "python",
   "pygments_lexer": "ipython3",
   "version": "3.7.4"
  }
 },
 "nbformat": 4,
 "nbformat_minor": 2
}
