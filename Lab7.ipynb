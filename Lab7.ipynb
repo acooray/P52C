{
 "cells": [
  {
   "cell_type": "markdown",
   "metadata": {},
   "source": [
    "# Lab 7 Notebook\n",
    "written by Corey Beard ccbeard@uci.edu\n",
    "\n",
    "This notebook will attempt to simulate Physics 52C Lab 6 related to the Rydberg Constant. \n",
    "\n",
    "Certain cells will be editable, and are meant to mimic students adjusting settings on laboratory equipment. Certain cells are uneditable, and are meant to simulate nature, producing values as read by your instrument, depending on your settings.\n"
   ]
  },
  {
   "cell_type": "code",
   "execution_count": 1,
   "metadata": {},
   "outputs": [],
   "source": [
    "%matplotlib inline\n",
    "import numpy as np\n",
    "import matplotlib.pyplot as plt\n",
    "import pandas as pd\n",
    "import scipy.optimize as optimization"
   ]
  },
  {
   "cell_type": "markdown",
   "metadata": {},
   "source": [
    "# Main Function"
   ]
  },
  {
   "cell_type": "markdown",
   "metadata": {},
   "source": [
    "This next cell is a function that simulates some of the physics in this lab, as well as plots the spectra for you. **It should not be edited.**"
   ]
  },
  {
   "cell_type": "code",
   "execution_count": 15,
   "metadata": {},
   "outputs": [],
   "source": [
    "dlab = 10**(-5) #distance between slits in diffraction grating\n",
    "\n",
    "def diffraction(dlab,wavelength,n=1):\n",
    "    theta = np.arcsin(n*wavelength*10**(-9)/dlab)\n",
    "    dist = 0.1*np.tan(theta)\n",
    "    return dist\n",
    "\n",
    "\n",
    "#Create a function that spits out the lines depending on lamp, grating, etc\n",
    "def get_lines(dlab,lamp):\n",
    "   \n",
    "    xdistance = []\n",
    "    if lamp == 'Mercury':\n",
    "        alphas=[0.3,0.3,0.3,0.3,0.3,0.3,0.3,0.3,0.3]\n",
    "        colors = ['violet','violet','blue','cyan','green','yellow','yellow','orange','red']\n",
    "        mercwav = [404.7,407.8,435.8,491.6,546.1,577.0,579.0,615.2,623.4]\n",
    "        for n in range(9):\n",
    "            xdistance.append(diffraction(dlab,wavelength=mercwav[n]))\n",
    "            \n",
    "            \n",
    "    if lamp == 'Hydrogen':\n",
    "        alphas = [0.4,0.3,0.2,0.3,0.2,0.1,0.8,0.7,0.6]\n",
    "        colors = ['violet','violet','violet','blue','blue','blue','red','red','red']\n",
    "        hywav = [434.0,486.1,656.3]\n",
    "        for n in range(len(hywav)):\n",
    "            for j in range(3):\n",
    "                xdistance.append(diffraction(dlab,wavelength=hywav[n],n=j+1))\n",
    "            \n",
    "            \n",
    "    \n",
    "    #plot our distances\n",
    "    plt.figure(figsize=(20,5))\n",
    "    for i in range(len(xdistance)):\n",
    "        plt.axvspan(xdistance[i]-thickness,xdistance[i]+thickness, alpha=alphas[i], color=colors[i])\n",
    "        plt.axvspan(-xdistance[i]-thickness,-xdistance[i]+thickness, alpha=alphas[i], color=colors[i])\n",
    "    plt.xlim(xplotstart,xplotend)\n",
    "    plt.title('Lines of '+ lamp,fontsize=20)\n",
    "    plt.xlabel('Distance from Center of Diffraction Pattern (m)',fontsize=15)\n",
    "    \n",
    "    plt.show()"
   ]
  },
  {
   "cell_type": "markdown",
   "metadata": {},
   "source": [
    "# 7.3.2 Preliminaries"
   ]
  },
  {
   "cell_type": "markdown",
   "metadata": {},
   "source": [
    "We're going to start off our experiment by calibrating our setup. We'll start with a Mercury lamp. You'll want to use the next cell to adjust a couple of settings: the thickness of the lines (feel free to play around with numbers and see what happens), as well as the limits of the plot function. A brief description of each setting is available next to it."
   ]
  },
  {
   "cell_type": "code",
   "execution_count": 16,
   "metadata": {},
   "outputs": [],
   "source": [
    "#Define some variables\n",
    "thickness = 0.00001 #this is a \"focus\" adjustor that affects how thick the lines are, in meters\n",
    "xplotstart = None #The lower x value you will use when plotting the lines, if you want to zoom in\n",
    "xplotend = None #The upper x value you will use when plotting the lines, if you want to zoom in\n",
    "lamp = 'Mercury' #which lamp are you using. For this section it should be Mercury."
   ]
  },
  {
   "cell_type": "markdown",
   "metadata": {},
   "source": [
    "Now, calibrate your setup by measuring the distance from the center to one of the first order lines of Mercury. Compare this to theory, and make sure it agrees. Running the cell below will show an output of what you would expect to see during the experiment. Feel free to adjust the xplot settings above to zoom in on a part, if you're trying to make measurements."
   ]
  },
  {
   "cell_type": "code",
   "execution_count": 17,
   "metadata": {},
   "outputs": [
    {
     "data": {
      "image/png": "[encoded data removed]",
      "text/plain": [
       "<Figure size 1440x360 with 1 Axes>"
      ]
     },
     "metadata": {
      "needs_background": "light"
     },
     "output_type": "display_data"
    }
   ],
   "source": [
    "xplotstart = None\n",
    "xplotend = None\n",
    "get_lines(dlab,lamp)"
   ]
  },
  {
   "cell_type": "markdown",
   "metadata": {},
   "source": [
    "Note that to calculate the angle $\\theta$ the distance between the telescope and the source is 0.1m. Thus, we can convert any x value measured from the spectrum above to any line using the formula: $\\theta=arctan(x/0.1)$ where $x$ is in meters."
   ]
  },
  {
   "cell_type": "markdown",
   "metadata": {},
   "source": [
    "Write your measured $x$ value and compare against the predicted $x$ value for one of the first order lines - say cyan - in the cell below. \n",
    "\n",
    "The predicted line is based on $d=10^{-5}$ m. Mercury line wavelengths are given in Table 7.1 in Angstroms. Note 1 Angstrom = 10$^{-10}$ m."
   ]
  },
  {
   "cell_type": "code",
   "execution_count": 18,
   "metadata": {},
   "outputs": [
    {
     "name": "stdout",
     "output_type": "stream",
     "text": [
      "0.0049219510509934325\n"
     ]
    }
   ],
   "source": [
    "#for cyan - Table identifies as turquoise, 4916 A = 491.6 nm\n",
    "xpredicted=0.1*np.tan(np.arcsin(491.6*1e-9/1e-5))\n",
    "print(xpredicted)"
   ]
  },
  {
   "cell_type": "markdown",
   "metadata": {},
   "source": [
    "Measure as best as you can and write below the x value of same line and compare to the prediction."
   ]
  },
  {
   "cell_type": "code",
   "execution_count": 19,
   "metadata": {},
   "outputs": [],
   "source": [
    "xmeasured = 0.0049 #for cyan"
   ]
  },
  {
   "cell_type": "markdown",
   "metadata": {},
   "source": [
    "**Finally, adjust the thickness until you can make out the yellow doublet (two nearby yellow lines that appear as one). If you cannot see both yellow lines, adjust the thickness until you can.**"
   ]
  },
  {
   "cell_type": "markdown",
   "metadata": {},
   "source": [
    "# 7.3.3 Grating Calibration"
   ]
  },
  {
   "cell_type": "markdown",
   "metadata": {},
   "source": [
    "Now we will measure the diffraction grating distance $d$ to high accuracy. Measure the distance from the center of the diffraction pattern to each first order line, on the right (plus values) and the left (minus values) side. \n",
    "\n",
    "These $x$ values (in meters) can be converted to $\\theta$ (in radians) with $x=0.1*tan(\\theta)$. Use this to obtain $\\theta$ values corresponding to two $x$ values (plus and minus) for each line, convert to degrees.\n",
    "\n",
    "\n",
    "$\\theta$ can be obtained from the two values as $\\theta=1/2*(\\theta_+ - \\theta_{-})$ in degrees. \n",
    "\n",
    "**The table should have columns titled color, order, $\\theta_{+}$, $\\theta_{-}$, $\\theta$, $\\lambda$, and d.** \n",
    "\n",
    "Use table 7.1 in the lab manual to determine wavelength's from color, and use Eq 7.11 to infer the grating spacing d."
   ]
  },
  {
   "cell_type": "code",
   "execution_count": 20,
   "metadata": {},
   "outputs": [
    {
     "name": "stdout",
     "output_type": "stream",
     "text": [
      "[2.30777109 2.30777102 2.49651484 2.86812046 3.11382116 3.30801545\n",
      " 3.26232614 3.51069586 3.55350464]\n"
     ]
    }
   ],
   "source": [
    "color = ['violet','violet','blue','cyan','green','yellow','yellow','orange','red']\n",
    "lam = [404.7,407.8,435.8,502.5,546.1,577.0,579.0,615.2,623.4]  #from Table 7.1\n",
    "order = [1,1,1,1,1,1,1,1,1]\n",
    "\n",
    "#enter your x values here corresponding to each line.\n",
    "\n",
    "xplus = np.array([0.00404,0.00405,0.00437,0.00502,0.00545,0.00579,0.0058,0.00615,0.00622])\n",
    "xminus = np.array([-0.00402,-0.00401,-0.00435,-0.00500,-0.00543,-0.00577,-0.0056,-0.00612,-0.00620])\n",
    "\n",
    "# x values to theta calculation is done here.\n",
    "\n",
    "thetaplus=np.arctan(xplus/0.1)*180/np.pi   # in degrees\n",
    "thetaminus=np.arctan(xminus/0.1)*180/np.pi  #in degrees\n",
    "\n",
    "# we also do the average\n",
    "theta=np.array(0.5*(thetaplus-thetaminus))\n",
    "\n",
    "print(theta)"
   ]
  },
  {
   "cell_type": "markdown",
   "metadata": {},
   "source": [
    "Now convert to $d$ for each line using Eq. 7.11. (Feel free to use python line to do this calculation or use a calculator and enter values). Fill in this array with calculated $d$ values. It is left blank for now."
   ]
  },
  {
   "cell_type": "code",
   "execution_count": 21,
   "metadata": {},
   "outputs": [],
   "source": [
    "d = []"
   ]
  },
  {
   "cell_type": "code",
   "execution_count": 22,
   "metadata": {},
   "outputs": [
    {
     "data": {
      "text/html": [
       "<div>\n",
       "<style scoped>\n",
       "    .dataframe tbody tr th:only-of-type {\n",
       "        vertical-align: middle;\n",
       "    }\n",
       "\n",
       "    .dataframe tbody tr th {\n",
       "        vertical-align: top;\n",
       "    }\n",
       "\n",
       "    .dataframe thead th {\n",
       "        text-align: right;\n",
       "    }\n",
       "</style>\n",
       "<table border=\"1\" class=\"dataframe\">\n",
       "  <thead>\n",
       "    <tr style=\"text-align: right;\">\n",
       "      <th></th>\n",
       "      <th>Color</th>\n",
       "      <th>Order</th>\n",
       "      <th>$\\theta_{+}$ (degrees)</th>\n",
       "      <th>$\\theta_{-}$ (degrees)</th>\n",
       "      <th>$\\theta$ (degrees)</th>\n",
       "      <th>Wavelength (nm)</th>\n",
       "      <th>Calculated d</th>\n",
       "    </tr>\n",
       "  </thead>\n",
       "  <tbody>\n",
       "    <tr>\n",
       "      <th>0</th>\n",
       "      <td>violet</td>\n",
       "      <td>1</td>\n",
       "      <td>2.31349</td>\n",
       "      <td>-2.30205</td>\n",
       "      <td>2.30777</td>\n",
       "      <td>404.7</td>\n",
       "      <td>None</td>\n",
       "    </tr>\n",
       "    <tr>\n",
       "      <th>1</th>\n",
       "      <td>violet</td>\n",
       "      <td>1</td>\n",
       "      <td>2.31921</td>\n",
       "      <td>-2.29633</td>\n",
       "      <td>2.30777</td>\n",
       "      <td>407.8</td>\n",
       "      <td>None</td>\n",
       "    </tr>\n",
       "    <tr>\n",
       "      <th>2</th>\n",
       "      <td>blue</td>\n",
       "      <td>1</td>\n",
       "      <td>2.50223</td>\n",
       "      <td>-2.4908</td>\n",
       "      <td>2.49651</td>\n",
       "      <td>435.8</td>\n",
       "      <td>None</td>\n",
       "    </tr>\n",
       "    <tr>\n",
       "      <th>3</th>\n",
       "      <td>cyan</td>\n",
       "      <td>1</td>\n",
       "      <td>2.87384</td>\n",
       "      <td>-2.86241</td>\n",
       "      <td>2.86812</td>\n",
       "      <td>502.5</td>\n",
       "      <td>None</td>\n",
       "    </tr>\n",
       "    <tr>\n",
       "      <th>4</th>\n",
       "      <td>green</td>\n",
       "      <td>1</td>\n",
       "      <td>3.11953</td>\n",
       "      <td>-3.10811</td>\n",
       "      <td>3.11382</td>\n",
       "      <td>546.1</td>\n",
       "      <td>None</td>\n",
       "    </tr>\n",
       "    <tr>\n",
       "      <th>5</th>\n",
       "      <td>yellow</td>\n",
       "      <td>1</td>\n",
       "      <td>3.31373</td>\n",
       "      <td>-3.3023</td>\n",
       "      <td>3.30802</td>\n",
       "      <td>577</td>\n",
       "      <td>None</td>\n",
       "    </tr>\n",
       "    <tr>\n",
       "      <th>6</th>\n",
       "      <td>yellow</td>\n",
       "      <td>1</td>\n",
       "      <td>3.31944</td>\n",
       "      <td>-3.20522</td>\n",
       "      <td>3.26233</td>\n",
       "      <td>579</td>\n",
       "      <td>None</td>\n",
       "    </tr>\n",
       "    <tr>\n",
       "      <th>7</th>\n",
       "      <td>orange</td>\n",
       "      <td>1</td>\n",
       "      <td>3.51926</td>\n",
       "      <td>-3.50213</td>\n",
       "      <td>3.5107</td>\n",
       "      <td>615.2</td>\n",
       "      <td>None</td>\n",
       "    </tr>\n",
       "    <tr>\n",
       "      <th>8</th>\n",
       "      <td>red</td>\n",
       "      <td>1</td>\n",
       "      <td>3.55921</td>\n",
       "      <td>-3.5478</td>\n",
       "      <td>3.5535</td>\n",
       "      <td>623.4</td>\n",
       "      <td>None</td>\n",
       "    </tr>\n",
       "  </tbody>\n",
       "</table>\n",
       "</div>"
      ],
      "text/plain": [
       "    Color Order $\\theta_{+}$ (degrees) $\\theta_{-}$ (degrees)  \\\n",
       "0  violet     1                2.31349               -2.30205   \n",
       "1  violet     1                2.31921               -2.29633   \n",
       "2    blue     1                2.50223                -2.4908   \n",
       "3    cyan     1                2.87384               -2.86241   \n",
       "4   green     1                3.11953               -3.10811   \n",
       "5  yellow     1                3.31373                -3.3023   \n",
       "6  yellow     1                3.31944               -3.20522   \n",
       "7  orange     1                3.51926               -3.50213   \n",
       "8     red     1                3.55921                -3.5478   \n",
       "\n",
       "  $\\theta$ (degrees) Wavelength (nm) Calculated d  \n",
       "0            2.30777           404.7         None  \n",
       "1            2.30777           407.8         None  \n",
       "2            2.49651           435.8         None  \n",
       "3            2.86812           502.5         None  \n",
       "4            3.11382           546.1         None  \n",
       "5            3.30802             577         None  \n",
       "6            3.26233             579         None  \n",
       "7             3.5107           615.2         None  \n",
       "8             3.5535           623.4         None  "
      ]
     },
     "execution_count": 22,
     "metadata": {},
     "output_type": "execute_result"
    }
   ],
   "source": [
    "table = pd.DataFrame([color,order,thetaplus,thetaminus,theta,lam,d])\n",
    "table = table.transpose()\n",
    "table = table.rename(columns={0:'Color',1:'Order',2:'$\\theta_{+}$ (degrees)',3:'$\\theta_{-}$ (degrees)',4:'$\\theta$ (degrees)',5:'Wavelength (nm)',6:'Calculated d'})\n",
    "\n",
    "table\n"
   ]
  },
  {
   "cell_type": "markdown",
   "metadata": {},
   "source": [
    "Determine the average value of d, and the standard deviation of your data."
   ]
  },
  {
   "cell_type": "code",
   "execution_count": null,
   "metadata": {},
   "outputs": [],
   "source": []
  },
  {
   "cell_type": "markdown",
   "metadata": {},
   "source": [
    "# 7.3.4 The Balmer Spectrum"
   ]
  },
  {
   "cell_type": "markdown",
   "metadata": {},
   "source": [
    "Now we will measure the Balmer spectrum, the first few lines visible using a Hydrogen lamp. Change the lamp variable to Hydrogen (make sure it's surround by ''), and run the function again."
   ]
  },
  {
   "cell_type": "code",
   "execution_count": 23,
   "metadata": {},
   "outputs": [],
   "source": [
    "#Instrument settings\n",
    "thickness = 0.00005 #this is a \"focus\" adjustor that affects how thick the lines are, in meters\n",
    "xplotstart = None #The lower x value you will use when plotting the lines, if you want to zoom in\n",
    "xplotend = None #The upper x value you will use when plotting the lines, if you want to zoom in\n",
    "lamp = 'Hydrogen' #which lamp are you using"
   ]
  },
  {
   "cell_type": "markdown",
   "metadata": {},
   "source": [
    "Run the next cell to get an output of what you expect to see in the lab room:"
   ]
  },
  {
   "cell_type": "code",
   "execution_count": 24,
   "metadata": {},
   "outputs": [
    {
     "data": {
      "image/png": "[encoded data removed]",
      "text/plain": [
       "<Figure size 1440x360 with 1 Axes>"
      ]
     },
     "metadata": {
      "needs_background": "light"
     },
     "output_type": "display_data"
    }
   ],
   "source": [
    "get_lines(dlab,lamp)"
   ]
  },
  {
   "cell_type": "markdown",
   "metadata": {},
   "source": [
    "Now, create another table with similar headings as the Mercury lamp: **The table should have columns titled color, order, $\\theta_{+}$, $\\theta_{-}$, $\\theta$, and $\\lambda$.** \n",
    "\n",
    "Section 7.3.4 recommends that you use lines from many orders as possible. We recommend at least to order 3. There should be 3 lines clearly visible, H$\\alpha$, H$\\beta$, H$\\gamma$. One of the lines is likely only seen till the second order.\n",
    "\n",
    "While the exact wavelengths of these lines are known, the intent of the lab is to measure these line wavelengths using the spectrum. \n",
    "\n",
    "Here for this table $\\lambda$ is the value derived from the measurements, using $d$ from the end of 7.3.3\n",
    "and $n=1,2,3$ for the order and $\\theta$ from the spectrum (converted from $x$)."
   ]
  },
  {
   "cell_type": "code",
   "execution_count": null,
   "metadata": {},
   "outputs": [],
   "source": [
    "\n",
    "\n",
    "\n",
    "\n",
    "\n"
   ]
  },
  {
   "cell_type": "markdown",
   "metadata": {},
   "source": [
    "# 7.3.5 Rydberg Constant"
   ]
  },
  {
   "cell_type": "markdown",
   "metadata": {},
   "source": [
    "Using your measurements from the previous section, including the average value of grating spacing $d$ from Mercury lines, find the **mean value of $\\lambda$ and the standard deviation**, for each of the three colors or the three main lines of the Balmer spectrum."
   ]
  },
  {
   "cell_type": "code",
   "execution_count": null,
   "metadata": {},
   "outputs": [],
   "source": [
    "\n",
    "\n",
    "\n"
   ]
  },
  {
   "cell_type": "markdown",
   "metadata": {},
   "source": [
    "**Now Use your values to calculate the Rydberg constant for each of the three lines using eq. 7.10:**"
   ]
  },
  {
   "cell_type": "code",
   "execution_count": null,
   "metadata": {},
   "outputs": [],
   "source": [
    "R1 =\n",
    "R2 = \n",
    "R3 ="
   ]
  },
  {
   "cell_type": "code",
   "execution_count": null,
   "metadata": {},
   "outputs": [],
   "source": []
  },
  {
   "cell_type": "markdown",
   "metadata": {},
   "source": [
    "There are two sources of uncertainty in these calculations: the error in the measurement of the distance from the center, and the error in the size of the diffraction grating. Using their values and added in quadrature using fractional uncertainties (see lab book, page 72), calculate the error in your measurement of each Rydberg constant:"
   ]
  },
  {
   "cell_type": "code",
   "execution_count": null,
   "metadata": {},
   "outputs": [],
   "source": []
  },
  {
   "cell_type": "markdown",
   "metadata": {},
   "source": [
    "Use equations 7.10 - 7.12 in *An Introduction to Error Analysis* to calculate the weighted average and uncertainty in the final $R_H$."
   ]
  },
  {
   "cell_type": "code",
   "execution_count": null,
   "metadata": {},
   "outputs": [],
   "source": []
  },
  {
   "cell_type": "markdown",
   "metadata": {},
   "source": [
    "Compare the measured value of $R_H$ with the accepted value."
   ]
  },
  {
   "cell_type": "code",
   "execution_count": null,
   "metadata": {},
   "outputs": [],
   "source": []
  },
  {
   "cell_type": "markdown",
   "metadata": {},
   "source": [
    "# 7.4 Reflection Questions"
   ]
  },
  {
   "cell_type": "markdown",
   "metadata": {},
   "source": [
    "1. For a spectrometer, what is the advantage of a narrow slit? Of a wide slit?"
   ]
  },
  {
   "cell_type": "markdown",
   "metadata": {},
   "source": []
  },
  {
   "cell_type": "markdown",
   "metadata": {},
   "source": [
    "2. What properties of the mercury lamp make it a convenient calibration source for the grating?"
   ]
  },
  {
   "cell_type": "markdown",
   "metadata": {},
   "source": []
  },
  {
   "cell_type": "markdown",
   "metadata": {},
   "source": [
    "3. In section 7.3.3, identify a possible source of systematic error in your calculation of d. Does this error affect your measurement, or does it tend to cancel out when calculating d?"
   ]
  },
  {
   "cell_type": "markdown",
   "metadata": {},
   "source": []
  },
  {
   "cell_type": "markdown",
   "metadata": {},
   "source": [
    "4. Compare your weighted average calculations with the values of $R_{H}$ that you calculated from the red, turqoise, and violet lines. Did performing a weighted average improve your agreement with the accepted value of $R_{H}$?"
   ]
  },
  {
   "cell_type": "markdown",
   "metadata": {},
   "source": []
  },
  {
   "cell_type": "markdown",
   "metadata": {},
   "source": [
    "# 7.4 Extra credit"
   ]
  },
  {
   "cell_type": "markdown",
   "metadata": {},
   "source": [
    "This analysis is optional but worth 10 extra points.\n",
    "\n",
    "You can use python (will need to write a small amount of code) or this can be done with excel or any other computer software or program that allows plotting (or even a graphing calculator).\n",
    "You are welcome to use any plotting software i.e. excel, mathematica, python, to do so.  Insert an image of your graph below or upload a separate image to Canvas.\n",
    "\n",
    "If you are using Python feel free to use example codes from Lab 5 or 6 for linear model fits to data."
   ]
  },
  {
   "cell_type": "markdown",
   "metadata": {},
   "source": [
    "1. We can re-write \n",
    "\\begin{equation} \\frac{1}{\\lambda}=R_H\\left(\\frac{1}{4}-\\frac{1}{n_u^2}\\right) \\end{equation}\n",
    "for the experiment in linear form $y=A+B*x$ by using $A=0$, $B=R_H$ when $y=1/\\lambda$ and $x=\\left(\\frac{1}{4}-\\frac{1}{n_u^2}\\right)$.\n",
    "\n",
    "Plot your data in linearized form above (should have 3 data points and an error in the $y$ value).\n",
    "Compute the Rydberg constant (and error) from your data using a weighted (pages 198-199 in Taylor) or unweighted fit (pages 197-198 in Taylor) to the straight line. \n",
    "\n",
    "Use space below for the analysis."
   ]
  },
  {
   "cell_type": "markdown",
   "metadata": {},
   "source": []
  },
  {
   "cell_type": "markdown",
   "metadata": {},
   "source": [
    "Does the value through the line fit agree with the one you calculated above as a separare estimate for each line and the average? Why or why not?"
   ]
  },
  {
   "cell_type": "markdown",
   "metadata": {},
   "source": []
  }
 ],
 "metadata": {
  "kernelspec": {
   "display_name": "Python 3",
   "language": "python",
   "name": "python3"
  },
  "language_info": {
   "codemirror_mode": {
    "name": "ipython",
    "version": 3
   },
   "file_extension": ".py",
   "mimetype": "text/x-python",
   "name": "python",
   "nbconvert_exporter": "python",
   "pygments_lexer": "ipython3",
   "version": "3.7.4"
  }
 },
 "nbformat": 4,
 "nbformat_minor": 2
}
